{
 "cells": [
  {
   "cell_type": "code",
   "execution_count": 8,
   "metadata": {},
   "outputs": [
    {
     "name": "stdout",
     "output_type": "stream",
     "text": [
      "The autoreload extension is already loaded. To reload it, use:\n",
      "  %reload_ext autoreload\n"
     ]
    }
   ],
   "source": [
    "%load_ext autoreload\n",
    "%autoreload 2\n",
    "from qm.QuantumMachinesManager import QuantumMachinesManager\n",
    "from qm.qua import *\n",
    "from qm import SimulationConfig\n",
    "import numpy as np\n",
    "import matplotlib.pyplot as plt\n",
    "config = {\n",
    "    \"version\": 1,\n",
    "    \"controllers\": {\n",
    "        \"con1\": {\n",
    "            \"type\": \"opx1\",\n",
    "            \"analog_outputs\": {\n",
    "                1: {\"offset\": +0.0},\n",
    "                2: {\"offset\": +0.0},\n",
    "            },\n",
    "        }\n",
    "    },\n",
    "    \"elements\": {\n",
    "        \"qe1\": {\n",
    "            \"singleInput\": {\"port\": (\"con1\", 1)},\n",
    "            \"intermediate_frequency\": 5e6,\n",
    "            \"operations\": {\n",
    "                \"playOp\": \"constPulse\",\n",
    "            },\n",
    "        },\n",
    "        \"qe2\": {\n",
    "            \"singleInput\": {\"port\": (\"con1\", 2)},\n",
    "            \"intermediate_frequency\": 5e6,\n",
    "            \"operations\": {\n",
    "                \"playOp\": \"constPulse\",\n",
    "            },\n",
    "        },\n",
    "    },\n",
    "    \"pulses\": {\n",
    "        \"constPulse\": {\n",
    "            \"operation\": \"control\",\n",
    "            \"length\": 1000,  # in ns\n",
    "            \"waveforms\": {\"single\": \"const_wf\"},\n",
    "        },\n",
    "    },\n",
    "    \"waveforms\": {\n",
    "        \"const_wf\": {\"type\": \"constant\", \"sample\": 0.2},\n",
    "    },\n",
    "}\n"
   ]
  },
  {
   "cell_type": "markdown",
   "metadata": {},
   "source": [
    "# QUA Variables and math"
   ]
  },
  {
   "cell_type": "markdown",
   "metadata": {},
   "source": [
    "The QUA langaugage has variables of three data types: `int`egers, `fixed` point numbers and `booleans`. You can also have vectors of such types (but not of mixed types). These variables can be populated by mathematical operations or measurements. There are also reserved variables you can write directly from python, but this will not be covered in this demo.\n",
    "\n",
    "The `fixed` point data type may be less familiar to some. It's a way to represent decimal numbers on hardware. Because there is a finite amount or memory allocated for each number, you need to decide on a way to represent the integer part and the decimal part of this number. On a personal computer, this is done with a floating-point representation which is able to decide how many bits are allocated for the integer part and how many are for the decimal (hence -floating point). This is computationally intensive so, for the time being, we have a fixed representation. We allocate 4 bits for the integer part and 28 for the decimal, giving a number range between -2 and 2 (in fact, slighly less so try not to get to 2 exactly).\n",
    "\n",
    "QUA's real time mathematics capabilities are extensive. We include arithmatic operations, trigonometry, vector operations, random number generation and more. \n",
    "\n",
    "The following example show the simplest possible example: storing a number to a variable and then saving it to be read outside the program."
   ]
  },
  {
   "cell_type": "code",
   "execution_count": 2,
   "metadata": {},
   "outputs": [
    {
     "name": "stdout",
     "output_type": "stream",
     "text": [
      "2021-04-01 08:54:02,908 - qm - INFO - Performing health check\n",
      "2021-04-01 08:54:03,146 - qm - INFO - Health check passed\n",
      "2021-04-01 08:54:03,326 - qm - INFO - to simulate a program, use QuantumMachinesManager.simulate(..)\n",
      "2021-04-01 08:54:03,363 - qm - INFO - Flags: \n",
      "2021-04-01 08:54:03,364 - qm - INFO - Simulating Qua program\n",
      "\n",
      "The program returned the value: a=[10]\n"
     ]
    }
   ],
   "source": [
    "with program() as prog:\n",
    "    a = declare(int,value=10)\n",
    "    save(a,\"a\")\n",
    "\n",
    "QMm = QuantumMachinesManager()\n",
    "QMm.close_all_quantum_machines()\n",
    "\n",
    "QM1 = QMm.open_qm(config)\n",
    "job = QM1.simulate(prog, SimulationConfig(int(1000)))  # in clock cycles, 4 ns\n",
    "res=job.result_handles\n",
    "\n",
    "a = res.a.fetch_all()['value']\n",
    "\n",
    "print(f\"\\nThe program returned the value: a={a}\")\n",
    "\n",
    "    "
   ]
  },
  {
   "cell_type": "markdown",
   "metadata": {},
   "source": [
    "## Arithmatic"
   ]
  },
  {
   "cell_type": "markdown",
   "metadata": {},
   "source": [
    "A program can also perform basic mathematical operations on variables, as is shown below:"
   ]
  },
  {
   "cell_type": "code",
   "execution_count": 3,
   "metadata": {},
   "outputs": [
    {
     "name": "stdout",
     "output_type": "stream",
     "text": [
      "2021-04-01 08:54:05,109 - qm - INFO - Performing health check\n",
      "2021-04-01 08:54:05,116 - qm - INFO - Health check passed\n",
      "2021-04-01 08:54:05,148 - qm - INFO - to simulate a program, use QuantumMachinesManager.simulate(..)\n",
      "2021-04-01 08:54:05,161 - qm - INFO - Flags: \n",
      "2021-04-01 08:54:05,162 - qm - INFO - Simulating Qua program\n",
      "\n",
      "The program returned the value: a=[22]\n"
     ]
    }
   ],
   "source": [
    "with program() as prog:\n",
    "    a = declare(int,value=10)\n",
    "    assign(a,2*(a+1))\n",
    "    save(a,\"a\")\n",
    "\n",
    "QMm = QuantumMachinesManager()\n",
    "QMm.close_all_quantum_machines()\n",
    "\n",
    "QM1 = QMm.open_qm(config)\n",
    "job = QM1.simulate(prog, SimulationConfig(int(1000)))  # in clock cycles, 4 ns\n",
    "res=job.result_handles\n",
    "\n",
    "a = res.a.fetch_all()['value']\n",
    "\n",
    "print(f\"\\nThe program returned the value: a={a}\")\n",
    "\n",
    "    "
   ]
  },
  {
   "cell_type": "markdown",
   "metadata": {},
   "source": [
    "## Trigonometry"
   ]
  },
  {
   "cell_type": "markdown",
   "metadata": {},
   "source": [
    "Trigonometric operations return fixed point numbers. We have `cos`, `sin` implemented, as well as `cos2pi` and `sin2pi` for which `cos2pi(arg)=cos(2pi * arg)`. This solves you the head scratching moment you may encounter when trying to represent $\\pi$ using a fixed point number. "
   ]
  },
  {
   "cell_type": "code",
   "execution_count": 11,
   "metadata": {},
   "outputs": [
    {
     "name": "stdout",
     "output_type": "stream",
     "text": [
      "2021-04-01 14:15:10,964 - qm - INFO - Performing health check\n",
      "2021-04-01 14:15:10,981 - qm - INFO - Health check passed\n",
      "2021-04-01 14:15:10,997 - qm - INFO - to simulate a program, use QuantumMachinesManager.simulate(..)\n",
      "2021-04-01 14:15:11,004 - qm - INFO - Flags: \n",
      "2021-04-01 14:15:11,005 - qm - INFO - Simulating Qua program\n",
      "\n",
      "The program returned the value: a=[-1.]\n"
     ]
    }
   ],
   "source": [
    "with program() as prog:\n",
    "    a = declare(fixed)\n",
    "    assign(a,Math.cos2pi(0.5))\n",
    "    save(a,\"a\")\n",
    "\n",
    "QMm = QuantumMachinesManager()\n",
    "QMm.close_all_quantum_machines()\n",
    "\n",
    "QM1 = QMm.open_qm(config)\n",
    "job = QM1.simulate(prog, SimulationConfig(int(1000)))  # in clock cycles, 4 ns\n",
    "res=job.result_handles\n",
    "\n",
    "a = res.a.fetch_all()['value']\n",
    "\n",
    "print(f\"\\nThe program returned the value: a={a}\")\n"
   ]
  },
  {
   "cell_type": "markdown",
   "metadata": {},
   "source": [
    "## Using variables when playing pulses"
   ]
  },
  {
   "cell_type": "markdown",
   "metadata": {},
   "source": [
    "The example below shows how random numbers can be generated in QUA. The randomly generated integer is then used to play a pulse with a random duration. \n",
    "\n",
    "Run it a few times and see. "
   ]
  },
  {
   "cell_type": "code",
   "execution_count": 5,
   "metadata": {},
   "outputs": [
    {
     "name": "stdout",
     "output_type": "stream",
     "text": [
      "2021-04-01 08:54:09,492 - qm - INFO - Performing health check\n",
      "2021-04-01 08:54:09,496 - qm - INFO - Health check passed\n",
      "2021-04-01 08:54:09,518 - qm - INFO - to simulate a program, use QuantumMachinesManager.simulate(..)\n",
      "2021-04-01 08:54:09,531 - qm - INFO - Flags: \n",
      "2021-04-01 08:54:09,534 - qm - INFO - Simulating Qua program\n",
      "\n",
      "The program returned the value: a=[2]\n",
      "\n",
      "The program returned the value: b=[0.00320124]\n"
     ]
    },
    {
     "data": {
      "image/png": "[encoded data removed]",
      "text/plain": [
       "<Figure size 432x288 with 1 Axes>"
      ]
     },
     "metadata": {
      "needs_background": "light"
     },
     "output_type": "display_data"
    }
   ],
   "source": [
    "with program() as prog:\n",
    "    r = Random()\n",
    "    a = declare(int)\n",
    "    b = declare(fixed)\n",
    "    assign(a, r.rand_int(10)) # a will be a number between 0 and 9\n",
    "    assign(b, r.rand_fixed()) # b will be a number between 0.0 and 1.0\n",
    "    play(\"playOp\",\"qe1\",duration=100*a)\n",
    "\n",
    "    save(a,\"a\")\n",
    "    save(b,\"b\")\n",
    "\n",
    "QMm = QuantumMachinesManager()\n",
    "QMm.close_all_quantum_machines()\n",
    "\n",
    "QM1 = QMm.open_qm(config)\n",
    "job = QM1.simulate(prog, SimulationConfig(int(1000)))  # in clock cycles, 4 ns\n",
    "res=job.result_handles\n",
    "\n",
    "a = res.a.fetch_all()['value']\n",
    "b = res.b.fetch_all()['value']\n",
    "\n",
    "print(f\"\\nThe program returned the value: a={a}\")\n",
    "print(f\"\\nThe program returned the value: b={b}\")\n",
    "\n",
    "\n",
    "samples = job.get_simulated_samples()\n",
    "samples.con1.plot()\n"
   ]
  },
  {
   "cell_type": "markdown",
   "metadata": {},
   "source": [
    "## Vectors and vector operations"
   ]
  },
  {
   "cell_type": "code",
   "execution_count": 13,
   "metadata": {},
   "outputs": [
    {
     "name": "stdout",
     "output_type": "stream",
     "text": [
      "2021-04-01 14:16:12,280 - qm - INFO - Performing health check\n",
      "2021-04-01 14:16:12,285 - qm - INFO - Health check passed\n",
      "2021-04-01 14:16:12,309 - qm - INFO - to simulate a program, use QuantumMachinesManager.simulate(..)\n",
      "2021-04-01 14:16:12,322 - qm - INFO - Flags: \n",
      "2021-04-01 14:16:12,324 - qm - INFO - Simulating Qua program\n"
     ]
    },
    {
     "data": {
      "image/png": "[encoded data removed]",
      "text/plain": [
       "<Figure size 432x288 with 1 Axes>"
      ]
     },
     "metadata": {
      "needs_background": "light"
     },
     "output_type": "display_data"
    }
   ],
   "source": [
    "with program() as prog:\n",
    "        play('playOp','qe1')\n",
    "QMm = QuantumMachinesManager()\n",
    "QMm.close_all_quantum_machines()\n",
    "\n",
    "QM1 = QMm.open_qm(config)\n",
    "job = QM1.simulate(prog, SimulationConfig(int(1000)))  # in clock cycles, 4 ns\n",
    "res=job.result_handles\n",
    "\n",
    "# a = res.a.fetch_all()['value']\n",
    "# b = res.b.fetch_all()['value']\n",
    "\n",
    "\n",
    "\n",
    "samples = job.get_simulated_samples()\n",
    "samples.con1.plot()"
   ]
  },
  {
   "cell_type": "markdown",
   "metadata": {},
   "source": [
    "## More math"
   ]
  },
  {
   "cell_type": "markdown",
   "metadata": {},
   "source": [
    "There are more mathematical operations defined in QUA (and the list is rapidly growing). Here's a current list:"
   ]
  },
  {
   "cell_type": "code",
   "execution_count": 22,
   "metadata": {},
   "outputs": [
    {
     "name": "stdout",
     "output_type": "stream",
     "text": [
      "['abs', 'argmax', 'argmin', 'cos', 'cos2pi', 'div', 'dot', 'exp', 'inv', 'inv_sqrt', 'ln', 'log', 'log10', 'log2', 'max', 'min', 'pow', 'pow2', 'sin', 'sin2pi', 'sqrt', 'sum']\n"
     ]
    }
   ],
   "source": [
    "method_list = [method for method in dir(Math) if method.startswith('__') is False]\n",
    "\n",
    "print(method_list)"
   ]
  },
  {
   "cell_type": "markdown",
   "metadata": {},
   "source": [
    "## Excercises"
   ]
  },
  {
   "cell_type": "markdown",
   "metadata": {},
   "source": [
    "1. Use a few of the methods above in a QUA program"
   ]
  }
 ],
 "metadata": {
  "kernelspec": {
   "display_name": "Python 3",
   "language": "python",
   "name": "python3"
  },
  "language_info": {
   "codemirror_mode": {
    "name": "ipython",
    "version": 3
   },
   "file_extension": ".py",
   "mimetype": "text/x-python",
   "name": "python",
   "nbconvert_exporter": "python",
   "pygments_lexer": "ipython3",
   "version": "3.8.5"
  }
 },
 "nbformat": 4,
 "nbformat_minor": 4
}
