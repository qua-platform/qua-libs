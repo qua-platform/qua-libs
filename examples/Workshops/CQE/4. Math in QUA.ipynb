{
 "cells": [
  {
   "cell_type": "code",
   "execution_count": 1,
   "metadata": {
    "jupyter": {
     "source_hidden": true
    }
   },
   "outputs": [],
   "source": [
    "%load_ext autoreload\n",
    "%autoreload 2\n",
    "from qm.QuantumMachinesManager import QuantumMachinesManager\n",
    "from qm.qua import *\n",
    "from qm import SimulationConfig\n",
    "import numpy as np\n",
    "import matplotlib.pyplot as plt\n",
    "config = {\n",
    "    \"version\": 1,\n",
    "    \"controllers\": {\n",
    "        \"con1\": {\n",
    "            \"type\": \"opx1\",\n",
    "            \"analog_outputs\": {\n",
    "                1: {\"offset\": +0.0},\n",
    "                2: {\"offset\": +0.0},\n",
    "            },\n",
    "        }\n",
    "    },\n",
    "    \"elements\": {\n",
    "        \"qe1\": {\n",
    "            \"singleInput\": {\"port\": (\"con1\", 1)},\n",
    "            \"intermediate_frequency\": 5e6,\n",
    "            \"operations\": {\n",
    "                \"playOp\": \"constPulse\",\n",
    "            },\n",
    "        },\n",
    "        \"qe2\": {\n",
    "            \"singleInput\": {\"port\": (\"con1\", 2)},\n",
    "            \"intermediate_frequency\": 5e6,\n",
    "            \"operations\": {\n",
    "                \"playOp\": \"constPulse\",\n",
    "            },\n",
    "        },\n",
    "    },\n",
    "    \"pulses\": {\n",
    "        \"constPulse\": {\n",
    "            \"operation\": \"control\",\n",
    "            \"length\": 1000,  # in ns\n",
    "            \"waveforms\": {\"single\": \"const_wf\"},\n",
    "        },\n",
    "    },\n",
    "    \"waveforms\": {\n",
    "        \"const_wf\": {\"type\": \"constant\", \"sample\": 0.2},\n",
    "    },\n",
    "}\n"
   ]
  },
  {
   "cell_type": "markdown",
   "metadata": {},
   "source": [
    "# QUA variables and math"
   ]
  },
  {
   "cell_type": "markdown",
   "metadata": {},
   "source": [
    "The QUA langaugage has variables of three data types: `int`egers, `fixed` point numbers and `booleans`. You can also have vectors of such types (but not of mixed types). These variables can be populated by mathematical operations or measurements. There are also reserved varibales you can write directly to from python, but this will not be covered in this demo.\n",
    "\n",
    "The `fixed` point data type may be less familiar to some. It's a way to represent decimal numbers on hardware. Because there is a finite amount or memory allocated for each number, you need to decide on a way to represent the integer part and the decimal part of this number. On a personal computer, this is done with a floating-point representation which is able to decide how many bits are allocated for the integer part and how many are for the decimal (hence -floating point). This is computationally intensive so, for the time being, we have a fixed representation. We allocate 4 bits for the integer part and 28 for the decimal, giving a number range between -2 and 2 (in fact, slighly less so try not to get to 2 exactly).\n",
    "\n",
    "QUA's real time mathematics capabilities are extensive. We include arithmatic operations, trigonometry, vector operations, random number generation and more. Read about it in the [docs](https://qm-docs.s3.amazonaws.com/v0.8/python/qua_ref.html?highlight=math).\n",
    "\n",
    "The following example show the simplest possible example: storing a number to a variable and then saving it to be read outside the program."
   ]
  },
  {
   "cell_type": "code",
   "execution_count": 2,
   "metadata": {},
   "outputs": [
    {
     "name": "stdout",
     "output_type": "stream",
     "text": [
      "2021-03-30 19:05:04,908 - qm - INFO - Performing health check\n",
      "2021-03-30 19:05:04,915 - qm - INFO - Health check passed\n",
      "2021-03-30 19:05:04,926 - qm - INFO - to simulate a program, use QuantumMachinesManager.simulate(..)\n",
      "2021-03-30 19:05:04,931 - qm - INFO - Flags: \n",
      "2021-03-30 19:05:04,931 - qm - INFO - Simulating Qua program\n",
      "\n",
      "The program returned the value: a=[10]\n"
     ]
    }
   ],
   "source": [
    "with program() as prog:\n",
    "    a = declare(int,value=10)\n",
    "    save(a,\"a\")\n",
    "\n",
    "QMm = QuantumMachinesManager()\n",
    "QMm.close_all_quantum_machines()\n",
    "\n",
    "QM1 = QMm.open_qm(config)\n",
    "job = QM1.simulate(prog, SimulationConfig(int(1000)))  # in clock cycles, 4 ns\n",
    "res=job.result_handles\n",
    "\n",
    "a = res.a.fetch_all()['value']\n",
    "\n",
    "print(f\"\\nThe program returned the value: a={a}\")\n",
    "\n",
    "    "
   ]
  },
  {
   "cell_type": "markdown",
   "metadata": {},
   "source": [
    "## Arithmatic"
   ]
  },
  {
   "cell_type": "markdown",
   "metadata": {},
   "source": [
    "A program can also perform basic mathematical operations on variables, as is shown below:"
   ]
  },
  {
   "cell_type": "code",
   "execution_count": 19,
   "metadata": {},
   "outputs": [
    {
     "name": "stdout",
     "output_type": "stream",
     "text": [
      "2021-03-30 17:54:49,672 - qm - INFO - Performing health check\n",
      "2021-03-30 17:54:49,675 - qm - INFO - Health check passed\n",
      "2021-03-30 17:54:49,678 - qm - WARNING - Client's version (0.90.690) does not match the server version (0.91.781).\n",
      "2021-03-30 17:54:49,687 - qm - INFO - to simulate a program, use QuantumMachinesManager.simulate(..)\n",
      "2021-03-30 17:54:49,695 - qm - INFO - Flags: \n",
      "2021-03-30 17:54:49,696 - qm - INFO - Simulating Qua program\n",
      "\n",
      "The program returned the value: a=[22]\n"
     ]
    }
   ],
   "source": [
    "with program() as prog:\n",
    "    a = declare(int,value=10)\n",
    "    assign(a,2*(a+1))\n",
    "    save(a,\"a\")\n",
    "\n",
    "QMm = QuantumMachinesManager()\n",
    "QMm.close_all_quantum_machines()\n",
    "\n",
    "QM1 = QMm.open_qm(config)\n",
    "job = QM1.simulate(prog, SimulationConfig(int(1000)))  # in clock cycles, 4 ns\n",
    "res=job.result_handles\n",
    "\n",
    "a = res.a.fetch_all()['value']\n",
    "\n",
    "print(f\"\\nThe program returned the value: a={a}\")\n",
    "\n",
    "    "
   ]
  },
  {
   "cell_type": "markdown",
   "metadata": {},
   "source": [
    "## Trigonometry"
   ]
  },
  {
   "cell_type": "markdown",
   "metadata": {},
   "source": [
    "Trigonometric operations return fixed point numbers. We have `cos`, `sin` implemented, as well as `cos2pi` and `sin2pi` for which `cos2pi(arg)=cos(2pi * arg)`. This solves you the head scratching moment you may encounter when trying to represent $\\pi$ using a fixed point number. "
   ]
  },
  {
   "cell_type": "code",
   "execution_count": 3,
   "metadata": {},
   "outputs": [
    {
     "name": "stdout",
     "output_type": "stream",
     "text": [
      "2021-03-30 18:48:47,156 - qm - INFO - Performing health check\n",
      "2021-03-30 18:48:47,159 - qm - INFO - Health check passed\n",
      "2021-03-30 18:48:47,162 - qm - WARNING - Client's version (0.90.690) does not match the server version (0.91.781).\n",
      "2021-03-30 18:48:47,171 - qm - INFO - to simulate a program, use QuantumMachinesManager.simulate(..)\n",
      "2021-03-30 18:48:47,177 - qm - INFO - Flags: \n",
      "2021-03-30 18:48:47,180 - qm - INFO - Simulating Qua program\n",
      "\n",
      "The program returned the value: a=[-1.]\n"
     ]
    }
   ],
   "source": [
    "with program() as prog:\n",
    "    a = declare(fixed)\n",
    "    assign(a,Math.cos2pi(0.5))\n",
    "    save(a,\"a\")\n",
    "\n",
    "QMm = QuantumMachinesManager()\n",
    "QMm.close_all_quantum_machines()\n",
    "\n",
    "QM1 = QMm.open_qm(config)\n",
    "job = QM1.simulate(prog, SimulationConfig(int(1000)))  # in clock cycles, 4 ns\n",
    "res=job.result_handles\n",
    "\n",
    "a = res.a.fetch_all()['value']\n",
    "\n",
    "print(f\"\\nThe program returned the value: a={a}\")\n"
   ]
  },
  {
   "cell_type": "markdown",
   "metadata": {},
   "source": [
    "## Using variables when playing pulses"
   ]
  },
  {
   "cell_type": "markdown",
   "metadata": {},
   "source": [
    "The example below shows how random numbers can be generated in QUA. The randomly generated integer is then used to play a pulse with a random duration. \n",
    "\n",
    "Run it a few time and see. "
   ]
  },
  {
   "cell_type": "code",
   "execution_count": 12,
   "metadata": {},
   "outputs": [
    {
     "name": "stdout",
     "output_type": "stream",
     "text": [
      "2021-03-30 19:06:32,554 - qm - INFO - Performing health check\n",
      "2021-03-30 19:06:32,557 - qm - INFO - Health check passed\n",
      "2021-03-30 19:06:32,566 - qm - INFO - to simulate a program, use QuantumMachinesManager.simulate(..)\n",
      "2021-03-30 19:06:32,574 - qm - INFO - Flags: \n",
      "2021-03-30 19:06:32,575 - qm - INFO - Simulating Qua program\n",
      "\n",
      "The program returned the value: a=[8]\n",
      "\n",
      "The program returned the value: b=[0.29860035]\n"
     ]
    },
    {
     "data": {
      "image/png": "[encoded data removed]",
      "text/plain": [
       "<Figure size 432x288 with 1 Axes>"
      ]
     },
     "metadata": {
      "needs_background": "light"
     },
     "output_type": "display_data"
    }
   ],
   "source": [
    "with program() as prog:\n",
    "    r = Random()\n",
    "    a = declare(int)\n",
    "    b = declare(fixed)\n",
    "    assign(a, r.rand_int(10)) # a will be a number between 0 and 9\n",
    "    assign(b, r.rand_fixed()) # b will be a number between 0.0 and 1.0\n",
    "    play(\"playOp\",\"qe1\",duration=100*a)\n",
    "\n",
    "    save(a,\"a\")\n",
    "    save(b,\"b\")\n",
    "\n",
    "QMm = QuantumMachinesManager()\n",
    "QMm.close_all_quantum_machines()\n",
    "\n",
    "QM1 = QMm.open_qm(config)\n",
    "job = QM1.simulate(prog, SimulationConfig(int(1000)))  # in clock cycles, 4 ns\n",
    "res=job.result_handles\n",
    "\n",
    "a = res.a.fetch_all()['value']\n",
    "b = res.b.fetch_all()['value']\n",
    "\n",
    "print(f\"\\nThe program returned the value: a={a}\")\n",
    "print(f\"\\nThe program returned the value: b={b}\")\n",
    "\n",
    "\n",
    "samples = job.get_simulated_samples()\n",
    "samples.con1.plot()\n"
   ]
  },
  {
   "cell_type": "markdown",
   "metadata": {},
   "source": [
    "## Vectors and vector operations"
   ]
  },
  {
   "cell_type": "code",
   "execution_count": null,
   "metadata": {},
   "outputs": [],
   "source": []
  }
 ],
 "metadata": {
  "kernelspec": {
   "display_name": "qua-libs",
   "language": "python",
   "name": "qua-libs"
  },
  "language_info": {
   "codemirror_mode": {
    "name": "ipython",
    "version": 3
   },
   "file_extension": ".py",
   "mimetype": "text/x-python",
   "name": "python",
   "nbconvert_exporter": "python",
   "pygments_lexer": "ipython3",
   "version": "3.8.8"
  }
 },
 "nbformat": 4,
 "nbformat_minor": 4
}
