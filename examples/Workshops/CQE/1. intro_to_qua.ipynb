{
 "cells": [
  {
   "cell_type": "code",
   "execution_count": null,
   "metadata": {},
   "outputs": [],
   "source": [
    "%load_ext autoreload\n",
    "%autoreload 2\n",
    "ip='127.0.0.1'"
   ]
  },
  {
   "cell_type": "markdown",
   "metadata": {
    "deletable": false
   },
   "source": [
    "# Intro to QUA"
   ]
  },
  {
   "cell_type": "markdown",
   "metadata": {
    "deletable": false
   },
   "source": [
    "This notebook will show you the basics of how to play and mainpulate pulses using QUA. \n",
    "\n",
    "We don't go into all the details, and try to just get you playing pulses as quickly as possible. \n",
    "\n",
    "We begin by importing the usual suspects: numpy and matplotlib. In addition, we also bring the QUA packages into the party"
   ]
  },
  {
   "cell_type": "code",
   "execution_count": null,
   "metadata": {},
   "outputs": [],
   "source": [
    "from qm.QuantumMachinesManager import QuantumMachinesManager\n",
    "from qm.qua import *\n",
    "from qm import SimulationConfig\n",
    "import numpy as np\n",
    "import matplotlib.pyplot as plt"
   ]
  },
  {
   "cell_type": "markdown",
   "metadata": {},
   "source": [
    "## Configuration"
   ]
  },
  {
   "cell_type": "markdown",
   "metadata": {
    "deletable": false
   },
   "source": [
    "Our next step is to introduce the quantum machine configuration. This dictionary defines how our experiment is set up. \n",
    "For example, here we specify which physical outputs are connected to which parts of our system. We also describe the pulses the system will generate and can describe many more parameters. \n",
    "\n",
    "Observe the following section of the config. It defines the _elements_ we connect the OPX to:\n",
    "\n",
    "```python\n",
    "  \n",
    "        \"qe1\": {\n",
    "            \"singleInput\": {\"port\": (\"con1\", 1)},\n",
    "            \"intermediate_frequency\": 5e6,\n",
    "            \"operations\": {\n",
    "                \"playOp\": \"constPulse\",\n",
    "            },\n",
    "        },\n",
    "  \n",
    "\n",
    "```\n",
    "\n",
    "This snippet defines a single _Quantum Element_, called ```\"qe1\"```. This is the name we give the device connected some port of the OPX, in this case: port number 1.\n",
    "This element is set with a numerically controlled oscillator frequency of 5 MHz. We refer to this as the intermediate frequency (IF) as it is often used to control a higher frequency sent to the experiment using an IQ mixer. \n",
    "\n",
    "The full configuration is shown below, you can skim over it for now. No need to read every row.\n"
   ]
  },
  {
   "cell_type": "code",
   "execution_count": null,
   "metadata": {},
   "outputs": [],
   "source": [
    "config = {\n",
    "    \"version\": 1,\n",
    "    \"controllers\": {\n",
    "        \"con1\": {\n",
    "            \"type\": \"opx1\",\n",
    "            \"analog_outputs\": {\n",
    "                1: {\"offset\": +0.0},\n",
    "                2: {\"offset\": +0.0},\n",
    "            },\n",
    "        }\n",
    "    },\n",
    "    \"elements\": {\n",
    "        \"qe1\": {\n",
    "            \"singleInput\": {\"port\": (\"con1\", 1)},\n",
    "            \"intermediate_frequency\": 5e6,\n",
    "            \"operations\": {\n",
    "                \"playOp\": \"constPulse\",\n",
    "            },\n",
    "        },\n",
    "        \"qe2\": {\n",
    "            \"singleInput\": {\"port\": (\"con1\", 2)},\n",
    "            \"intermediate_frequency\": 5e6,\n",
    "            \"operations\": {\n",
    "                \"playOp\": \"constPulse\",\n",
    "            },\n",
    "        },\n",
    "    },\n",
    "    \"pulses\": {\n",
    "        \"constPulse\": {\n",
    "            \"operation\": \"control\",\n",
    "            \"length\": 1000,  # in ns\n",
    "            \"waveforms\": {\"single\": \"const_wf\"},\n",
    "        },\n",
    "    },\n",
    "    \"waveforms\": {\n",
    "        \"const_wf\": {\"type\": \"constant\", \"sample\": 0.2},\n",
    "    },\n",
    "}\n"
   ]
  },
  {
   "cell_type": "markdown",
   "metadata": {},
   "source": [
    "## Hello QUA"
   ]
  },
  {
   "cell_type": "markdown",
   "metadata": {},
   "source": [
    "We now write our first QUA program. It is defined inside a _context manager_, which is the python construct starting with the `with` keyword. \n",
    "\n",
    "After this context is exited, the program is saved in the `prog` variable."
   ]
  },
  {
   "cell_type": "code",
   "execution_count": null,
   "metadata": {},
   "outputs": [],
   "source": [
    "with program() as prog:\n",
    "    play(\"playOp\", \"qe1\")\n"
   ]
  },
  {
   "cell_type": "markdown",
   "metadata": {
    "deletable": false,
    "editable": false
   },
   "source": [
    "All that is left is to open a connection to the OPX, specifying the configuration, and then to run the program. \n",
    "\n",
    "We do this with the help of the **OPX simulator**. \n",
    "\n",
    "This is a feature that allows the output of the device to be calculated in a cycle-accurate way even if we don't have access to the OPX (for example if someone else is using it at the moment).\n",
    "\n",
    "To use the simulator we need to pass the `simulate` method a `SimulationConfig`, which tells the simulator the number of clock cycles it needs to run."
   ]
  },
  {
   "cell_type": "code",
   "execution_count": null,
   "metadata": {},
   "outputs": [],
   "source": [
    "QMm = QuantumMachinesManager(host=ip)\n",
    "QMm.close_all_quantum_machines()\n",
    "\n",
    "QM1 = QMm.open_qm(config)\n",
    "job = QM1.simulate(prog, SimulationConfig(int(1000)))  # in clock cycles, 4 ns\n",
    "\n",
    "samples = job.get_simulated_samples()\n",
    "samples.con1.plot()\n",
    "\n"
   ]
  },
  {
   "cell_type": "markdown",
   "metadata": {
    "deletable": false,
    "editable": false
   },
   "source": [
    "## Parametric pulses"
   ]
  },
  {
   "cell_type": "markdown",
   "metadata": {
    "deletable": false,
    "editable": false
   },
   "source": [
    "The waveform generation of the OPX\n",
    "You can set the amplitude, duration, frequency and many other things of the played pulse"
   ]
  },
  {
   "cell_type": "code",
   "execution_count": null,
   "metadata": {},
   "outputs": [],
   "source": [
    "with program() as prog2:\n",
    "    play(\"playOp\"*amp(2), \"qe1\")\n",
    "\n",
    "\n",
    "job = QM1.simulate(prog2, SimulationConfig(int(1000)))  # in clock cycles, 4 ns\n",
    "\n",
    "samples = job.get_simulated_samples()\n",
    "samples.con1.plot()\n"
   ]
  },
  {
   "cell_type": "code",
   "execution_count": null,
   "metadata": {},
   "outputs": [],
   "source": [
    "with program() as prog3:\n",
    "    play(\"playOp\", \"qe1\",duration=500)\n",
    "\n",
    "job = QM1.simulate(prog3, SimulationConfig(int(1000)))  # in clock cycles, 4 ns\n",
    "\n",
    "samples = job.get_simulated_samples()\n",
    "samples.con1.plot()\n",
    "\n"
   ]
  },
  {
   "cell_type": "code",
   "execution_count": null,
   "metadata": {},
   "outputs": [],
   "source": [
    "with program() as prog4:\n",
    "    update_frequency(\"qe1\",30e6)\n",
    "    play(\"playOp\", \"qe1\")\n",
    "\n",
    "job = QM1.simulate(prog4, SimulationConfig(int(1000)))  # in clock cycles, 4 ns\n",
    "\n",
    "samples4 = job.get_simulated_samples()\n",
    "samples4.con1.plot()"
   ]
  },
  {
   "cell_type": "markdown",
   "metadata": {},
   "source": [
    "We can also set the frequency without running a program using the QM API. For example, let's set the frequency back to 10 MHz and run our original program again:"
   ]
  },
  {
   "cell_type": "code",
   "execution_count": null,
   "metadata": {},
   "outputs": [],
   "source": [
    "QM1.set_frequency(\"qe1\",10e6)\n",
    "\n",
    "job = QM1.simulate(prog, SimulationConfig(int(1000)))  # in clock cycles, 4 ns\n",
    "\n",
    "samples2 = job.get_simulated_samples()\n",
    "samples2.con1.plot()\n",
    "\n"
   ]
  },
  {
   "cell_type": "markdown",
   "metadata": {},
   "source": [
    "# Pulses on multiple elements"
   ]
  },
  {
   "cell_type": "markdown",
   "metadata": {},
   "source": [
    "By default, when playing pulses to multiple elements connected to different ports they play simultaneously as is the case in the following program"
   ]
  },
  {
   "cell_type": "code",
   "execution_count": null,
   "metadata": {},
   "outputs": [],
   "source": [
    "with program() as prog_2qe:\n",
    "    play(\"playOp\", \"qe1\")\n",
    "    play(\"playOp\", \"qe2\")\n",
    "\n",
    "\n",
    "job = QM1.simulate(prog_2qe, SimulationConfig(int(1000)))  # in clock cycles, 4 ns\n",
    "\n",
    "samples = job.get_simulated_samples()\n",
    "samples.con1.plot()\n"
   ]
  },
  {
   "cell_type": "markdown",
   "metadata": {},
   "source": [
    "We can delay one pulse relative another using the `wait` command:"
   ]
  },
  {
   "cell_type": "code",
   "execution_count": null,
   "metadata": {},
   "outputs": [],
   "source": [
    "with program() as prog_2qe:\n",
    "    play(\"playOp\", \"qe1\")\n",
    "    wait(500,\"qe2\")\n",
    "    play(\"playOp\", \"qe2\")\n",
    "\n",
    "\n",
    "job = QM1.simulate(prog_2qe, SimulationConfig(int(1000)))  # in clock cycles, 4 ns\n",
    "\n",
    "samples = job.get_simulated_samples()\n",
    "samples.con1.plot()\n"
   ]
  },
  {
   "cell_type": "markdown",
   "metadata": {},
   "source": [
    "But what if you don't know how long the first pulse is? maybe it's been stretched by some evil doer who didn't tell you about it? \n",
    "\n",
    "It doesn't matter! you can ask QUA to align the pulses one after the other"
   ]
  },
  {
   "cell_type": "code",
   "execution_count": null,
   "metadata": {},
   "outputs": [],
   "source": [
    "with program() as prog_2qe:\n",
    "    play(\"playOp\", \"qe1\",duration=542)\n",
    "    align(\"qe1\",\"qe2\")\n",
    "    play(\"playOp\", \"qe2\")\n",
    "\n",
    "\n",
    "job = QM1.simulate(prog_2qe, SimulationConfig(int(1000)))  # in clock cycles, 4 ns\n",
    "\n",
    "samples = job.get_simulated_samples()\n",
    "samples.con1.plot()\n"
   ]
  },
  {
   "cell_type": "markdown",
   "metadata": {},
   "source": [
    "## Arbitrary waveforms"
   ]
  },
  {
   "cell_type": "markdown",
   "metadata": {},
   "source": [
    "So far, we've only played pulses with a constant envelope. Note that in this case, regardless of the pulse duration, there isn't any upload of a waveform to the device memory. \n",
    "Even if the signal is a sine wave at 350 MHz, the hardware synthesizes it and there is no need for precalculation. \n",
    "\n",
    "However, QUA is not limited to a fixed amplitude. You can define an arbitrary envelope function with 1ns resolution. You can also change (lower) the tempoarl resolution, but that's a topic for another time. \n",
    "\n",
    "Below, we edit the configuration to add an arbitrary pulse. To do so we add a `pulse` and a `waveform` to the `config` dictionary.\n",
    "\n",
    "---\n",
    "**Note**\n",
    "\n",
    "the waveform must be a python list (and not a numpy array) and that the `length` field of the pulse must match the number of `samples` in the waveform.\n",
    "\n",
    "---\n"
   ]
  },
  {
   "cell_type": "code",
   "execution_count": null,
   "metadata": {},
   "outputs": [],
   "source": [
    "config['pulses'][\"arbPulse\"]= {\"operation\": \"control\",\"length\": 4000, \"waveforms\": {\"single\": \"arb_wf\"}}\n",
    "config['waveforms'][\"arb_wf\"]={\"type\": \"arbitrary\", \"samples\": (0.2*np.sin(np.linspace(0,10,4000))).tolist()}\n",
    "QMm.close_all_quantum_machines()\n",
    "QM1 = QMm.open_qm(config)"
   ]
  },
  {
   "cell_type": "markdown",
   "metadata": {},
   "source": [
    "Ater changing the configuration, we had to re-open the quantum machine instance.\n",
    "We can now play our pulse\n"
   ]
  },
  {
   "cell_type": "code",
   "execution_count": null,
   "metadata": {},
   "outputs": [],
   "source": [
    "with program() as arbProg:\n",
    "    update_frequency(\"qe1\",20e6)\n",
    "    play(\"arbPulse\", \"qe1\")\n",
    "job = QM1.simulate(arbProg, SimulationConfig(int(1200)))  # in clock cycles, 4 ns\n",
    "samples = job.get_simulated_samples()\n",
    "samples.con1.plot()\n"
   ]
  },
  {
   "cell_type": "markdown",
   "metadata": {},
   "source": [
    "## Excercises"
   ]
  },
  {
   "cell_type": "markdown",
   "metadata": {},
   "source": [
    "1. Play a rectangular pulse with no oscillations.\n",
    "2. A voltage ramp can be played using the `ramp` commnand. It is used as follows `play(ramp(rate),'qe1')` where rate is in volts/ns. dynamic stretching is supported, so you can use the `duration=` parameter. play a ramp with intermediate freq. (IF) = 0 to qe1 and IF!=0 to qe2\n",
    "3. Use the arbitrary waveforms `top_wf` and `bottom_wf` defined in `wf_ex1` to add two pulses playing them respectively. Then play top to `qe1` and bottom to `qe2`. You may want to use DC on both channels and stretch the pulses to 1000 cycles to get a good view of the result. This question demonstrates the ability of QUA to stretch arbitrary waveforms too, and not just fixed amplitude signals. \n"
   ]
  },
  {
   "cell_type": "code",
   "execution_count": null,
   "metadata": {},
   "outputs": [],
   "source": []
  }
 ],
 "metadata": {
  "kernelspec": {
   "display_name": "Python 3",
   "language": "python",
   "name": "python3"
  },
  "language_info": {
   "codemirror_mode": {
    "name": "ipython",
    "version": 3
   },
   "file_extension": ".py",
   "mimetype": "text/x-python",
   "name": "python",
   "nbconvert_exporter": "python",
   "pygments_lexer": "ipython3",
   "version": "3.8.5"
  }
 },
 "nbformat": 4,
 "nbformat_minor": 4
}
