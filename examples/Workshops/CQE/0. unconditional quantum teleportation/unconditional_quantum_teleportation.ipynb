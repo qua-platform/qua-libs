{
 "cells": [
  {
   "cell_type": "code",
   "execution_count": 1,
   "metadata": {},
   "outputs": [],
   "source": [
    "%load_ext autoreload\n",
    "%autoreload 2"
   ]
  },
  {
   "cell_type": "markdown",
   "metadata": {},
   "source": [
    "# Unconditional quantum teleportation between distant solid-state quantum bits"
   ]
  },
  {
   "cell_type": "markdown",
   "metadata": {},
   "source": [
    "<center><img src=\"figure_0.png\"/></center>"
   ]
  },
  {
   "cell_type": "code",
   "execution_count": 112,
   "metadata": {},
   "outputs": [
    {
     "name": "stdout",
     "output_type": "stream",
     "text": [
      "2021-04-06 00:09:11,737 - qm - INFO - Performing health check\n",
      "2021-04-06 00:09:11,743 - qm - INFO - Health check passed\n",
      "2021-04-06 00:09:11,845 - qm - INFO - Performing health check\n",
      "2021-04-06 00:09:11,849 - qm - INFO - Health check passed\n",
      "2021-04-06 00:09:11,879 - qm - INFO - to simulate a program, use QuantumMachinesManager.simulate(..)\n",
      "2021-04-06 00:09:11,905 - qm - INFO - Flags: \n",
      "2021-04-06 00:09:11,905 - qm - INFO - Simulating Qua program\n",
      "2021-04-06 00:09:12,546 - qm - WARNING - pulse 'zeroPulse' used in play is not part of element 'a-reset' operations\n",
      "2021-04-06 00:09:12,547 - qm - WARNING - pulse 'zeroPulse' used in play is not part of element 'b-reset' operations\n",
      "2021-04-06 00:09:12,547 - qm - WARNING - pulse 'zeroPulse' used in play is not part of element 'init' operations\n",
      "2021-04-06 00:09:12,548 - qm - WARNING - pulse 'readoutPulse' used in measure is not part of element 'a-ro' operations\n",
      "2021-04-06 00:09:12,548 - qm - WARNING - pulse 'readoutPulse' used in measure is not part of element 'b-ro' operations\n",
      "2021-04-06 00:09:12,549 - qm - WARNING - pulse 'zeroPulse' used in play is not part of element 'a-ro' operations\n",
      "2021-04-06 00:09:12,550 - qm - WARNING - pulse 'short_readoutPulse' used in measure is not part of element 'a-ro' operations\n"
     ]
    },
    {
     "data": {
      "text/plain": [
       "<matplotlib.legend.Legend at 0x18ba269abe0>"
      ]
     },
     "execution_count": 112,
     "metadata": {},
     "output_type": "execute_result"
    },
    {
     "data": {
      "image/png": "[encoded data removed]",
      "text/plain": [
       "<Figure size 432x288 with 8 Axes>"
      ]
     },
     "metadata": {
      "needs_background": "light"
     },
     "output_type": "display_data"
    }
   ],
   "source": [
    "from qm.QuantumMachinesManager import QuantumMachinesManager\n",
    "from qm.qua import *\n",
    "from qm import SimulationConfig\n",
    "from Configuration import config\n",
    "\n",
    "import matplotlib.pyplot as plt\n",
    "\n",
    "meas_len=52\n",
    "short_meas_len=16\n",
    "\n",
    "th_a=5\n",
    "th_b=5\n",
    "N_max=50\n",
    "M_max=50\n",
    "\n",
    "Qmm = QuantumMachinesManager()\n",
    "Qmm.close_all_quantum_machines()\n",
    "qm = Qmm.open_qm(config)\n",
    "\n",
    "with program() as prog:\n",
    "    A_clicks = declare(int,value=-1)\n",
    "    B_clicks = declare(int,value=-1)\n",
    "    N=declare(int,value=0)\n",
    "    M=declare(int,value=0)\n",
    "    resultA = declare(int, size=100)\n",
    "    resultA = declare(int, size=100)\n",
    "\n",
    "    with while_(A_clicks<0 | B_clicks<0):\n",
    "        \n",
    "        play(\"zeroPulse\", \"a-reset\",duration=500)\n",
    "        play(\"zeroPulse\", \"b-reset\",duration=10)\n",
    "        \n",
    "        align('a-reset','b-reset','b-ro','a-ro','init')\n",
    "        play('zeroPulse','init',duration=meas_len)\n",
    "        measure('readoutPulse','a-ro',None,time_tagging.analog(result1, meas_len,targetLen= A_clicks))\n",
    "        measure('readoutPulse','b-ro',None,time_tagging.analog(result1, meas_len,targetLen= B_clicks))\n",
    "    assign(A_clicks,0)\n",
    "    with while_(A_clicks<=0 ):\n",
    "        assign(N,N+1)\n",
    "        play('zeroPulse','a-ro',duration=60)\n",
    "        align('a-ro','a-espin')\n",
    "        play('CNOT','a-espin',duration=60)\n",
    "        measure('short_readoutPulse','a-ro',None,time_tagging.analog(result1, short_meas_len,targetLen= A_clicks))\n",
    "\n",
    "    \n",
    "    align('a-reset','b-reset','b-ro','a-ro','init')\n",
    "        \n",
    "        \n",
    "\n",
    "    QMm = QuantumMachinesManager()\n",
    "QMm.close_all_quantum_machines()\n",
    "\n",
    "QM1 = QMm.open_qm(config)\n",
    "job = QM1.simulate(prog, SimulationConfig(int(4000)))  # in clock cycles, 4 ns\n",
    "\n",
    "samples = job.get_simulated_samples()\n",
    "# samples.con1.plot()\n",
    "fig, axs = plt.subplots(4, 2)\n",
    "axs[0,0].plot(samples.con1.digital['1'],label='a-reset')\n",
    "axs[0,0].legend()\n",
    "axs[1,0].plot(samples.con1.digital['2'],label='a-ro')\n",
    "axs[1,0].legend()\n",
    "axs[2,0].plot(samples.con1.digital['3'],label='init')\n",
    "axs[2,0].legend()\n",
    "axs[3,0].plot(samples.con1.analog['2'],label='a-espin-I')\n",
    "axs[3,0].plot(samples.con1.analog['3'],label='a-espin-Q')\n",
    "axs[3,0].legend()\n",
    "axs[0,1].plot(samples.con1.digital['4'],label='b-reset')\n",
    "axs[0,1].legend()\n",
    "axs[1,1].plot(samples.con1.digital['5'],label='b-ro')\n",
    "axs[1,1].legend()"
   ]
  },
  {
   "cell_type": "code",
   "execution_count": null,
   "metadata": {},
   "outputs": [],
   "source": []
  }
 ],
 "metadata": {
  "kernelspec": {
   "display_name": "Python 3",
   "language": "python",
   "name": "python3"
  },
  "language_info": {
   "codemirror_mode": {
    "name": "ipython",
    "version": 3
   },
   "file_extension": ".py",
   "mimetype": "text/x-python",
   "name": "python",
   "nbconvert_exporter": "python",
   "pygments_lexer": "ipython3",
   "version": "3.8.5"
  }
 },
 "nbformat": 4,
 "nbformat_minor": 4
}
