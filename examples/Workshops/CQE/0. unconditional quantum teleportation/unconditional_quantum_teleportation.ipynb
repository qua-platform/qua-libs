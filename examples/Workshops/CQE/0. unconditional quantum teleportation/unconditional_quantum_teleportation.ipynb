{
 "cells": [
  {
   "cell_type": "code",
   "execution_count": 1,
   "metadata": {},
   "outputs": [],
   "source": [
    "%load_ext autoreload\n",
    "%autoreload 2"
   ]
  },
  {
   "cell_type": "markdown",
   "metadata": {},
   "source": [
    "# Unconditional quantum teleportation between distant solid-state quantum bits"
   ]
  },
  {
   "cell_type": "markdown",
   "metadata": {},
   "source": [
    "<center><img src=\"figure_0.png\"/></center>"
   ]
  },
  {
   "cell_type": "code",
   "execution_count": 8,
   "metadata": {},
   "outputs": [
    {
     "name": "stdout",
     "output_type": "stream",
     "text": [
      "2021-04-05 21:21:02,218 - qm - INFO - Performing health check\n",
      "2021-04-05 21:21:02,225 - qm - INFO - Health check passed\n",
      "2021-04-05 21:21:02,307 - qm - INFO - Performing health check\n",
      "2021-04-05 21:21:02,314 - qm - INFO - Health check passed\n",
      "2021-04-05 21:21:02,351 - qm - INFO - to simulate a program, use QuantumMachinesManager.simulate(..)\n",
      "2021-04-05 21:21:02,376 - qm - INFO - Flags: \n",
      "2021-04-05 21:21:02,378 - qm - INFO - Simulating Qua program\n",
      "2021-04-05 21:21:02,875 - qm - WARNING - pulse 'zeroPulse' used in play is not part of element 'a-reset' operations\n",
      "2021-04-05 21:21:02,877 - qm - WARNING - pulse 'zeroPulse' used in play is not part of element 'a-ro' operations\n"
     ]
    },
    {
     "ename": "KeyError",
     "evalue": "0",
     "output_type": "error",
     "traceback": [
      "\u001b[1;31m---------------------------------------------------------------------------\u001b[0m",
      "\u001b[1;31mKeyError\u001b[0m                                  Traceback (most recent call last)",
      "\u001b[1;32m<ipython-input-8-a7ea9104bd72>\u001b[0m in \u001b[0;36m<module>\u001b[1;34m\u001b[0m\n\u001b[0;32m     24\u001b[0m \u001b[0msamples\u001b[0m \u001b[1;33m=\u001b[0m \u001b[0mjob\u001b[0m\u001b[1;33m.\u001b[0m\u001b[0mget_simulated_samples\u001b[0m\u001b[1;33m(\u001b[0m\u001b[1;33m)\u001b[0m\u001b[1;33m\u001b[0m\u001b[1;33m\u001b[0m\u001b[0m\n\u001b[0;32m     25\u001b[0m \u001b[0msamples\u001b[0m\u001b[1;33m.\u001b[0m\u001b[0mcon1\u001b[0m\u001b[1;33m.\u001b[0m\u001b[0mplot\u001b[0m\u001b[1;33m(\u001b[0m\u001b[1;33m)\u001b[0m\u001b[1;33m\u001b[0m\u001b[1;33m\u001b[0m\u001b[0m\n\u001b[1;32m---> 26\u001b[1;33m \u001b[0msamples\u001b[0m\u001b[1;33m.\u001b[0m\u001b[0mcon1\u001b[0m\u001b[1;33m.\u001b[0m\u001b[0manalog\u001b[0m\u001b[1;33m[\u001b[0m\u001b[1;36m0\u001b[0m\u001b[1;33m]\u001b[0m\u001b[1;33m\u001b[0m\u001b[1;33m\u001b[0m\u001b[0m\n\u001b[0m",
      "\u001b[1;31mKeyError\u001b[0m: 0"
     ]
    },
    {
     "data": {
      "image/png": "[encoded data removed]",
      "text/plain": [
       "<Figure size 432x288 with 1 Axes>"
      ]
     },
     "metadata": {
      "needs_background": "light"
     },
     "output_type": "display_data"
    }
   ],
   "source": [
    "from qm.QuantumMachinesManager import QuantumMachinesManager\n",
    "from qm.qua import *\n",
    "from qm import SimulationConfig\n",
    "from Configuration import config\n",
    "\n",
    "import matplotlib.pyplot as plt\n",
    "\n",
    "\n",
    "Qmm = QuantumMachinesManager()\n",
    "Qmm.close_all_quantum_machines()\n",
    "qm = Qmm.open_qm(config)\n",
    "\n",
    "with program() as prog:\n",
    "    play(\"zeroPulse\", \"a-reset\",duration=500)\n",
    "    wait(500,\"a-ro\")\n",
    "    play(\"zeroPulse\", \"a-ro\",duration=500)\n",
    "\n",
    "    QMm = QuantumMachinesManager()\n",
    "QMm.close_all_quantum_machines()\n",
    "\n",
    "QM1 = QMm.open_qm(config)\n",
    "job = QM1.simulate(prog, SimulationConfig(int(4000)))  # in clock cycles, 4 ns\n",
    "\n",
    "samples = job.get_simulated_samples()\n",
    "samples.con1.plot()\n",
    "samples.con1.analog[0]"
   ]
  },
  {
   "cell_type": "code",
   "execution_count": 15,
   "metadata": {},
   "outputs": [
    {
     "data": {
      "text/plain": [
       "[<matplotlib.lines.Line2D at 0x18bfe429580>]"
      ]
     },
     "execution_count": 15,
     "metadata": {},
     "output_type": "execute_result"
    },
    {
     "data": {
      "image/png": "[encoded data removed]",
      "text/plain": [
       "<Figure size 432x288 with 4 Axes>"
      ]
     },
     "metadata": {
      "needs_background": "light"
     },
     "output_type": "display_data"
    }
   ],
   "source": [
    "fig, axs = plt.subplots(2, 2)\n",
    "axs[0,0].plot(samples.con1.digital['1'])\n",
    "axs[0,0].plot(samples.con1.digital['2'])"
   ]
  },
  {
   "cell_type": "code",
   "execution_count": null,
   "metadata": {},
   "outputs": [],
   "source": []
  }
 ],
 "metadata": {
  "kernelspec": {
   "display_name": "Python 3",
   "language": "python",
   "name": "python3"
  },
  "language_info": {
   "codemirror_mode": {
    "name": "ipython",
    "version": 3
   },
   "file_extension": ".py",
   "mimetype": "text/x-python",
   "name": "python",
   "nbconvert_exporter": "python",
   "pygments_lexer": "ipython3",
   "version": "3.8.5"
  }
 },
 "nbformat": 4,
 "nbformat_minor": 4
}
