{
 "cells": [
  {
   "cell_type": "code",
   "execution_count": null,
   "metadata": {},
   "outputs": [],
   "source": [
    "%load_ext autoreload\n",
    "%autoreload 2\n",
    "from qm.QuantumMachinesManager import QuantumMachinesManager\n",
    "from qm.qua import *\n",
    "from qm import SimulationConfig\n",
    "import numpy as np\n",
    "import matplotlib.pyplot as plt\n",
    "ip='127.0.0.1'"
   ]
  },
  {
   "cell_type": "markdown",
   "metadata": {},
   "source": [
    "# IQ waveforms : for the mixer crowd"
   ]
  },
  {
   "cell_type": "markdown",
   "metadata": {},
   "source": [
    "When driving an IQ mixer, you need to generate a pair of out-of-phase waveforms.\n",
    "This is taken care of by QUA, by introducing a mixed-input quantum elemnt. \n",
    "\n",
    "\n",
    "The following configuration dictionary defines a single quantum element `qe1` which is a so-called `mixInputs` element, with both I and Q channels."
   ]
  },
  {
   "cell_type": "code",
   "execution_count": null,
   "metadata": {},
   "outputs": [],
   "source": [
    "config = {\n",
    "    \"version\": 1,\n",
    "    \"controllers\": {\n",
    "        \"con1\": {\n",
    "            \"type\": \"opx1\",\n",
    "            \"analog_outputs\": {\n",
    "                1: {\"offset\": +0.0},\n",
    "                2: {\"offset\": +0.0},\n",
    "            },\n",
    "        }\n",
    "    },\n",
    "    \"elements\": {\n",
    "        \"qe1\": {\n",
    "            \"mixInputs\": {\"I\": (\"con1\", 1),\"Q\": (\"con1\", 2)},\n",
    "            \"intermediate_frequency\": 5e6,\n",
    "            \"operations\": {\n",
    "                \"playOp\": \"constPulse\",\n",
    "            },\n",
    "        },\n",
    "    },\n",
    "    \"pulses\": {\n",
    "        \"constPulse\": {\n",
    "            \"operation\": \"control\",\n",
    "            \"length\": 1000,  # in ns\n",
    "            \"waveforms\": {\"I\": \"const_wf\",\"Q\":\"const_wf\"},\n",
    "        },\n",
    "    },\n",
    "    \"waveforms\": {\n",
    "        \"const_wf\": {\"type\": \"constant\", \"sample\": 0.2},\n",
    "    },\n",
    "}"
   ]
  },
  {
   "cell_type": "markdown",
   "metadata": {},
   "source": [
    "We use this configuration to run a simple QUA program, generating a pair of signals in antiphase. "
   ]
  },
  {
   "cell_type": "code",
   "execution_count": null,
   "metadata": {},
   "outputs": [],
   "source": [
    "QMm = QuantumMachinesManager()\n",
    "QMm.close_all_quantum_machines()\n",
    "QM1 = QMm.open_qm(config)\n",
    "with program() as prog:\n",
    "    play(\"playOp\", \"qe1\")\n",
    "\n",
    "job = QM1.simulate(prog, SimulationConfig(int(1000)))  # in clock cycles, 4 ns\n",
    "\n",
    "samples = job.get_simulated_samples()\n",
    "samples.con1.plot()\n"
   ]
  },
  {
   "cell_type": "markdown",
   "metadata": {},
   "source": [
    "All commands we've seen so far that work on a single-input element work equally on mixed input elements.\n",
    "\n",
    "The following code scales the amplitude, changes the frequency and stretches the duration of a mixed input signal."
   ]
  },
  {
   "cell_type": "code",
   "execution_count": null,
   "metadata": {},
   "outputs": [],
   "source": [
    "QMm = QuantumMachinesManager()\n",
    "QMm.close_all_quantum_machines()\n",
    "QM1 = QMm.open_qm(config)\n",
    "with program() as prog:\n",
    "    update_frequency(\"qe1\",10e6)\n",
    "    play(\"playOp\"*amp(2), \"qe1\",duration=1000)\n",
    "\n",
    "job = QM1.simulate(prog, SimulationConfig(int(1000)))  # in clock cycles, 4 ns\n",
    "\n",
    "samples = job.get_simulated_samples()\n",
    "samples.con1.plot()\n"
   ]
  },
  {
   "cell_type": "markdown",
   "metadata": {},
   "source": [
    "# Excercise\n",
    "\n",
    "1. play a pulse to a mixed element, change the amplitude, duration and frequency using `update_frequency`. "
   ]
  },
  {
   "cell_type": "code",
   "execution_count": null,
   "metadata": {},
   "outputs": [],
   "source": []
  }
 ],
 "metadata": {
  "kernelspec": {
   "display_name": "Python 3",
   "language": "python",
   "name": "python3"
  },
  "language_info": {
   "codemirror_mode": {
    "name": "ipython",
    "version": 3
   },
   "file_extension": ".py",
   "mimetype": "text/x-python",
   "name": "python",
   "nbconvert_exporter": "python",
   "pygments_lexer": "ipython3",
   "version": "3.8.5"
  }
 },
 "nbformat": 4,
 "nbformat_minor": 4
}
