{
 "cells": [
  {
   "cell_type": "code",
   "execution_count": 7,
   "metadata": {},
   "outputs": [
    {
     "name": "stdout",
     "output_type": "stream",
     "text": [
      "The autoreload extension is already loaded. To reload it, use:\n",
      "  %reload_ext autoreload\n"
     ]
    }
   ],
   "source": [
    "%load_ext autoreload\n",
    "%autoreload 2\n",
    "from qm.QuantumMachinesManager import QuantumMachinesManager\n",
    "from qm.qua import *\n",
    "from qm import SimulationConfig\n",
    "import numpy as np\n",
    "import matplotlib.pyplot as plt\n",
    "config = {\n",
    "    \"version\": 1,\n",
    "    \"controllers\": {\n",
    "        \"con1\": {\n",
    "            \"type\": \"opx1\",\n",
    "            \"analog_outputs\": {\n",
    "                1: {\"offset\": +0.0},\n",
    "                2: {\"offset\": +0.0},\n",
    "            },\n",
    "        }\n",
    "    },\n",
    "    \"elements\": {\n",
    "        \"qe1\": {\n",
    "            \"singleInput\": {\"port\": (\"con1\", 1)},\n",
    "            \"intermediate_frequency\": 5e6,\n",
    "            \"operations\": {\n",
    "                \"playOp\": \"constPulse\",\n",
    "            },\n",
    "        },\n",
    "        \"qe2\": {\n",
    "            \"singleInput\": {\"port\": (\"con1\", 2)},\n",
    "            \"intermediate_frequency\": 5e6,\n",
    "            \"operations\": {\n",
    "                \"playOp\": \"constPulse\",\n",
    "            },\n",
    "        },\n",
    "    },\n",
    "    \"pulses\": {\n",
    "        \"constPulse\": {\n",
    "            \"operation\": \"control\",\n",
    "            \"length\": 1000,  # in ns\n",
    "            \"waveforms\": {\"single\": \"const_wf\"},\n",
    "        },\n",
    "    },\n",
    "    \"waveforms\": {\n",
    "        \"const_wf\": {\"type\": \"constant\", \"sample\": 0.2},\n",
    "    },\n",
    "}\n"
   ]
  },
  {
   "cell_type": "markdown",
   "metadata": {},
   "source": [
    "# Flow control"
   ]
  },
  {
   "cell_type": "markdown",
   "metadata": {},
   "source": [
    "### For loop"
   ]
  },
  {
   "cell_type": "code",
   "execution_count": 8,
   "metadata": {},
   "outputs": [
    {
     "name": "stdout",
     "output_type": "stream",
     "text": [
      "2021-04-01 14:03:09,146 - qm - INFO - Performing health check\n",
      "2021-04-01 14:03:09,167 - qm - INFO - Health check passed\n",
      "2021-04-01 14:03:09,185 - qm - INFO - to simulate a program, use QuantumMachinesManager.simulate(..)\n",
      "2021-04-01 14:03:09,193 - qm - INFO - Flags: \n",
      "2021-04-01 14:03:09,194 - qm - INFO - Simulating Qua program\n",
      "\n",
      "The program returned the value: a=[ 1  2  3  4  5  6  7  8  9 10]\n"
     ]
    }
   ],
   "source": [
    "with program() as prog:\n",
    "    idx = declare(int)\n",
    "    a = declare(int)\n",
    "    with for_(idx,0,idx<10,idx+1):\n",
    "        assign(a,a+1)\n",
    "        save(a,\"a\")\n",
    "    \n",
    "    \n",
    "\n",
    "QMm = QuantumMachinesManager()\n",
    "QMm.close_all_quantum_machines()\n",
    "\n",
    "QM1 = QMm.open_qm(config)\n",
    "job = QM1.simulate(prog, SimulationConfig(int(1000)))  # in clock cycles, 4 ns\n",
    "res=job.result_handles\n",
    "\n",
    "a = res.a.fetch_all()['value']\n",
    "\n",
    "print(f\"\\nThe program returned the value: a={a}\")"
   ]
  },
  {
   "cell_type": "markdown",
   "metadata": {},
   "source": [
    "### While loop"
   ]
  },
  {
   "cell_type": "code",
   "execution_count": 9,
   "metadata": {},
   "outputs": [
    {
     "name": "stdout",
     "output_type": "stream",
     "text": [
      "2021-04-01 14:03:10,372 - qm - INFO - Performing health check\n",
      "2021-04-01 14:03:10,377 - qm - INFO - Health check passed\n",
      "2021-04-01 14:03:10,399 - qm - INFO - to simulate a program, use QuantumMachinesManager.simulate(..)\n",
      "2021-04-01 14:03:10,410 - qm - INFO - Flags: \n",
      "2021-04-01 14:03:10,411 - qm - INFO - Simulating Qua program\n",
      "\n",
      "The program returned the value: a=[ 1  2  3  4  5  6  7  8  9 10]\n"
     ]
    }
   ],
   "source": [
    "with program() as prog:\n",
    "    a = declare(int)\n",
    "    with while_(a<10):\n",
    "        assign(a,a+1)\n",
    "        save(a,\"a\")\n",
    "    \n",
    "    \n",
    "\n",
    "QMm = QuantumMachinesManager()\n",
    "QMm.close_all_quantum_machines()\n",
    "\n",
    "QM1 = QMm.open_qm(config)\n",
    "job = QM1.simulate(prog, SimulationConfig(int(1000)))  # in clock cycles, 4 ns\n",
    "res=job.result_handles\n",
    "\n",
    "a = res.a.fetch_all()['value']\n",
    "\n",
    "print(f\"\\nThe program returned the value: a={a}\")"
   ]
  },
  {
   "cell_type": "markdown",
   "metadata": {},
   "source": [
    "### Conditional: If and cond"
   ]
  },
  {
   "cell_type": "markdown",
   "metadata": {},
   "source": [
    "QUA implements an `if - else` which works as you expect: "
   ]
  },
  {
   "cell_type": "code",
   "execution_count": 24,
   "metadata": {},
   "outputs": [
    {
     "name": "stdout",
     "output_type": "stream",
     "text": [
      "2021-04-01 09:51:06,204 - qm - INFO - Performing health check\n",
      "2021-04-01 09:51:06,210 - qm - INFO - Health check passed\n",
      "2021-04-01 09:51:06,213 - qm - WARNING - Client's version (0.90.690) does not match the server version (0.91.781).\n",
      "2021-04-01 09:51:06,235 - qm - INFO - to simulate a program, use QuantumMachinesManager.simulate(..)\n",
      "2021-04-01 09:51:06,245 - qm - INFO - Flags: \n",
      "2021-04-01 09:51:06,246 - qm - INFO - Simulating Qua program\n",
      "\n",
      "The program returned the value: a=[0 0 0 4 0 0 0 0 0 0]\n"
     ]
    }
   ],
   "source": [
    "with program() as prog:\n",
    "    a = declare(int)\n",
    "    with while_(a<10):\n",
    "        assign(a,a+1)\n",
    "        with if_(a==4):\n",
    "            save(a,\"a\")\n",
    "        with else_():\n",
    "            save(0,\"a\")\n",
    "            \n",
    "    \n",
    "    \n",
    "\n",
    "QMm = QuantumMachinesManager()\n",
    "QMm.close_all_quantum_machines()\n",
    "\n",
    "QM1 = QMm.open_qm(config)\n",
    "job = QM1.simulate(prog, SimulationConfig(int(1000)))  # in clock cycles, 4 ns\n",
    "res=job.result_handles\n",
    "\n",
    "a = res.a.fetch_all()['value']\n",
    "\n",
    "\n",
    "\n",
    "print(f\"\\nThe program returned the value: a={a}\")"
   ]
  },
  {
   "cell_type": "markdown",
   "metadata": {},
   "source": [
    "**Util.cond** : There is another opetion to implement simple conditional. The `Util.cond` function is an efficient implementation of the conditional which can speed up operations in some cases:"
   ]
  },
  {
   "cell_type": "code",
   "execution_count": 21,
   "metadata": {},
   "outputs": [
    {
     "name": "stdout",
     "output_type": "stream",
     "text": [
      "2021-04-01 09:10:28,945 - qm - INFO - Performing health check\n",
      "2021-04-01 09:10:28,952 - qm - INFO - Health check passed\n",
      "2021-04-01 09:10:28,956 - qm - WARNING - Client's version (0.90.690) does not match the server version (0.91.781).\n",
      "2021-04-01 09:10:28,981 - qm - INFO - to simulate a program, use QuantumMachinesManager.simulate(..)\n",
      "2021-04-01 09:10:28,997 - qm - INFO - Flags: \n",
      "2021-04-01 09:10:28,999 - qm - INFO - Simulating Qua program\n",
      "\n",
      "The program returned the value: a=[    1     2     3     4     5     6     7     8     9    10 10010]\n"
     ]
    }
   ],
   "source": [
    "with program() as prog:\n",
    "    a = declare(int,value=0)\n",
    "    b = declare(int,value=10)\n",
    "    with while_(a<100):\n",
    "        assign(a,Util.cond(a == b, a+10000,a+1))\n",
    "        save(a,\"a\")\n",
    "            \n",
    "    \n",
    "    \n",
    "\n",
    "QMm = QuantumMachinesManager()\n",
    "QMm.close_all_quantum_machines()\n",
    "\n",
    "QM1 = QMm.open_qm(config)\n",
    "job = QM1.simulate(prog, SimulationConfig(int(1000)))  # in clock cycles, 4 ns\n",
    "res=job.result_handles\n",
    "\n",
    "a = res.a.fetch_all()['value']\n",
    "\n",
    "print(f\"\\nThe program returned the value: a={a}\")"
   ]
  },
  {
   "cell_type": "markdown",
   "metadata": {},
   "source": [
    "### Conditionally playing pulses"
   ]
  },
  {
   "cell_type": "markdown",
   "metadata": {},
   "source": [
    "A final conditional usage option is integrated into the play statment itself. By passing a condition to the `play` we play the pulse when a = 0 .. 4 but not for the rest of the loop values. "
   ]
  },
  {
   "cell_type": "code",
   "execution_count": 18,
   "metadata": {},
   "outputs": [
    {
     "name": "stdout",
     "output_type": "stream",
     "text": [
      "2021-04-01 14:19:09,916 - qm - INFO - Performing health check\n",
      "2021-04-01 14:19:09,929 - qm - INFO - Health check passed\n",
      "2021-04-01 14:19:09,962 - qm - INFO - to simulate a program, use QuantumMachinesManager.simulate(..)\n",
      "2021-04-01 14:19:09,986 - qm - INFO - Flags: \n",
      "2021-04-01 14:19:09,987 - qm - INFO - Simulating Qua program\n",
      "\n",
      "The program returned the value: a=[0 1 2 3 4 5 6 7 8 9]\n"
     ]
    },
    {
     "data": {
      "image/png": "[encoded data removed]",
      "text/plain": [
       "<Figure size 432x288 with 1 Axes>"
      ]
     },
     "metadata": {
      "needs_background": "light"
     },
     "output_type": "display_data"
    }
   ],
   "source": [
    "with program() as prog:\n",
    "    a = declare(int,value=0)\n",
    "    with for_(a,0,a<10,a+1):\n",
    "        play('playOp','qe1',condition=(a<5))\n",
    "        wait(100,'qe1')\n",
    "        save(a,\"a\")\n",
    "\n",
    "QMm = QuantumMachinesManager()\n",
    "QMm.close_all_quantum_machines()\n",
    "\n",
    "QM1 = QMm.open_qm(config)\n",
    "job = QM1.simulate(prog, SimulationConfig(int(5000)))  # in clock cycles, 4 ns\n",
    "res=job.result_handles\n",
    "\n",
    "a = res.a.fetch_all()['value']\n",
    "\n",
    "print(f\"\\nThe program returned the value: a={a}\")\n",
    "\n",
    "\n",
    "\n",
    "samples = job.get_simulated_samples()\n",
    "samples.con1.plot()"
   ]
  },
  {
   "cell_type": "markdown",
   "metadata": {},
   "source": [
    "## Excercises"
   ]
  },
  {
   "cell_type": "markdown",
   "metadata": {},
   "source": [
    "1. write a program to play two pulses, with delay of 100 cycles between them, repreated 100 times"
   ]
  },
  {
   "cell_type": "code",
   "execution_count": null,
   "metadata": {},
   "outputs": [],
   "source": []
  }
 ],
 "metadata": {
  "kernelspec": {
   "display_name": "qua-libs",
   "language": "python",
   "name": "qua-libs"
  },
  "language_info": {
   "codemirror_mode": {
    "name": "ipython",
    "version": 3
   },
   "file_extension": ".py",
   "mimetype": "text/x-python",
   "name": "python",
   "nbconvert_exporter": "python",
   "pygments_lexer": "ipython3",
   "version": "3.8.8"
  }
 },
 "nbformat": 4,
 "nbformat_minor": 4
}
