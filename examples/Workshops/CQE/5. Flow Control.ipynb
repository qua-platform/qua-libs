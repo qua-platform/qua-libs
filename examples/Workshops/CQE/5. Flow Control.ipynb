{
 "cells": [
  {
   "cell_type": "code",
   "execution_count": null,
   "metadata": {},
   "outputs": [],
   "source": [
    "%load_ext autoreload\n",
    "%autoreload 2\n",
    "from qm.QuantumMachinesManager import QuantumMachinesManager\n",
    "from qm.qua import *\n",
    "from qm import SimulationConfig\n",
    "import numpy as np\n",
    "import matplotlib.pyplot as plt\n",
    "config = {\n",
    "    \"version\": 1,\n",
    "    \"controllers\": {\n",
    "        \"con1\": {\n",
    "            \"type\": \"opx1\",\n",
    "            \"analog_outputs\": {\n",
    "                1: {\"offset\": +0.0},\n",
    "                2: {\"offset\": +0.0},\n",
    "            },\n",
    "        }\n",
    "    },\n",
    "    \"elements\": {\n",
    "        \"qe1\": {\n",
    "            \"singleInput\": {\"port\": (\"con1\", 1)},\n",
    "            \"intermediate_frequency\": 5e6,\n",
    "            \"operations\": {\n",
    "                \"playOp\": \"constPulse\",\n",
    "            },\n",
    "        },\n",
    "        \"qe2\": {\n",
    "            \"singleInput\": {\"port\": (\"con1\", 2)},\n",
    "            \"intermediate_frequency\": 5e6,\n",
    "            \"operations\": {\n",
    "                \"playOp\": \"constPulse\",\n",
    "            },\n",
    "        },\n",
    "    },\n",
    "    \"pulses\": {\n",
    "        \"constPulse\": {\n",
    "            \"operation\": \"control\",\n",
    "            \"length\": 1000,  # in ns\n",
    "            \"waveforms\": {\"single\": \"const_wf\"},\n",
    "        },\n",
    "    },\n",
    "    \"waveforms\": {\n",
    "        \"const_wf\": {\"type\": \"constant\", \"sample\": 0.2},\n",
    "    },\n",
    "}\n"
   ]
  },
  {
   "cell_type": "markdown",
   "metadata": {},
   "source": [
    "# Flow control"
   ]
  },
  {
   "cell_type": "markdown",
   "metadata": {},
   "source": [
    "### For loop"
   ]
  },
  {
   "cell_type": "code",
   "execution_count": null,
   "metadata": {},
   "outputs": [],
   "source": [
    "with program() as prog:\n",
    "    idx = declare(int)\n",
    "    a = declare(int)\n",
    "    with for_(idx,0,idx<10,idx+1):\n",
    "        assign(a,a+1)\n",
    "        save(a,\"a\")\n",
    "    \n",
    "    \n",
    "\n",
    "QMm = QuantumMachinesManager()\n",
    "QMm.close_all_quantum_machines()\n",
    "\n",
    "QM1 = QMm.open_qm(config)\n",
    "job = QM1.simulate(prog, SimulationConfig(int(1000)))  # in clock cycles, 4 ns\n",
    "res=job.result_handles\n",
    "\n",
    "a = res.a.fetch_all()['value']\n",
    "\n",
    "print(f\"\\nThe program returned the value: a={a}\")"
   ]
  },
  {
   "cell_type": "markdown",
   "metadata": {},
   "source": [
    "### While loop"
   ]
  },
  {
   "cell_type": "code",
   "execution_count": null,
   "metadata": {},
   "outputs": [],
   "source": [
    "with program() as prog:\n",
    "    a = declare(int)\n",
    "    with while_(a<10):\n",
    "        assign(a,a+1)\n",
    "        save(a,\"a\")\n",
    "    \n",
    "    \n",
    "\n",
    "QMm = QuantumMachinesManager()\n",
    "QMm.close_all_quantum_machines()\n",
    "\n",
    "QM1 = QMm.open_qm(config)\n",
    "job = QM1.simulate(prog, SimulationConfig(int(1000)))  # in clock cycles, 4 ns\n",
    "res=job.result_handles\n",
    "\n",
    "a = res.a.fetch_all()['value']\n",
    "\n",
    "print(f\"\\nThe program returned the value: a={a}\")"
   ]
  },
  {
   "cell_type": "markdown",
   "metadata": {},
   "source": [
    "### Conditional: If and cond"
   ]
  },
  {
   "cell_type": "markdown",
   "metadata": {},
   "source": [
    "QUA implements an `if - else` which works as you expect: "
   ]
  },
  {
   "cell_type": "code",
   "execution_count": null,
   "metadata": {},
   "outputs": [],
   "source": [
    "with program() as prog:\n",
    "    a = declare(int)\n",
    "    with while_(a<10):\n",
    "        assign(a,a+1)\n",
    "        with if_(a==4):\n",
    "            save(a,\"a\")\n",
    "        with else_():\n",
    "            save(0,\"a\")\n",
    "            \n",
    "    \n",
    "    \n",
    "\n",
    "QMm = QuantumMachinesManager()\n",
    "QMm.close_all_quantum_machines()\n",
    "\n",
    "QM1 = QMm.open_qm(config)\n",
    "job = QM1.simulate(prog, SimulationConfig(int(1000)))  # in clock cycles, 4 ns\n",
    "res=job.result_handles\n",
    "\n",
    "a = res.a.fetch_all()['value']\n",
    "\n",
    "\n",
    "\n",
    "print(f\"\\nThe program returned the value: a={a}\")"
   ]
  },
  {
   "cell_type": "markdown",
   "metadata": {},
   "source": [
    "**Util.cond** : There is another way to implement simple conditional. The `Util.cond` function is an efficient implementation of the conditional which can speed up operations in some cases:"
   ]
  },
  {
   "cell_type": "code",
   "execution_count": null,
   "metadata": {},
   "outputs": [],
   "source": [
    "with program() as prog:\n",
    "    a = declare(int,value=0)\n",
    "    b = declare(int,value=10)\n",
    "    with while_(a<100):\n",
    "        assign(a,Util.cond(a == b, a+10000,a+1))\n",
    "        save(a,\"a\")\n",
    "            \n",
    "    \n",
    "    \n",
    "\n",
    "QMm = QuantumMachinesManager()\n",
    "QMm.close_all_quantum_machines()\n",
    "\n",
    "QM1 = QMm.open_qm(config)\n",
    "job = QM1.simulate(prog, SimulationConfig(int(1000)))  # in clock cycles, 4 ns\n",
    "res=job.result_handles\n",
    "\n",
    "a = res.a.fetch_all()['value']\n",
    "\n",
    "print(f\"\\nThe program returned the value: a={a}\")"
   ]
  },
  {
   "cell_type": "markdown",
   "metadata": {},
   "source": [
    "### Conditionally playing pulses"
   ]
  },
  {
   "cell_type": "markdown",
   "metadata": {},
   "source": [
    "A final conditional usage option is integrated into the play statment itself. By passing a condition to the `play` we play the pulse when a = 0 .. 4 but not for the rest of the loop values. "
   ]
  },
  {
   "cell_type": "code",
   "execution_count": null,
   "metadata": {},
   "outputs": [],
   "source": [
    "with program() as prog:\n",
    "    a = declare(int,value=0)\n",
    "    with for_(a,0,a<10,a+1):\n",
    "        play('playOp','qe1',condition=(a<5))\n",
    "        wait(100,'qe1')\n",
    "        save(a,\"a\")\n",
    "\n",
    "QMm = QuantumMachinesManager()\n",
    "QMm.close_all_quantum_machines()\n",
    "\n",
    "QM1 = QMm.open_qm(config)\n",
    "job = QM1.simulate(prog, SimulationConfig(int(5000)))  # in clock cycles, 4 ns\n",
    "res=job.result_handles\n",
    "\n",
    "a = res.a.fetch_all()['value']\n",
    "\n",
    "print(f\"\\nThe program returned the value: a={a}\")\n",
    "\n",
    "\n",
    "\n",
    "samples = job.get_simulated_samples()\n",
    "samples.con1.plot()"
   ]
  },
  {
   "cell_type": "markdown",
   "metadata": {},
   "source": [
    "## Excercises"
   ]
  },
  {
   "cell_type": "markdown",
   "metadata": {},
   "source": [
    "1. write a program to play two pulses, with delay of 100 cycles between them, repeat 100 times"
   ]
  },
  {
   "cell_type": "code",
   "execution_count": null,
   "metadata": {},
   "outputs": [],
   "source": []
  }
 ],
 "metadata": {
  "kernelspec": {
   "display_name": "Python 3",
   "language": "python",
   "name": "python3"
  },
  "language_info": {
   "codemirror_mode": {
    "name": "ipython",
    "version": 3
   },
   "file_extension": ".py",
   "mimetype": "text/x-python",
   "name": "python",
   "nbconvert_exporter": "python",
   "pygments_lexer": "ipython3",
   "version": "3.8.5"
  }
 },
 "nbformat": 4,
 "nbformat_minor": 4
}
