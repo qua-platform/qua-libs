{
 "cells": [
  {
   "cell_type": "code",
   "execution_count": 1,
   "metadata": {},
   "outputs": [],
   "source": [
    "%load_ext autoreload\n",
    "%autoreload 2"
   ]
  },
  {
   "cell_type": "markdown",
   "metadata": {},
   "source": [
    "# Experimental demonstration of memory-enhanced quantum communication"
   ]
  },
  {
   "cell_type": "markdown",
   "metadata": {},
   "source": [
    "[This paper](https://arxiv.org/abs/1909.01323) (PDF in current folder)"
   ]
  },
  {
   "cell_type": "markdown",
   "metadata": {},
   "source": [
    "<center><img src=\"figure_1.png\"/></center>"
   ]
  },
  {
   "cell_type": "code",
   "execution_count": 4,
   "metadata": {},
   "outputs": [
    {
     "name": "stdout",
     "output_type": "stream",
     "text": [
      "2021-04-01 18:46:50,032 - qm - INFO - Performing health check\n",
      "2021-04-01 18:46:50,035 - qm - INFO - Health check passed\n",
      "2021-04-01 18:46:50,244 - qm - INFO - to simulate a program, use QuantumMachinesManager.simulate(..)\n",
      "2021-04-01 18:46:50,260 - qm - INFO - Flags: \n",
      "2021-04-01 18:46:50,260 - qm - INFO - Simulating Qua program\n"
     ]
    },
    {
     "name": "stderr",
     "output_type": "stream",
     "text": [
      "C:\\Users\\gal\\Google Drive\\qua-libs\\examples\\Workshops\\CQE\\8.memory-enhanced-quantum-comms\\qua_macros.py:21: QMDeprecationWarning: _TimeTagging.raw is deprecated since 0.8: use time_tagging.analog instead\n",
      "  measure('readout', 'readout1', None, time_tagging.raw(result1, meas_len, targetLen=resultLen1))\n",
      "C:\\Users\\gal\\Google Drive\\qua-libs\\examples\\Workshops\\CQE\\8.memory-enhanced-quantum-comms\\qua_macros.py:22: QMDeprecationWarning: _TimeTagging.raw is deprecated since 0.8: use time_tagging.analog instead\n",
      "  measure('readout', 'readout2', None, time_tagging.raw(result2, meas_len, targetLen=resultLen2))\n",
      "<ipython-input-4-db79774f2076>:61: QMDeprecationWarning: _TimeTagging.raw is deprecated since 0.8: use time_tagging.analog instead\n",
      "  measure('readout', 'readout1', None, time_tagging.raw(result1, meas_len, targetLen=resultLen1))\n",
      "<ipython-input-4-db79774f2076>:62: QMDeprecationWarning: _TimeTagging.raw is deprecated since 0.8: use time_tagging.analog instead\n",
      "  measure('readout', 'readout2', None, time_tagging.raw(result2, meas_len, targetLen=resultLen2))\n"
     ]
    },
    {
     "data": {
      "text/plain": [
       "Text(0, 0.5, 'counting')"
      ]
     },
     "execution_count": 4,
     "metadata": {},
     "output_type": "execute_result"
    },
    {
     "data": {
      "image/png": "[encoded data removed]",
      "text/plain": [
       "<Figure size 432x288 with 4 Axes>"
      ]
     },
     "metadata": {
      "needs_background": "light"
     },
     "output_type": "display_data"
    }
   ],
   "source": [
    "from qm.QuantumMachinesManager import QuantumMachinesManager\n",
    "from qm.qua import *\n",
    "from qm import SimulationConfig\n",
    "from Configuration import config\n",
    "\n",
    "import matplotlib.pyplot as plt\n",
    "\n",
    "\n",
    "#############\n",
    "# Time trace:\n",
    "#############\n",
    "from qua_macros import reset_spin\n",
    "\n",
    "meas_len = 1e3\n",
    "rep_num = 1e7\n",
    "threshold = 7\n",
    "Qmm = QuantumMachinesManager()\n",
    "Qmm.close_all_quantum_machines()\n",
    "qm = Qmm.open_qm(config)\n",
    "with program() as spin_qubit_spec:\n",
    "\n",
    "    ##############################\n",
    "    # Declare real-time variables:\n",
    "    ##############################\n",
    "\n",
    "    n = declare(int)\n",
    "    k = declare(int)\n",
    "    se = declare(bool)\n",
    "\n",
    "    result1 = declare(int, size=int(meas_len / 500))\n",
    "    resultLen1 = declare(int)\n",
    "    result2 = declare(int, size=int(meas_len / 500))\n",
    "    resultLen2 = declare(int)\n",
    "\n",
    "    ###############\n",
    "    # The sequence:\n",
    "    ###############\n",
    "    with for_(n, 0, n < rep_num, n + 1):\n",
    "\n",
    "        reset_spin(threshold)\n",
    "\n",
    "        # sequence:\n",
    "        play('pi2', 'spin_qubit')\n",
    "        align('spin_qubit', 'opt_qubit_amp')\n",
    "\n",
    "        play('photon', 'opt_qubit_amp')\n",
    "        wait(32, 'opt_qubit_amp')\n",
    "        align('opt_qubit_amp', 'opt_qubit_phase')\n",
    "        play('phase_shift', 'opt_qubit_phase')\n",
    "        play('photon', 'opt_qubit_amp')\n",
    "\n",
    "        wait(18, 'spin_qubit')\n",
    "        play('pi', 'spin_qubit')\n",
    "        # align('spin_qubit', 'opt_qubit_amp', 'opt_qubit_phase')\n",
    "\n",
    "\n",
    "\n",
    "        # Readout:\n",
    "        align('opt_qubit_amp', 'opt_qubit_phase', 'readout', 'readout1', 'readout2')\n",
    "        play('on', 'readout', duration=1000)\n",
    "        measure('readout', 'readout1', None, time_tagging.raw(result1, meas_len, targetLen=resultLen1))\n",
    "        measure('readout', 'readout2', None, time_tagging.raw(result2, meas_len, targetLen=resultLen2))\n",
    "        # measure_spin('z', threshold, se)\n",
    "\n",
    "        # save\n",
    "        i = declare(int)\n",
    "        j = declare(int)\n",
    "        with for_(i, 0, i < resultLen1, i + 1):\n",
    "            save(result1[i], 'time_tags_plus')\n",
    "        with for_(j, 0, j < resultLen2, j + 1):\n",
    "            save(result2[j], 'time_tags_plus')\n",
    "\n",
    "job = qm.simulate(spin_qubit_spec, SimulationConfig(8000))\n",
    "# job.get_simulated_samples().con1.plot()\n",
    "\n",
    "sim = job.get_simulated_samples()\n",
    "pulses = job.simulated_analog_waveforms()\n",
    "dig_pulses = job.simulated_digital_waveforms()\n",
    "\n",
    "\n",
    "plt.figure(1)\n",
    "ax1 = plt.subplot(411)\n",
    "plt.plot(sim.con1.analog['1'])\n",
    "plt.plot(sim.con1.analog['2'])\n",
    "plt.ylabel('spin_qubit')\n",
    "\n",
    "plt.subplot(412)\n",
    "plt.plot(sim.con1.analog['3'])\n",
    "plt.plot(sim.con1.analog['4'])\n",
    "plt.plot(sim.con1.digital['3'])\n",
    "plt.ylabel('opt qubit amp and phase')\n",
    "\n",
    "plt.subplot(413)\n",
    "plt.plot(sim.con1.digital['1'])\n",
    "plt.ylabel('readout')\n",
    "\n",
    "plt.subplot(414)\n",
    "plt.plot(sim.con1.digital['7'])\n",
    "# plt.plot(sim.con1.digital['8'])\n",
    "plt.ylabel('counting')\n",
    "\n"
   ]
  },
  {
   "cell_type": "code",
   "execution_count": null,
   "metadata": {},
   "outputs": [],
   "source": []
  }
 ],
 "metadata": {
  "kernelspec": {
   "display_name": "qua-libs",
   "language": "python",
   "name": "qua-libs"
  },
  "language_info": {
   "codemirror_mode": {
    "name": "ipython",
    "version": 3
   },
   "file_extension": ".py",
   "mimetype": "text/x-python",
   "name": "python",
   "nbconvert_exporter": "python",
   "pygments_lexer": "ipython3",
   "version": "3.8.8"
  }
 },
 "nbformat": 4,
 "nbformat_minor": 4
}
