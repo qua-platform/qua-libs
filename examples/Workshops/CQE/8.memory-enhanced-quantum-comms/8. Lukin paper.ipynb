{
 "cells": [
  {
   "cell_type": "code",
   "execution_count": 1,
   "metadata": {},
   "outputs": [],
   "source": [
    "%load_ext autoreload\n",
    "%autoreload 2"
   ]
  },
  {
   "cell_type": "markdown",
   "metadata": {},
   "source": [
    "# Experimental demonstration of memory-enhanced quantum communication"
   ]
  },
  {
   "cell_type": "markdown",
   "metadata": {},
   "source": [
    "This notebook follows work published in [This paper](https://arxiv.org/abs/1909.01323) (PDF in current folder). \n",
    "\n",
    "### Just enough quantum key distribution (if you need it)\n",
    "\n",
    "The paper shows a method to improve quantum key distribution using a quantum memory and optical qubits. So we begin with a minimal introduction/reminder on quantum key distributions. The distribution protocol shown below is called BB84 and  uses optical qubits encoded on the polarization state of photons, but there are many other methods. \n",
    "\n",
    "The goal of the game is to exchange a _classical_ encryption key between Alice and Bob, but they want to use a _quantum_ channel to ensure their key was not compromised by the evil Eve. To do this, they agree on two possible orthogonal basis in which they may encode qubits: X (45/135 degree polarization) or + (0/90 degree polarization). Alice randomizes a string of classical bits and polarization orientations and sends them to Bob. Bob chooses an orientation for his polarizer at random and measures the qubit. Alice and Bob then have a chat over an insecure line and Bob tells Alice what polarizer orientations he used for each measurement. For each of Bob's attempts, Alice replies \"correct\" or \"incorrect\". The measurements Bob performed with correct orientations resulted in the same bits as those transmitted by Alice and can now constitue an encription key. This is called _sifting_ because you throw away some of the bits (where the polarizer orientation did not match). There are more details on the protocol but they aren't important for us right now.\n",
    "\n",
    "<center><img src=\"figure_0.png\"/></center>\n",
    "\n"
   ]
  },
  {
   "cell_type": "markdown",
   "metadata": {},
   "source": [
    "## The SiV setup\n",
    "\n",
    "\n",
    "The system under consideration is a Si-V (silicon-vacancy center) in a diamon photonic cavity that is coupled to an optical fiber. This system is used to demonstrate an enhancement in the rate of quantum key distribution (QKD) which uses the SiV as a quantum memory. The memory enables surpassing the theoretical limit of the QKD rate limit in a lossy channel. \n",
    "\n",
    "\n",
    "<center><img src=\"figure_1.png\"/></center>\n",
    "\n",
    "\n",
    "The spin state of the  SiV (up or down) can be controlled using microwave pulses applied by the gold element surrounding the SiV. \n",
    "\n",
    "The SiV is embedded in a photonic crystal waveguide which increases the coupling between the incoming photons and the SiV. Cooperativity of this cavity is measured to be  $C=105\\pm 11$.\n",
    "\n",
    "To detect the SiV state, the reflection of a photon from the cavity is measured. If the spin state is $\\uparrow$, there is reflection and if it is $\\downarrow$, there is none (very little). "
   ]
  },
  {
   "cell_type": "markdown",
   "metadata": {},
   "source": [
    "### The photonic qubit\n",
    "\n",
    "The qubit is encoded on relative phase and timing of a pair of optical pulses, separated by $\\delta t = 142 ns$. The pulses are called \"early\" or \"late\" photons (though they are weak coherent pulses). \n",
    "\n",
    "### Entangling a photonic qubit with a spin \n",
    "\n",
    "A photon is refelected from the cavity if and only if the spin state is $\\uparrow$. As is shown on the diagram below, the spin is prepared in the $|\\leftarrow \\rangle= |\\uparrow\\rangle+ |\\downarrow\\rangle$ by a $\\pi/2$ (MW) pulse and a (MW) $\\pi$ pulse is inserted between each pair of photonic pulses. The reflected state can then not have the $|e\\uparrow\\rangle$ or $| l\\downarrow \\rangle$ components.\n",
    "\n",
    "However, as the pulses travel from the cavity and to the pair of single photon detectors, they are passed thorugh a Time-Delay Interferometer (TDI). The interferometer allows photons to go though either a long path or a short path, whose path difference exactly compensates for the $\\delta t$ time difference between the pulses. This erases the time-bin information (early or late) and leves the system in an entangled state $|\\pm\\rangle \\propto |e\\rangle \\pm |l\\rangle$ \n",
    "\n",
    "\n",
    "### The memory enhanced QKD protocol\n",
    "\n",
    "We now finally reach the suggested protocol. Unlike the BB84 case, Alice and Bob each take turns sending qubits to Charlie who's in the middle between them. Charlie holds the memory device (spin) and is able to measure it. \n",
    "\n",
    "In the image below a set of pulses is shown (red) and for different relative phases (in blue) between each pair (controlled by a optical phase shifter) the qubit state is specified below the image.\n",
    "\n",
    "\n",
    "<center><img src=\"figure_qubits.png\"/></center>\n",
    "\n",
    "The Z basis in the photonic perspective is whether the photon is in the early or late time bin. The X Basis is the early+late or early-late state. The image below shows a arrival time histogram on one of the single photon detectors (+1). So the +x state would be measured by any click on the +1 detector at time 0 (relative the photon pair timing) and the -x state would be detected by the same pulse on the -1 detector. \n",
    "\n",
    "<center><img src=\"figure_2.png\"/></center>\n"
   ]
  },
  {
   "cell_type": "markdown",
   "metadata": {},
   "source": [
    "# Experimental sequence: spin qubit spectroscopy"
   ]
  },
  {
   "cell_type": "code",
   "execution_count": 4,
   "metadata": {},
   "outputs": [
    {
     "name": "stdout",
     "output_type": "stream",
     "text": [
      "2021-04-05 14:36:09,243 - qm - INFO - Performing health check\n",
      "2021-04-05 14:36:18,066 - qm - INFO - Health check passed\n",
      "2021-04-05 14:36:18,363 - qm - WARNING - streaming adc data without adc_trace flag might cause performance issues\n",
      "2021-04-05 14:36:18,379 - qm - INFO - to simulate a program, use QuantumMachinesManager.simulate(..)\n",
      "2021-04-05 14:36:18,422 - qm - INFO - Flags: \n",
      "2021-04-05 14:36:18,423 - qm - INFO - Simulating Qua program\n"
     ]
    },
    {
     "name": "stderr",
     "output_type": "stream",
     "text": [
      "<ipython-input-4-88000bd7a235>:42: QMDeprecationWarning: _TimeTagging.raw is deprecated since 0.8: use time_tagging.analog instead\n",
      "  measure('readout', 'readout1', 'adc', time_tagging.raw(result1, meas_len, targetLen=resultLen1))\n",
      "<ipython-input-4-88000bd7a235>:43: QMDeprecationWarning: _TimeTagging.raw is deprecated since 0.8: use time_tagging.analog instead\n",
      "  measure('readout', 'readout2', None, time_tagging.raw(result2, meas_len, targetLen=resultLen2))\n"
     ]
    },
    {
     "data": {
      "text/plain": [
       "Text(0, 0.5, 'counting')"
      ]
     },
     "execution_count": 4,
     "metadata": {},
     "output_type": "execute_result"
    },
    {
     "data": {
      "image/png": "[encoded data removed]",
      "text/plain": [
       "<Figure size 432x288 with 3 Axes>"
      ]
     },
     "metadata": {
      "needs_background": "light"
     },
     "output_type": "display_data"
    }
   ],
   "source": [
    "from qm.QuantumMachinesManager import QuantumMachinesManager\n",
    "from qm.qua import *\n",
    "from qm import SimulationConfig\n",
    "from Configuration import config\n",
    "\n",
    "import matplotlib.pyplot as plt\n",
    "\n",
    "#############\n",
    "# Time trace:\n",
    "#############\n",
    "\n",
    "meas_len = 1e3\n",
    "rep_num = 1e7\n",
    "Qmm = QuantumMachinesManager()\n",
    "Qmm.close_all_quantum_machines()\n",
    "qm = Qmm.open_qm(config)\n",
    "with program() as spin_qubit_spec:\n",
    "\n",
    "    ##############################\n",
    "    # Declare real-time variables:\n",
    "    ##############################\n",
    "\n",
    "    n = declare(int)\n",
    "    f = declare(int)\n",
    "    result1 = declare(int, size=int(meas_len/500))\n",
    "    resultLen1 = declare(int)\n",
    "    result2 = declare(int, size=int(meas_len/500))\n",
    "    resultLen2 = declare(int)\n",
    "    counts = declare(int)\n",
    "\n",
    "\n",
    "    ###############\n",
    "    # The sequence:\n",
    "    ###############\n",
    "\n",
    "    with for_(n, 0, n < rep_num, n + 1):\n",
    "        with for_(f, 4e6, f<14e6, f+4e6):\n",
    "            update_frequency('spin_qubit', f)\n",
    "            play('saturation', 'spin_qubit', duration=1000)\n",
    "            align('spin_qubit', 'readout', 'readout1', 'readout2')\n",
    "            play('on', 'readout', duration=1000)\n",
    "            measure('readout', 'readout1', 'adc', time_tagging.raw(result1, meas_len, targetLen=resultLen1))\n",
    "            measure('readout', 'readout2', None, time_tagging.raw(result2, meas_len, targetLen=resultLen2))\n",
    "            assign(counts, resultLen1+resultLen2)\n",
    "\n",
    "        save(counts, 'counts')\n",
    "\n",
    "\n",
    "        # with for_(n, 0, n < resultLen1, n + 1):\n",
    "        #     save(result1[n], \"res1\")\n",
    "        # with for_(p, 0, p < resultLen2, p + 1):\n",
    "        #     save(result2[p], \"res2\")\n",
    "\n",
    "\n",
    "job = qm.simulate(spin_qubit_spec, SimulationConfig(8000))\n",
    "# job.get_simulated_samples().con1.plot()\n",
    "\n",
    "sim = job.get_simulated_samples()\n",
    "pulses = job.simulated_analog_waveforms()\n",
    "dig_pulses = job.simulated_digital_waveforms()\n",
    "\n",
    "\n",
    "plt.figure(1)\n",
    "ax1 = plt.subplot(311)\n",
    "plt.plot(sim.con1.analog['1'])\n",
    "plt.plot(sim.con1.analog['2'])\n",
    "plt.ylabel('spin_qubit')\n",
    "\n",
    "plt.subplot(312)\n",
    "plt.plot(sim.con1.digital['1'])\n",
    "plt.ylabel('readout')\n",
    "\n",
    "plt.subplot(313)\n",
    "plt.plot(sim.con1.digital['7'])\n",
    "plt.plot(sim.con1.digital['8'])\n",
    "plt.ylabel('counting')\n"
   ]
  },
  {
   "cell_type": "markdown",
   "metadata": {},
   "source": [
    "# Experimental sequence: Spin-photon entanglement"
   ]
  },
  {
   "cell_type": "code",
   "execution_count": 5,
   "metadata": {},
   "outputs": [
    {
     "name": "stdout",
     "output_type": "stream",
     "text": [
      "2021-04-05 22:53:16,641 - qm - INFO - Performing health check\n",
      "2021-04-05 22:53:16,654 - qm - INFO - Health check passed\n",
      "2021-04-05 22:53:16,859 - qm - INFO - to simulate a program, use QuantumMachinesManager.simulate(..)\n",
      "2021-04-05 22:53:16,884 - qm - INFO - Flags: \n",
      "2021-04-05 22:53:16,886 - qm - INFO - Simulating Qua program\n"
     ]
    },
    {
     "name": "stderr",
     "output_type": "stream",
     "text": [
      "C:\\Users\\gal\\Google Drive\\qua-libs\\examples\\Workshops\\CQE\\8.memory-enhanced-quantum-comms\\qua_macros.py:21: QMDeprecationWarning: _TimeTagging.raw is deprecated since 0.8: use time_tagging.analog instead\n",
      "  measure('readout', 'readout1', None, time_tagging.raw(result1, meas_len, targetLen=resultLen1))\n",
      "C:\\Users\\gal\\Google Drive\\qua-libs\\examples\\Workshops\\CQE\\8.memory-enhanced-quantum-comms\\qua_macros.py:22: QMDeprecationWarning: _TimeTagging.raw is deprecated since 0.8: use time_tagging.analog instead\n",
      "  measure('readout', 'readout2', None, time_tagging.raw(result2, meas_len, targetLen=resultLen2))\n",
      "<ipython-input-5-db79774f2076>:61: QMDeprecationWarning: _TimeTagging.raw is deprecated since 0.8: use time_tagging.analog instead\n",
      "  measure('readout', 'readout1', None, time_tagging.raw(result1, meas_len, targetLen=resultLen1))\n",
      "<ipython-input-5-db79774f2076>:62: QMDeprecationWarning: _TimeTagging.raw is deprecated since 0.8: use time_tagging.analog instead\n",
      "  measure('readout', 'readout2', None, time_tagging.raw(result2, meas_len, targetLen=resultLen2))\n"
     ]
    },
    {
     "data": {
      "text/plain": [
       "Text(0, 0.5, 'counting')"
      ]
     },
     "execution_count": 5,
     "metadata": {},
     "output_type": "execute_result"
    },
    {
     "data": {
      "image/png": "[encoded data removed]",
      "text/plain": [
       "<Figure size 432x288 with 4 Axes>"
      ]
     },
     "metadata": {
      "needs_background": "light"
     },
     "output_type": "display_data"
    }
   ],
   "source": [
    "from qm.QuantumMachinesManager import QuantumMachinesManager\n",
    "from qm.qua import *\n",
    "from qm import SimulationConfig\n",
    "from Configuration import config\n",
    "\n",
    "import matplotlib.pyplot as plt\n",
    "\n",
    "\n",
    "#############\n",
    "# Time trace:\n",
    "#############\n",
    "from qua_macros import reset_spin\n",
    "\n",
    "meas_len = 1e3\n",
    "rep_num = 1e7\n",
    "threshold = 7\n",
    "Qmm = QuantumMachinesManager()\n",
    "Qmm.close_all_quantum_machines()\n",
    "qm = Qmm.open_qm(config)\n",
    "with program() as spin_qubit_spec:\n",
    "\n",
    "    ##############################\n",
    "    # Declare real-time variables:\n",
    "    ##############################\n",
    "\n",
    "    n = declare(int)\n",
    "    k = declare(int)\n",
    "    se = declare(bool)\n",
    "\n",
    "    result1 = declare(int, size=int(meas_len / 500))\n",
    "    resultLen1 = declare(int)\n",
    "    result2 = declare(int, size=int(meas_len / 500))\n",
    "    resultLen2 = declare(int)\n",
    "\n",
    "    ###############\n",
    "    # The sequence:\n",
    "    ###############\n",
    "    with for_(n, 0, n < rep_num, n + 1):\n",
    "\n",
    "        reset_spin(threshold)\n",
    "\n",
    "        # sequence:\n",
    "        play('pi2', 'spin_qubit')\n",
    "        align('spin_qubit', 'opt_qubit_amp')\n",
    "\n",
    "        play('photon', 'opt_qubit_amp')\n",
    "        wait(32, 'opt_qubit_amp')\n",
    "        align('opt_qubit_amp', 'opt_qubit_phase')\n",
    "        play('phase_shift', 'opt_qubit_phase')\n",
    "        play('photon', 'opt_qubit_amp')\n",
    "\n",
    "        wait(18, 'spin_qubit')\n",
    "        play('pi', 'spin_qubit')\n",
    "        # align('spin_qubit', 'opt_qubit_amp', 'opt_qubit_phase')\n",
    "\n",
    "\n",
    "\n",
    "        # Readout:\n",
    "        align('opt_qubit_amp', 'opt_qubit_phase', 'readout', 'readout1', 'readout2')\n",
    "        play('on', 'readout', duration=1000)\n",
    "        measure('readout', 'readout1', None, time_tagging.raw(result1, meas_len, targetLen=resultLen1))\n",
    "        measure('readout', 'readout2', None, time_tagging.raw(result2, meas_len, targetLen=resultLen2))\n",
    "        # measure_spin('z', threshold, se)\n",
    "\n",
    "        # save\n",
    "        i = declare(int)\n",
    "        j = declare(int)\n",
    "        with for_(i, 0, i < resultLen1, i + 1):\n",
    "            save(result1[i], 'time_tags_plus')\n",
    "        with for_(j, 0, j < resultLen2, j + 1):\n",
    "            save(result2[j], 'time_tags_plus')\n",
    "\n",
    "job = qm.simulate(spin_qubit_spec, SimulationConfig(8000))\n",
    "# job.get_simulated_samples().con1.plot()\n",
    "\n",
    "sim = job.get_simulated_samples()\n",
    "pulses = job.simulated_analog_waveforms()\n",
    "dig_pulses = job.simulated_digital_waveforms()\n",
    "\n",
    "\n",
    "plt.figure(1)\n",
    "ax1 = plt.subplot(411)\n",
    "plt.plot(sim.con1.analog['1'])\n",
    "plt.plot(sim.con1.analog['2'])\n",
    "plt.ylabel('spin_qubit')\n",
    "\n",
    "plt.subplot(412)\n",
    "plt.plot(sim.con1.analog['3'])\n",
    "plt.plot(sim.con1.analog['4'])\n",
    "plt.plot(sim.con1.digital['3'])\n",
    "plt.ylabel('opt qubit amp and phase')\n",
    "\n",
    "plt.subplot(413)\n",
    "plt.plot(sim.con1.digital['1'])\n",
    "plt.ylabel('readout')\n",
    "\n",
    "plt.subplot(414)\n",
    "plt.plot(sim.con1.digital['7'])\n",
    "# plt.plot(sim.con1.digital['8'])\n",
    "plt.ylabel('counting')\n",
    "\n"
   ]
  },
  {
   "cell_type": "code",
   "execution_count": null,
   "metadata": {},
   "outputs": [],
   "source": []
  }
 ],
 "metadata": {
  "kernelspec": {
   "display_name": "qua-libs",
   "language": "python",
   "name": "qua-libs"
  },
  "language_info": {
   "codemirror_mode": {
    "name": "ipython",
    "version": 3
   },
   "file_extension": ".py",
   "mimetype": "text/x-python",
   "name": "python",
   "nbconvert_exporter": "python",
   "pygments_lexer": "ipython3",
   "version": "3.8.8"
  }
 },
 "nbformat": 4,
 "nbformat_minor": 4
}
