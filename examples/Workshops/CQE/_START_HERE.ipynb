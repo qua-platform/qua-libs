{
 "cells": [
  {
   "cell_type": "markdown",
   "metadata": {},
   "source": [
    "# Start here\n"
   ]
  },
  {
   "cell_type": "markdown",
   "metadata": {},
   "source": [
    "To run the following code you need to set up a basic python environment which has (at least) numpy and matplotlib. \n",
    "In addition, you will have to install the QUA python package (called qm). \n",
    "\n",
    "## installing the qm package\n",
    "\n",
    "Each participant has been assigned a cloud simulator with a different IP. See the attached table with participant names and associated IPs to find your own. \n",
    "Once you know your IP, install the package using pip: `pip install <ip-address>/python-package` \n",
    "\n"
   ]
  },
  {
   "cell_type": "code",
   "execution_count": null,
   "metadata": {},
   "outputs": [],
   "source": []
  }
 ],
 "metadata": {
  "kernelspec": {
   "display_name": "Python 3",
   "language": "python",
   "name": "python3"
  },
  "language_info": {
   "codemirror_mode": {
    "name": "ipython",
    "version": 3
   },
   "file_extension": ".py",
   "mimetype": "text/x-python",
   "name": "python",
   "nbconvert_exporter": "python",
   "pygments_lexer": "ipython3",
   "version": "3.8.5"
  }
 },
 "nbformat": 4,
 "nbformat_minor": 4
}
