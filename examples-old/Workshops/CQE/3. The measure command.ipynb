{
 "cells": [
  {
   "cell_type": "code",
   "execution_count": null,
   "metadata": {},
   "outputs": [],
   "source": [
    "%load_ext autoreload\n",
    "%autoreload 2\n",
    "from qm.QuantumMachinesManager import QuantumMachinesManager\n",
    "from qm.qua import *\n",
    "from qm import SimulationConfig,LoopbackInterface\n",
    "import numpy as np\n",
    "import matplotlib.pyplot as plt\n"
   ]
  },
  {
   "cell_type": "markdown",
   "metadata": {},
   "source": [
    "# The `measure` command"
   ]
  },
  {
   "cell_type": "markdown",
   "metadata": {},
   "source": [
    "The OPX has two analog to digital converters able to sample analog signals at 1 giga-sample per second (GSPS). \n",
    "\n",
    "The data obtained by this measurement can be accessed as a \"raw\" stream, meaning you simply obtain the digitized voltage values, between -0.5V and 0.5V. \n",
    "However, you can do much more than that. The measure command can combine measured samples in different ways, to provide a weighted sum (integration) of the samples, demodulate the signal, provide a vector of time stamps if the signal is composed of multiple rectangular pulses (time-tagging) and more. \n",
    "\n",
    "The measurement command always plays a pulse performing the measurement. The idea behind this is that you almost always need to drive the system you are measuring. You are going to be measuring reflection, fluorescence or something similar and so it stands to reason you also need to play a pulse to generate these effects.\n",
    "\n",
    "The configuration below defines a quantum element working at DC. That element has an input on OPX ADC 1 and and output on the OPX DAC 1. Unlike previous configurtion files in these notebooks, it also includes a section called `integration_weights`. Defining weights is mandatory when using integration or demodulation because, as stated above, the integration is a _weighted_ sum. "
   ]
  },
  {
   "cell_type": "code",
   "execution_count": null,
   "metadata": {},
   "outputs": [],
   "source": [
    "pulse_len = 1000\n",
    "long_pulse_len=50000\n",
    "\n",
    "config = {\n",
    "    \"version\": 1,\n",
    "    \"controllers\": {\n",
    "        \"con1\": {\n",
    "            \"type\": \"opx1\",\n",
    "            \"analog_outputs\": {\n",
    "                1: {\"offset\": +0.0},\n",
    "            },\n",
    "            \"analog_inputs\": {\n",
    "                1: {\"offset\": +0.0},\n",
    "            },\n",
    "        }\n",
    "    },\n",
    "    \"elements\": {\n",
    "        \"qe1\": {\n",
    "            \"singleInput\": {\"port\": (\"con1\", 1)},\n",
    "            \"outputs\": {\"output1\": (\"con1\", 1)},\n",
    "            \"intermediate_frequency\": 0e6,\n",
    "            \"operations\": {\n",
    "                \"readoutOp\": \"readoutPulse\",\n",
    "                \"readoutOp2\": \"readoutPulse2\",\n",
    "            },\n",
    "            \"time_of_flight\": 180,\n",
    "            \"smearing\": 0,\n",
    "        },\n",
    "    },\n",
    "    \"pulses\": {\n",
    "        \"readoutPulse\": {\n",
    "            \"operation\": \"measure\",\n",
    "            \"length\": pulse_len,\n",
    "            \"waveforms\": {\"single\": \"const_wf\"},\n",
    "            \"digital_marker\": \"ON\",\n",
    "            \"integration_weights\": {\"x\": \"xWeights\", \"y\": \"yWeights\"},\n",
    "        },\n",
    "        \"readoutPulse2\": {\n",
    "            \"operation\": \"measure\",\n",
    "            \"length\": long_pulse_len,\n",
    "            \"waveforms\": {\"single\": \"const_wf\"},\n",
    "            \"digital_marker\": \"ON\",\n",
    "            \"integration_weights\": {\"x\": \"xWeights2\", \"y\": \"yWeights2\"},\n",
    "        },\n",
    "    },\n",
    "    \"waveforms\": {\n",
    "        \"const_wf\": {\"type\": \"constant\", \"sample\": 0.2},\n",
    "        \n",
    "    },\n",
    "    \"digital_waveforms\": {\n",
    "        \"ON\": {\"samples\": [(1, 0)]},\n",
    "    },\n",
    "    \"integration_weights\": {\n",
    "        \"xWeights\": {\n",
    "            \"cosine\": [1.0] * (pulse_len // 4),\n",
    "            \"sine\": [1.0] * (pulse_len // 4),\n",
    "        },\n",
    "        \"yWeights\": {\n",
    "            \"cosine\": [1.0] * (pulse_len // 4),\n",
    "            \"sine\": [1.0] * (pulse_len // 4),\n",
    "        },\n",
    "        \"xWeights2\": {\n",
    "            \"cosine\": [1.0] * (long_pulse_len // 4),\n",
    "            \"sine\": [1.0] * (long_pulse_len // 4),\n",
    "        },\n",
    "        \"yWeights2\": {\n",
    "            \"cosine\": [1.0] * (long_pulse_len // 4),\n",
    "            \"sine\": [1.0] * (long_pulse_len // 4),\n",
    "        },\n",
    "    },\n",
    "}\n"
   ]
  },
  {
   "cell_type": "markdown",
   "metadata": {},
   "source": [
    "## Integration and raw measurement"
   ]
  },
  {
   "cell_type": "markdown",
   "metadata": {},
   "source": [
    "We will now discuss a program that uses several features we have not yet discussed. There is a declaration of variable `I = declare(fixed)`, the `measure` command itself, the `save` command and something called the `LoopbackInterface`.\n",
    "\n",
    "The setup is as follows: we use `LoopbackInterface` to tell the simulator to connect output number 1 to input number 1. We can then measure what we play, and manipulate that data. The QUA program declares a variable `I` which has a `fixed` number type. This is a decimal number representation which is one of the 3 data types we currently support in QUA (`int`, `fixed` & `bool`). We then use the `measure` command and do two things: \n",
    "\n",
    "1. save the samples measured by the ADC to a stream of data that we call \"raw\" (but we could have called it anything else)\n",
    "2. apply the `integration` operator, that takes all the input samples and sums them together (applying the weight vector)\n",
    "\n",
    "The `integration` operator populates the `I` variable, but if we want to be able to access it outside the QUA program we also need to save it. We do this with the `save` command. Here, again we save its value to a named stream which we also called `\"I\"`, but we could have called it anything at all.\n"
   ]
  },
  {
   "cell_type": "code",
   "execution_count": null,
   "metadata": {},
   "outputs": [],
   "source": [
    "\n",
    "QMm = QuantumMachinesManager()\n",
    "QMm.close_all_quantum_machines()\n",
    "QM1 = QMm.open_qm(config)\n",
    "\n",
    "\n",
    "\n",
    "with program() as measureProg:\n",
    "    I = declare(fixed)\n",
    "    measure(\"readoutOp\", \"qe1\", \"raw\", integration.full(\"x\", I))\n",
    "    save(I,\"I\")\n",
    "    \n",
    "job = QM1.simulate(measureProg,SimulationConfig(1000, simulation_interface=LoopbackInterface([(\"con1\", 1, \"con1\", 1)])),)\n",
    "res = job.result_handles\n",
    "print(f\"\\nRaw ADC stream\")\n",
    "print(f\"================\")\n",
    "plt.figure()\n",
    "plt.plot(res.raw_input1.fetch_all()['value'])\n",
    "plt.show()\n",
    "I=res.I.fetch_all()['value']\n",
    "print(f\"\\nIntegration result = {I}\")"
   ]
  },
  {
   "cell_type": "markdown",
   "metadata": {},
   "source": [
    "## Segmented integration"
   ]
  },
  {
   "cell_type": "markdown",
   "metadata": {},
   "source": [
    "The `integrate` command is quite versatile. It not only sums all the samples in a vector but can also perform a moving-window integration, sliced integration and other things you can read about in the [docs](https://qm-docs.s3.amazonaws.com/v0.8/python/features.html?highlight=integration). \n",
    "\n",
    "This is already an advanced topic given the duration of this workshop, so we will just give one example. \n",
    "\n",
    "The idea is to perform the integration in several non-overlapping segments. This allows to perform data size reduction (you turn many points into few) and is effectively a noise filter as noise in each segment is averaged out (if it's fast compared to the window size in time). You can customize how it's done by tweaking the integration weights. In this case we just use a uniform integration weight throughout. \n",
    "\n",
    "You can play with the number of segments and see how the sine curve on the bottom panel (which is sampled at 1 GSPS) is turned into a few-point representation of the same signal."
   ]
  },
  {
   "cell_type": "code",
   "execution_count": null,
   "metadata": {},
   "outputs": [],
   "source": [
    "\n",
    "num_segments = 50\n",
    "\n",
    "seg_length = long_pulse_len // (4 * num_segments)\n",
    "\n",
    "config[\"integration_weights\"][\"xWeights\"][\"cosine\"] = [0.1] * num_segments * seg_length\n",
    "config[\"integration_weights\"][\"xWeights\"][\"sine\"] = [0.0] * num_segments * seg_length\n",
    "config[\"integration_weights\"][\"yWeights\"][\"sine\"] = [0.1] * num_segments * seg_length\n",
    "config[\"integration_weights\"][\"yWeights\"][\"cosine\"] = [0.0] * num_segments * seg_length\n",
    "QMm = QuantumMachinesManager()\n",
    "QMm.close_all_quantum_machines()\n",
    "QM1 = QMm.open_qm(config)\n",
    "with program() as measureProg:\n",
    "    ind = declare(int)\n",
    "    I = declare(fixed)\n",
    "    update_frequency(\"qe1\",0.1e6)\n",
    "    int_stream = declare_stream()\n",
    "    \n",
    "    sliced_integration_res = declare(fixed, size=int(num_segments))\n",
    "    \n",
    "    measure(\"readoutOp2\",\"qe1\",\"raw\",integration.sliced(\"x\", sliced_integration_res, seg_length),)\n",
    "\n",
    "    with for_(ind, 0, ind < num_segments, ind + 1):\n",
    "        save(sliced_integration_res[ind], int_stream)\n",
    "\n",
    "    \n",
    "    with stream_processing():\n",
    "        int_stream.save_all(\"int_sliced\")\n",
    "    \n",
    "job = QM1.simulate(measureProg,SimulationConfig(40000, simulation_interface=LoopbackInterface([(\"con1\", 1, \"con1\", 1)])),)\n",
    "res = job.result_handles\n",
    "res.wait_for_all_values()\n",
    "plt.figure()\n",
    "plt.plot(res.int_sliced.fetch_all()['value'], \"o-\")\n",
    "plt.show()\n",
    "\n",
    "plt.figure()\n",
    "plt.plot(res.raw_input1.fetch_all()['value'])\n",
    "plt.show()\n"
   ]
  },
  {
   "cell_type": "markdown",
   "metadata": {},
   "source": [
    "## Excercises"
   ]
  },
  {
   "cell_type": "markdown",
   "metadata": {},
   "source": [
    "1. Play a sinusoidal pulse at 50 MHz and display the output trace in the time domain\n",
    "2. Perform a demodulation using the `demod.full` operator. Observe what happens if you multiply the integration weights by X2. "
   ]
  },
  {
   "cell_type": "code",
   "execution_count": null,
   "metadata": {},
   "outputs": [],
   "source": []
  }
 ],
 "metadata": {
  "kernelspec": {
   "display_name": "Python 3",
   "language": "python",
   "name": "python3"
  },
  "language_info": {
   "codemirror_mode": {
    "name": "ipython",
    "version": 3
   },
   "file_extension": ".py",
   "mimetype": "text/x-python",
   "name": "python",
   "nbconvert_exporter": "python",
   "pygments_lexer": "ipython3",
   "version": "3.8.5"
  }
 },
 "nbformat": 4,
 "nbformat_minor": 4
}
