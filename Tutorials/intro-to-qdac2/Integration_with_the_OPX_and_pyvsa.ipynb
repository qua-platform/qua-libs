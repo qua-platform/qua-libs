{
 "cells": [
  {
   "cell_type": "markdown",
   "metadata": {},
   "source": [
    "# Tutorial showing the integration between the QDAC2 and the OPX to perform voltage sweeps using the pyvisa commands\n",
    "\n",
    "In this tutorial you will learn how to combine the QDAC2 with the OPX to perform n-dimensional voltage scans efficiently.\n",
    "\n",
    "The trick here is to use a digital marker from the OPX to trigger the QDAC and make it step the output voltage of a given channel across a pre-loaded voltage list. Please note that the size of this list is limited to 65536 items per channel.\n",
    "\n",
    "In this case, the latency induced by the communication between the control PC and the instruments and by transferring the data is suppressed since everything is controlled by the OPX pulse processor. The experimental runtime is then given by the QDAC bandwidth and the integration time. "
   ]
  },
  {
   "cell_type": "code",
   "execution_count": 24,
   "metadata": {},
   "outputs": [],
   "source": [
    "import pyvisa as visa\n",
    "from qm.QuantumMachinesManager import QuantumMachinesManager\n",
    "from qm.qua import *\n",
    "from configuration import *\n",
    "import numpy as np\n",
    "import matplotlib.pyplot as plt\n",
    "from time import time\n",
    "from qualang_tools.plot import interrupt_on_close\n",
    "from qualang_tools.results import wait_until_job_is_paused"
   ]
  },
  {
   "cell_type": "markdown",
   "metadata": {},
   "source": [
    "## Helper functions\n",
    "\n",
    "A class called **QDACII** is created to enable the communication with the QDAC. \n",
    "It can also be modified to create your own driver.\n",
    "\n",
    "A function is also defined in order to easily program the QDAC2 to load a voltage list and step trhough it on the event of an external trigger (provided by the OPX here). Sevral parameters such as the filter, dynamic range and dwell time can be set."
   ]
  },
  {
   "cell_type": "code",
   "execution_count": 2,
   "metadata": {},
   "outputs": [],
   "source": [
    "# QDAC2 instrument class\n",
    "class QDACII():\n",
    "    def __init__(self, communication_type:str, IP_address:str = None, port:int = 5025, USB_device:int = None, lib:str = '@py'):\n",
    "        \"\"\"\n",
    "        Open the communication to a QDAC2 instrument with python. The communication can be enabled via either Ethernet or USB.\n",
    "\n",
    "        :param communication_type: Can be either \"Ethernet\" or \"USB\".\n",
    "        :param IP_address: IP address of the instrument - required only for Ethernet communication.\n",
    "        :param port: port of the instrument, 5025 by default - required only for Ethernet communication.\n",
    "        :param USB_device: identification number of the device - required only for USB communication.\n",
    "        :param lib: use '@py' to use pyvisa-py backend (default).\n",
    "        \"\"\"\n",
    "        rm = visa.ResourceManager(lib)  # To use pyvisa-py backend, use argument '@py'\n",
    "        if communication_type == \"Ethernet\":\n",
    "            self._visa = rm.open_resource(f\"TCPIP::{IP_address}::{port}::SOCKET\")\n",
    "            self._visa.baud_rate = 921600\n",
    "            # self._visa.send_end = False\n",
    "        elif communication_type == \"USB\":\n",
    "            self._visa = rm.open_resource(f\"ASRL{USB_device}::INSTR\")\n",
    "\n",
    "        self._visa.write_termination = '\\n'\n",
    "        self._visa.read_termination = '\\n'\n",
    "        print(self._visa.query(\"*IDN?\"))\n",
    "        print(self._visa.query(\"syst:err:all?\"))\n",
    "\n",
    "    def query(self, cmd):\n",
    "        return self._visa.query(cmd)\n",
    "\n",
    "    def write(self, cmd):\n",
    "        self._visa.write(cmd)\n",
    "\n",
    "    def write_binary_values(self, cmd, values):\n",
    "        self._visa.write_binary_values(cmd, values)\n",
    "\n",
    "    def __exit__(self):\n",
    "        self.close()\n",
    "\n",
    "# load list of voltages to the relevant QDAC2 channel\n",
    "def load_voltage_list(qdac, channel:int, dwell:float, trigger_port:str, output_range:str, output_filter:str, voltage_list:list):\n",
    "    \"\"\"\n",
    "    Configure a QDAC2 channel to play a set of voltages from a given list and step through it according to an external trigger given by an OPX digital marker, using pyvisa commands.\n",
    "\n",
    "    :param qdac: the QDAC2 object.\n",
    "    :param channel: the QDAC2 channel that will output the voltage from the voltage list.\n",
    "    :param dwell: dwell time at each voltage level in seconds - must be smaller than the trigger spacing and larger than 2e-6.\n",
    "    :param trigger_port: external trigger port to which a digital marker from the OPX is connected - must be in [\"ext1\", \"ext2\", \"ext3\", \"ext4\"].\n",
    "    :param output_range: the channel output range that can be either \"low\" (+/-2V) or \"high\" (+/-10V).\n",
    "    :param output_filter: the channel output filter that can be either \"dc\" (10Hz), \"med\" (10kHz) or \"high\" (300kHZ).\n",
    "    :param voltage_list: list containing the desired voltages to output - the size of the list must not exceed 65536 items.\n",
    "    :return:\n",
    "    \"\"\"\n",
    "    # Load the list of voltages\n",
    "    qdac.write_binary_values(f\"sour{channel}:dc:list:volt \", voltage_list)\n",
    "    # Ensure that the output voltage will start from the beginning of the list.\n",
    "    qdac.write(f\"sour{channel}:dc:init:cont off\")\n",
    "    # Set the minimum time spent on each voltage level. Must be between 2µs and the time between two trigger events.\n",
    "    qdac.write(f\"sour{channel}:dc:list:dwell {dwell}\")\n",
    "    # Step through the voltage list on the event of a trigger\n",
    "    qdac.write(f\"sour{channel}:dc:list:tmode stepped\")\n",
    "    # Set the external trigger port. Must be in [\"ext1\", \"ext2\", \"ext3\", \"ext4\"]\n",
    "    qdac.write(f\"sour{channel}:dc:trig:sour {trigger_port}\")\n",
    "    # Listen continuously to trigger\n",
    "    qdac.write(f\"sour{channel}:dc:init:cont on\")\n",
    "    # Make sure that the correct DC mode (LIST) is set, as opposed to FIXed.\n",
    "    qdac.write(f\"sour{channel}:dc:mode LIST\")\n",
    "    # Set the channel output range\n",
    "    qdac.write(f\"sour{channel}:rang {output_range}\")\n",
    "    # Set the channel output filter\n",
    "    qdac.write(f\"sour{channel}:filt {output_filter}\")\n",
    "    print(f\"Set-up QDAC2 channel {channel} to step voltages from a list of {len(voltage_list)} items on trigger events from the {trigger_port} port with a {qdac.query(f'sour{channel}:dc:list:dwell?')} s dwell time.\")\n"
   ]
  },
  {
   "cell_type": "markdown",
   "metadata": {},
   "source": [
    "## Connect to the instruments"
   ]
  },
  {
   "cell_type": "code",
   "execution_count": 3,
   "metadata": {},
   "outputs": [
    {
     "name": "stdout",
     "output_type": "stream",
     "text": [
      "QDevil, QDAC-II, 2, 11-1.14\n",
      "0, \"No error\"\n"
     ]
    }
   ],
   "source": [
    "# Create the qdac instrument\n",
    "qdac = QDACII(\"Ethernet\", IP_address=\"172.16.33.100\", port=5025)  # Using Ethernet protocol\n",
    "# qdac = QDACII(\"USB\", USB_device=4)  # Using USB protocol"
   ]
  },
  {
   "cell_type": "code",
   "execution_count": 19,
   "metadata": {},
   "outputs": [
    {
     "name": "stdout",
     "output_type": "stream",
     "text": [
      "2023-09-26 13:28:20,702 - qm - INFO     - Performing health check\n",
      "2023-09-26 13:28:20,881 - qm - INFO     - Health check passed\n"
     ]
    }
   ],
   "source": [
    "# Open a Quantum Machine Manager\n",
    "qmm = QuantumMachinesManager(host=\"172.16.33.100\", cluster_name=\"Cluster_83\")"
   ]
  },
  {
   "cell_type": "markdown",
   "metadata": {},
   "source": [
    "## Example experiments:\n",
    "1. 1D voltage sweep performed by the QDAC while the OPX is measuring using do1d\n",
    "2. 1D voltage sweep performed by the QDAC which is triggered by the OPX which is also measuring using do0d\n",
    "3. 2D voltage sweep where the fast axis is performed by the OPX while the slow axis is handled by the QDAC using do1d"
   ]
  },
  {
   "cell_type": "markdown",
   "metadata": {},
   "source": [
    "### Experiment 1: 1D voltage sweep performed by the QDAC while the OPX is measuring (slow method)\n",
    "In this example, the QDAC is parametrized to output a constant voltage which is swept outside of QUA using a python loop. Here the OPX is simply measuring at each level, but the QUA program can easily be modified to complexify the sequence.\n",
    "\n",
    "This method is similar to how any external DC voltage source would be integrated with the OPX without triggering."
   ]
  },
  {
   "cell_type": "code",
   "execution_count": 31,
   "metadata": {},
   "outputs": [
    {
     "name": "stdout",
     "output_type": "stream",
     "text": [
      "2023-09-26 13:33:14,989 - qm - WARNING  - Open QM ended with warning 0: Opening a new Quantum Machine and closing Quantum Machines: \n",
      "2023-09-26 13:33:14,990 - qm - WARNING  - Open QM ended with warning 0: Quantum Machine qm-1695727957563 is canceling running job 1695403904990.\n",
      "2023-09-26 13:33:15,378 - qm - INFO     - Sending program to QOP for compilation\n",
      "2023-09-26 13:33:15,774 - qm - INFO     - Executing program\n",
      "Elapsed time: 112.06 s\n"
     ]
    },
    {
     "data": {
      "text/plain": [
       "True"
      ]
     },
     "execution_count": 31,
     "metadata": {},
     "output_type": "execute_result"
    }
   ],
   "source": [
    "%matplotlib qt\n",
    "n_avg = 100  # Number of averaging loops\n",
    "\n",
    "### OPX section\n",
    "with program() as prog:\n",
    "    i = declare(int)\n",
    "    n = declare(int)\n",
    "    data = declare(fixed)\n",
    "    data_st = declare_stream()\n",
    "    with for_(i, 0, i < len(voltage_values), i + 1):\n",
    "        pause()\n",
    "        with for_(n, 0, n < n_avg, n + 1):\n",
    "            # Wait 1ms before measuring (depends of the QDAC filter option)\n",
    "            wait(1_000_000 // 4, \"readout_element\")\n",
    "            # Measure for 10µs with the OPX - Can be replaced by dual_demod, demod or else\n",
    "            measure(\"readout\", \"readout_element\", None, integration.full(\"const\", data, \"out1\"))\n",
    "            # Send the result to the stream processing\n",
    "            save(data, data_st)\n",
    "\n",
    "    with stream_processing():\n",
    "        # Average all the data and save the values into \"data\".\n",
    "        data_st.buffer(n_avg).map(FUNCTIONS.average()).save_all(\"data\")\n",
    "\n",
    "# Open a quantum machine\n",
    "qm = qmm.open_qm(config)\n",
    "\n",
    "### QDAC2 section\n",
    "qdac_channel = 1\n",
    "qdac.write(\"*rst\")  # Reset the qdac parameters to start from a blank instrument\n",
    "# Set the current range (\"high\" or \"low\") and filter (\"dc\": 10Hz ,  \"med\": 10khz,  \"high\": 300kHz)\n",
    "# Set the channel output range\n",
    "qdac.write(f\"sour{qdac_channel}:rang low\")\n",
    "# Set the channel output filter\n",
    "qdac.write(f\"sour{qdac_channel}:filt med\")\n",
    "qdac.write(f'sour{qdac_channel}:volt:mode fix')\n",
    "\n",
    "### Run the experiment\n",
    "start_time = time()\n",
    "job = qm.execute(prog)\n",
    "# Live plotting\n",
    "fig = plt.figure()\n",
    "interrupt_on_close(fig, job)  # Interrupts the job when closing the figure\n",
    "data_handle = job.result_handles.get(\"data\")\n",
    "data_tot = []\n",
    "for i, vg in enumerate(voltage_values1):\n",
    "    # Update the QDAC level\n",
    "    qdac.write(f'sour{qdac_channel}:volt {vg}')\n",
    "    \n",
    "    # Resume the QUA program (escape the 'pause' statement)\n",
    "    job.resume()\n",
    "    # Wait until the program reaches the 'pause' statement again, indicating that the QUA program is done\n",
    "    wait_until_job_is_paused(job)\n",
    "    # Wait until the data of this run is processed by the stream processing\n",
    "    data_handle.wait_for_values(i + 1)\n",
    "    # Fetch the data from the last OPX run corresponding to the current LO frequency\n",
    "    data = data_handle.fetch(i)[\"value\"] * 2**12 / readout_len\n",
    "    # Update the list of global results\n",
    "    data_tot.append(data)\n",
    "    # Plot results\n",
    "    plt.cla()\n",
    "    plt.plot(voltage_values[:i], data_tot[:i])\n",
    "    plt.xlabel(\"QDAC level [V]\")\n",
    "    plt.ylabel(\"Data [V]\")\n",
    "    plt.pause(0.1)\n",
    "\n",
    "print(f\"Elapsed time: {time() - start_time:.2f} s\")\n",
    "# Interrupt the FPGA program\n",
    "job.halt()\n",
    "qdac.write(f'sour{qdac_channel}:volt {0}')"
   ]
  },
  {
   "cell_type": "code",
   "execution_count": 22,
   "metadata": {},
   "outputs": [
    {
     "data": {
      "text/plain": [
       "-1.5"
      ]
     },
     "execution_count": 22,
     "metadata": {},
     "output_type": "execute_result"
    }
   ],
   "source": [
    "vg"
   ]
  },
  {
   "cell_type": "markdown",
   "metadata": {},
   "source": [
    "### Experiment 2: 1D voltage sweep performed by the QDAC which is triggered by the OPX which is also measuring\n",
    "\n",
    "In this example, the QDAC is parametrized to output the values defined in a pre-loaded voltage list. Stepping to the next value is done on the event of a digital marker sent by the OPX to one of the QDAC external trigger input. \n",
    "Here the OPX is simply triggering the QDAC and measuring at each level, but the QUA program can easily be modified to complexify the sequence.\n",
    "\n",
    "This method is very similar to the previous one but significantly reduces the runtime since it avoids the communication time."
   ]
  },
  {
   "cell_type": "code",
   "execution_count": 10,
   "metadata": {},
   "outputs": [
    {
     "name": "stdout",
     "output_type": "stream",
     "text": [
      "Set-up QDAC2 channel 1 to step voltages from a list of 101 items on trigger events from the ext3 port with a 2e-06 s dwell time.\n",
      "2023-09-26 13:25:39,901 - qm - INFO     - Sending program to QOP for compilation\n",
      "2023-09-26 13:25:40,322 - qm - INFO     - Executing program\n",
      "Elapsed time: 11.52 s\n"
     ]
    },
    {
     "data": {
      "image/png": "[encoded data removed]",
      "text/plain": [
       "<Figure size 640x480 with 1 Axes>"
      ]
     },
     "metadata": {},
     "output_type": "display_data"
    }
   ],
   "source": [
    "n_avg = 100  # Number of averaging loops\n",
    "# Voltage values in Volt\n",
    "voltage_values1 = list(np.linspace(-1.5, 1.5, 101))\n",
    "\n",
    "### OPX section\n",
    "with program() as qdac_1d_sweep:\n",
    "    i = declare(int)\n",
    "    n = declare(int)\n",
    "    data = declare(fixed)\n",
    "    data_st = declare_stream()\n",
    "\n",
    "    with for_(n, 0, n < n_avg, n + 1):\n",
    "        with for_(i, 0, i < len(voltage_values1), i + 1):\n",
    "            # Wait 1ms before measuring (depends of the QDAC filter option)\n",
    "            wait(1_000_000 // 4, \"qdac_trigger1\", \"readout_element\")\n",
    "            # Trigger the QDAC channel to output the next voltage level from the list\n",
    "            play(\"trig\", \"qdac_trigger1\")\n",
    "            # Measure with the OPX\n",
    "            measure(\"readout\", \"readout_element\", None, integration.full(\"const\", data, \"out1\"))\n",
    "            # Send the result to the stream processing\n",
    "            save(data, data_st)\n",
    "\n",
    "    with stream_processing():\n",
    "        # Average all the data and save the values into \"data\".\n",
    "        data_st.buffer(len(voltage_values1)).buffer(n_avg).map(FUNCTIONS.average()).save(\"data\")\n",
    "\n",
    "# Open a quantum machine\n",
    "qm = qmm.open_qm(config)\n",
    "            \n",
    "### QDAC2 section\n",
    "qdac.write(\"*rst\")  # Reset the qdac parameters to start from a blank instrument\n",
    "# Set up the qdac and load the voltage list\n",
    "load_voltage_list(qdac, channel=1, dwell=2e-6, trigger_port=\"ext3\", output_range=\"low\", output_filter=\"med\", voltage_list=voltage_values)\n",
    "\n",
    "start_time = time()\n",
    "\n",
    "# Execute the sequence\n",
    "job = qm.execute(qdac_1d_sweep)\n",
    "# Fetch the data at the end of the program\n",
    "job.result_handles.wait_for_all_values()\n",
    "data = job.result_handles.get(\"data\").fetch_all()\n",
    "# Process and plot the data\n",
    "plt.figure()\n",
    "data = data * readout_len / 2**12\n",
    "plt.plot(voltage_values1, data, \".\")\n",
    "plt.xlabel(\"QDAC voltage [V]\")\n",
    "plt.ylabel(\"data [V]\")\n",
    "\n",
    "print(f\"Elapsed time: {time() - start_time:.2f} s\")"
   ]
  },
  {
   "cell_type": "markdown",
   "metadata": {},
   "source": [
    "### Experiment 3: 2D voltage sweep where the fast axis is performed by the OPX while the slow axis is handled by the QDAC using do1d\n",
    "\n",
    "In this example, the QDAC is parametrized to output a constant voltage on one channel, that will serve as an offset added to the voltage scan performed by the OPX, and output another constant voltage on a second channel which will be scanned using the do1d qcodes method.\n",
    "\n",
    "The idea is to acquire a charge stability map using a raster scan (for finding quantum dots), where the fast axis is swept using one analog output of the OPX, while the slow axis is handled by the QDAC and do1d.\n",
    "\n",
    "The scan performed by the OPX is handled using a sticky element (https://docs.quantum-machines.co/0.1/qm-qua-sdk/docs/Guides/features/?h=hold_off#sticky-element) which allows to output a continuous staircase-like pattern.\n",
    "\n",
    "This method is an extention of the previous ones showing how to sweep two voltage axes."
   ]
  },
  {
   "cell_type": "code",
   "execution_count": null,
   "metadata": {},
   "outputs": [],
   "source": [
    "n_avg = 100  # Number of averaging loops\n",
    "\n",
    "# Voltage values in Volt\n",
    "voltage_values1 = np.linspace(-0.4, 0.4, 101)\n",
    "voltage_values2 = list(np.linspace(-2.5, 2.5, 101))\n",
    "qdac_offset = 3.752  # Offset to add to the axis scanned by the OPX in V\n",
    "\n",
    "### QDAC2 section\n",
    "qdac2.reset()  # Reset the qdac parameters\n",
    "# Channel 1\n",
    "ch1 = qdac2.channel(1)\n",
    "ch1.output_mode(range=\"high\", filter=\"dc\")\n",
    "Vg1 = ch1.dc_constant_V(qdac_offset)  # Set an offset that will be combined with the OPX fast scan (3.752 +/- 0.3V)\n",
    "# Channel 2\n",
    "ch2 = qdac2.channel(2)\n",
    "ch2.output_mode(range=\"low\", filter=\"med\")\n",
    "Vg2 = ch2.dc_constant_V  # Define the voltage parameter for this channel\n",
    "\n",
    "### OPX section\n",
    "start = voltage_values1[0] / step_amp\n",
    "step = np.mean(np.diff(voltage_values1)) / step_amp\n",
    "\n",
    "def qdac_opx_combined(simulate=False):\n",
    "    with program() as prog:\n",
    "        i = declare(int)\n",
    "        n = declare(int)\n",
    "        data = declare(fixed)\n",
    "        data_st = declare_stream()\n",
    "\n",
    "        with infinite_loop_():\n",
    "            if not simulate:\n",
    "                pause()\n",
    "            play(\"step\" * amp(start), \"gate\")\n",
    "            # Wait 1ms before sweeping the fast axis (depends of the QDAC filter option)\n",
    "            wait(1_000_000 // 4, \"gate\", \"readout_element\")\n",
    "            with for_(i, 0, i < len(voltage_values1), i + 1):\n",
    "                # Step the voltage along the fast axis except for the first point\n",
    "                with if_(i > 0):\n",
    "                    play(\"step\" * amp(step), \"gate\")\n",
    "                # Wait before measuring\n",
    "                wait(10_000 // 4, \"readout_element\")\n",
    "                with for_(n, 0, n < n_avg, n + 1):\n",
    "                    # Measure with the OPX\n",
    "                    measure(\"readout\", \"readout_element\", None, integration.full(\"const\", data, \"out1\"))\n",
    "                    # Send the result to the stream processing\n",
    "                    save(data, data_st)\n",
    "            # Bring the voltage back to zero\n",
    "            ramp_to_zero(\"gate\")\n",
    "\n",
    "        with stream_processing():\n",
    "            # Average all the data and save the values into \"data\".\n",
    "            data_st.buffer(n_avg).map(FUNCTIONS.average()).buffer(len(voltage_values1)).save_all(\"data\")\n",
    "    return prog\n",
    "\n",
    "# Pass the readout length (in ns) to the class to convert the demodulated/integrated data into Volts\n",
    "opx_instrument.readout_pulse_length(readout_len)\n",
    "# Add the custom sequence to the OPX\n",
    "opx_instrument.qua_program = qdac_opx_combined(simulate=False)\n",
    "# Axis1 is the most inner non-averaging loop\n",
    "opx_instrument.set_sweep_parameters(\"axis1\", voltage_values1 + qdac_offset, \"V\", \"Vg1\")\n",
    "\n",
    "### Run the experiment\n",
    "experiment3 = load_or_create_experiment(\"Combined_2D_sweep_do1d\", sample_name)\n",
    "\n",
    "start_time = time()\n",
    "do1d(\n",
    "    Vg2, voltage_values2[0], voltage_values2[-1], len(voltage_values2), 0.001,\n",
    "    opx_instrument.resume,\n",
    "    opx_instrument.get_measurement_parameter(),\n",
    "    enter_actions=[opx_instrument.run_exp],\n",
    "    exit_actions=[opx_instrument.halt],\n",
    "    show_progress=True,\n",
    "    # do_plot=True,\n",
    "    exp=experiment3,\n",
    ")\n",
    "print(f\"Elapsed time: {time() - start_time:.2f} s\")"
   ]
  }
 ],
 "metadata": {
  "kernelspec": {
   "display_name": "QM",
   "language": "python",
   "name": "python3"
  },
  "language_info": {
   "codemirror_mode": {
    "name": "ipython",
    "version": 3
   },
   "file_extension": ".py",
   "mimetype": "text/x-python",
   "name": "python",
   "nbconvert_exporter": "python",
   "pygments_lexer": "ipython3",
   "version": "3.10.0"
  },
  "orig_nbformat": 4
 },
 "nbformat": 4,
 "nbformat_minor": 2
}
