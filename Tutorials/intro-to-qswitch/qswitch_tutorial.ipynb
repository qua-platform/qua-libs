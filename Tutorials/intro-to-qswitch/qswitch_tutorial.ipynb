{
 "cells": [
  {
   "cell_type": "markdown",
   "metadata": {},
   "source": [
    "# QSwitch Usage Tutorial:\n",
    "\n",
    "In this tutorial you will learn how to operate a QSwitch with the help of the provided driver in `qswitch_driver.py`"
   ]
  },
  {
   "cell_type": "markdown",
   "metadata": {},
   "source": [
    "### 1. QSwitch Overview: "
   ]
  },
  {
   "cell_type": "markdown",
   "metadata": {},
   "source": [
    "The QSwitch is a remote-controlled 8 channel breakout box for 24-line Fischer (or Micro-D) connector\n",
    "terminated cables. The QSwitch is designed for being placed between for example a 24-channel DC\n",
    "voltage source such as the QDAC-II Compact or a 24-channel manual breakout box such as the QBox\n",
    "(both from Quantum Machines) and the fridge wiring, so that fully automated breakout of any of the 24\n",
    "DC/low frequency lines from the fridge – the signal lines - is possible. \n",
    "\n",
    "Inside the QSwitch there are 10x24 relays which can be toggled individually. Eight of the relay groups are\n",
    "for breaking out to the BNC connectors. One group (!0) is for individual (soft) grounding of the device\n",
    "signal lines. The last group (!9) is for connecting the instrument at the input (IN) to the internal signal\n",
    "lines. See image below for a schematic view of the QSwitch architecture:\n",
    "\n",
    "<img src=\"./qswitch_schematic.png\" width=\"300\" height=\"200\">\n",
    "\n",
    "For more information regarding the Qswitch visit this [webpage](https://qm.quantum-machines.co/87kjeif6). "
   ]
  },
  {
   "cell_type": "markdown",
   "metadata": {},
   "source": [
    "### 2. Importing the driver and connecting to the QSwitch:"
   ]
  },
  {
   "cell_type": "code",
   "execution_count": 1,
   "metadata": {},
   "outputs": [],
   "source": [
    "from qswitch_driver import QSwitch  # The Python class to control the QSwitch\n",
    "from qswitch_driver import (\n",
    "    UDPConfig,\n",
    ")  # For Ethernet communication with UDP protocol, recommended for Firmware 2.0 and above\n",
    "from qswitch_driver import VISAConfig  # For USB communication with VISA protocol.\n",
    "from qswitch_driver import find_qswitch_on_usb  # Function to find the QSwitch on USB"
   ]
  },
  {
   "cell_type": "code",
   "execution_count": 2,
   "metadata": {},
   "outputs": [],
   "source": [
    "connection_type = \"ethernet\"  # \"ethernet\" or \"usb\"\n",
    "\n",
    "debug = True  # Set to True to print QSwitch state at each cell\n",
    "\n",
    "\n",
    "def print_qswitch_state(qswitch: QSwitch, debug: bool = True):\n",
    "    return qswitch.overview() if debug else None"
   ]
  },
  {
   "cell_type": "code",
   "execution_count": 3,
   "metadata": {},
   "outputs": [],
   "source": [
    "if connection_type == \"ethernet\":\n",
    "    # Connection via Ethernet:\n",
    "    ip_address = \"192.168.8.16\"\n",
    "    qswitch = QSwitch(UDPConfig(ip_address))\n",
    "elif connection_type == \"usb\":\n",
    "    # Connection via USB:\n",
    "    usb_address = find_qswitch_on_usb()\n",
    "    qswitch = QSwitch(VISAConfig(usb_address))"
   ]
  },
  {
   "cell_type": "markdown",
   "metadata": {},
   "source": [
    "### 3. Manually opening and closing relays"
   ]
  },
  {
   "cell_type": "markdown",
   "metadata": {},
   "source": [
    "Let's connect and unground line 1 to have a passthrough the Qswitch. "
   ]
  },
  {
   "cell_type": "code",
   "execution_count": 4,
   "metadata": {},
   "outputs": [
    {
     "data": {
      "text/plain": [
       "{'1': ['grounded'],\n",
       " '2': ['grounded'],\n",
       " '3': ['grounded'],\n",
       " '4': ['grounded'],\n",
       " '5': ['grounded'],\n",
       " '6': ['grounded'],\n",
       " '7': ['grounded'],\n",
       " '8': ['grounded'],\n",
       " '9': ['grounded'],\n",
       " '10': ['grounded'],\n",
       " '11': ['grounded'],\n",
       " '12': ['grounded'],\n",
       " '13': ['grounded'],\n",
       " '14': ['grounded'],\n",
       " '15': ['grounded'],\n",
       " '16': ['grounded'],\n",
       " '17': ['grounded'],\n",
       " '18': ['grounded'],\n",
       " '19': ['grounded'],\n",
       " '20': ['grounded'],\n",
       " '21': ['grounded'],\n",
       " '22': ['grounded'],\n",
       " '23': ['grounded'],\n",
       " '24': ['grounded']}"
      ]
     },
     "execution_count": 4,
     "metadata": {},
     "output_type": "execute_result"
    }
   ],
   "source": [
    "# Print the current status of the QSwitch\n",
    "qswitch.overview()"
   ]
  },
  {
   "cell_type": "code",
   "execution_count": 7,
   "metadata": {},
   "outputs": [
    {
     "data": {
      "text/plain": [
       "{'1': ['connected'],\n",
       " '2': ['grounded'],\n",
       " '3': ['grounded'],\n",
       " '4': ['grounded'],\n",
       " '5': ['grounded'],\n",
       " '6': ['grounded'],\n",
       " '7': ['grounded'],\n",
       " '8': ['grounded'],\n",
       " '9': ['grounded'],\n",
       " '10': ['grounded'],\n",
       " '11': ['grounded'],\n",
       " '12': ['grounded'],\n",
       " '13': ['grounded'],\n",
       " '14': ['grounded'],\n",
       " '15': ['grounded'],\n",
       " '16': ['grounded'],\n",
       " '17': ['grounded'],\n",
       " '18': ['grounded'],\n",
       " '19': ['grounded'],\n",
       " '20': ['grounded'],\n",
       " '21': ['grounded'],\n",
       " '22': ['grounded'],\n",
       " '23': ['grounded'],\n",
       " '24': ['grounded']}"
      ]
     },
     "execution_count": 7,
     "metadata": {},
     "output_type": "execute_result"
    }
   ],
   "source": [
    "#################################################################################################################\n",
    "# NOTE: Line and tap correspond to the horizontal and vertical axis of the QSwitch matrix in the image above.   #\n",
    "#################################################################################################################\n",
    "\n",
    "# First connect line 1 by closing it's input relay on tap 9.\n",
    "qswitch.close_relay(line=1, tap=9)\n",
    "# Now unground line 1 by opening the output relay on tap 0.\n",
    "qswitch.open_relay(line=1, tap=0)\n",
    "\n",
    "print_qswitch_state(qswitch, debug)"
   ]
  },
  {
   "cell_type": "code",
   "execution_count": null,
   "metadata": {},
   "outputs": [],
   "source": [
    "# We can now connect it line one to BNC breakout number 1 like this:\n",
    "qswitch.close_relay(line=1, tap=1)\n",
    "\n",
    "print_qswitch_state(qswitch, debug)"
   ]
  },
  {
   "cell_type": "code",
   "execution_count": null,
   "metadata": {},
   "outputs": [],
   "source": [
    "# Open and close multiple relays at once:\n",
    "qswitch.open_relays(relays=[(2, 0), (3, 0), (4, 0), (5, 0)])\n",
    "qswitch.close_relays(relays=[(2, 9), (3, 9), (4, 9), (5, 9)])\n",
    "\n",
    "print_qswitch_state(qswitch, debug)"
   ]
  },
  {
   "cell_type": "markdown",
   "metadata": {},
   "source": [
    "### 4. Multi-Operation commands"
   ]
  },
  {
   "cell_type": "markdown",
   "metadata": {},
   "source": [
    "Operations across multiple QSwitch line and taps are pre-coded in the QSwitch class. \n",
    "Operations are executed in the specific order indicated by the operation name."
   ]
  },
  {
   "cell_type": "code",
   "execution_count": null,
   "metadata": {},
   "outputs": [],
   "source": [
    "# Connecting and ungrounding a line:\n",
    "qswitch.connect_and_unground(lines=\"6\")\n",
    "# Connecting and ungrounding multiple lines:\n",
    "qswitch.connect_and_unground(lines=[\"7\", \"8\", \"9\", \"10\"])\n",
    "\n",
    "print_qswitch_state(qswitch, debug)"
   ]
  },
  {
   "cell_type": "code",
   "execution_count": null,
   "metadata": {},
   "outputs": [],
   "source": [
    "# Releasing and grounding a line:\n",
    "qswitch.ground_and_release(lines=\"6\")\n",
    "# Releasing and frounding multiple lines:\n",
    "qswitch.ground_and_release(lines=[\"7\", \"8\", \"9\", \"10\"])\n",
    "\n",
    "print_qswitch_state(qswitch, debug)"
   ]
  },
  {
   "cell_type": "code",
   "execution_count": null,
   "metadata": {},
   "outputs": [],
   "source": [
    "# Connecting a line to a BNC breakout:\n",
    "qswitch.breakout(line=\"11\", tap=\"2\")  # Witch is equivalent to qswitch.close_relay(8, 2) and qswitch.open_relay(8, 0)\n",
    "# NOTE: This function will not connect the input line (tap 9)\n",
    "\n",
    "print_qswitch_state(qswitch, debug)"
   ]
  },
  {
   "cell_type": "markdown",
   "metadata": {},
   "source": [
    "### 5. Connecting and disconnecting all lines at once"
   ]
  },
  {
   "cell_type": "code",
   "execution_count": null,
   "metadata": {},
   "outputs": [],
   "source": [
    "# Ground and release all lines: (default QSwitch state)\n",
    "qswitch.ground_and_release_all()  # Will also disconnect all BNC breakouts\n",
    "\n",
    "print_qswitch_state(qswitch, debug)"
   ]
  },
  {
   "cell_type": "code",
   "execution_count": null,
   "metadata": {},
   "outputs": [],
   "source": [
    "# Connect and unground all lines:\n",
    "qswitch.connect_and_unground_all()  # Will not affect the BNC breakouts\n",
    "\n",
    "print_qswitch_state(qswitch, debug)"
   ]
  },
  {
   "cell_type": "markdown",
   "metadata": {},
   "source": [
    "### 6. Renaming lines and taps:"
   ]
  },
  {
   "cell_type": "code",
   "execution_count": null,
   "metadata": {},
   "outputs": [],
   "source": [
    "# You can rename the lines and breakouts to custom names instead of numbers with the arrange function:\n",
    "qswitch.arrange(\n",
    "    lines={\n",
    "        \"Plunger_1\": 1,\n",
    "        \"Plunger_2\": 2,\n",
    "        \"Barrier_1\": 23,\n",
    "        \"Barrier_2\": 24,\n",
    "    },\n",
    "    breakouts={\n",
    "        \"GROUND\": 0,\n",
    "        \"DMM\": 1,\n",
    "        \"IV_CONVERTER\": 2,\n",
    "        \"CONNECTOR\": 9,\n",
    "    },\n",
    ")\n",
    "# Reset the QSwitch to default state:\n",
    "qswitch.ground_and_release_all()\n",
    "# Now you can use the custom names instead of numbers:\n",
    "qswitch.connect_and_unground(lines=\"Plunger_1\")\n",
    "qswitch.breakout(line=\"Barrier_2\", tap=\"DMM\")\n",
    "\n",
    "print_qswitch_state(qswitch, debug)"
   ]
  },
  {
   "cell_type": "markdown",
   "metadata": {},
   "source": [
    "### 7. Autosave mode:"
   ]
  },
  {
   "cell_type": "markdown",
   "metadata": {},
   "source": [
    "When the QSwitch is unpowered, each signal line is connected to soft ground (through 1 MΩ) and\n",
    "disconnected from the input and all BNC breakout lines, so that it is safe to connect a device to the\n",
    "output (OUT).\n",
    "\n",
    "In case of power loss, the relays connecting the signal lines to soft ground will close within\n",
    "approximately 2 milliseconds whereafter the relays connecting to the input side and to the breakouts\n",
    "will open within 200 ms in random order.\n",
    "\n",
    "Autosave mode will automatically re-apply the state of the QSwitch before Power-Loss. To activate autosave use:\n",
    "\n",
    "```python\n",
    "qswitch.auto_save(\"on\")\n",
    "```"
   ]
  },
  {
   "cell_type": "markdown",
   "metadata": {},
   "source": [
    "### Close the connection to the QSwitch:"
   ]
  },
  {
   "cell_type": "code",
   "execution_count": null,
   "metadata": {},
   "outputs": [],
   "source": [
    "qswitch.ground_and_release_all()\n",
    "qswitch.close()  # Close the connection to the QSwitch, important when using Ethernet connection to not run out of connections"
   ]
  }
 ],
 "metadata": {
  "kernelspec": {
   "display_name": "QM",
   "language": "python",
   "name": "python3"
  },
  "language_info": {
   "codemirror_mode": {
    "name": "ipython",
    "version": 3
   },
   "file_extension": ".py",
   "mimetype": "text/x-python",
   "name": "python",
   "nbconvert_exporter": "python",
   "pygments_lexer": "ipython3",
   "version": "3.11.11"
  }
 },
 "nbformat": 4,
 "nbformat_minor": 2
}
