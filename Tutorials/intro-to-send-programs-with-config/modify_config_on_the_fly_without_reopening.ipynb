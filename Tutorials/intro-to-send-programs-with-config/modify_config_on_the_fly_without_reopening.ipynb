{
 "cells": [
  {
   "cell_type": "code",
   "execution_count": null,
   "id": "aa4e3313",
   "metadata": {},
   "outputs": [
    {
     "name": "stdout",
     "output_type": "stream",
     "text": [
      "2025-08-22 09:51:44,618 - qm - INFO     - Starting session: 21eb543d-b238-44ca-a76a-7cc91236bb03\n",
      "2025-08-22 09:51:50,050 - qm - INFO     - Performing health check\n",
      "2025-08-22 09:51:50,425 - qm - INFO     - Cluster healthcheck completed successfully.\n",
      "config seperation: True\n"
     ]
    }
   ],
   "source": [
    "from qm import QuantumMachinesManager, QopCaps\n",
    "from qm.qua import *\n",
    "from configuration import *\n",
    "\n",
    "qop_ip = \"127.0.0.1\" \n",
    "cluster_name = None\n",
    "qmm = QuantumMachinesManager(host=qop_ip,port=None, cluster_name=cluster_name)\n",
    "print(f\"config seperation: {qmm.capabilities.supports(QopCaps.config_v2)}\")"
   ]
  },
  {
   "cell_type": "code",
   "execution_count": 2,
   "id": "9b28fe66",
   "metadata": {},
   "outputs": [],
   "source": [
    "with program() as hello_qua:\n",
    "    set_dc_offset(\"q1_z\", \"single\", 0.153)\n",
    "    play(\"saturation\", \"q1_xy\")"
   ]
  },
  {
   "cell_type": "code",
   "execution_count": 3,
   "id": "1cd70e70",
   "metadata": {},
   "outputs": [
    {
     "name": "stdout",
     "output_type": "stream",
     "text": [
      "2025-08-22 09:51:55,748 - qm - INFO     - Clearing queue\n",
      "2025-08-22 09:51:56,567 - qm - INFO     - Adding program to queue.\n",
      "2025-08-22 09:51:58,512 - qm - INFO     - Job 848ad7b9-24a6-4362-beaf-987a7c8f902a is done\n"
     ]
    }
   ],
   "source": [
    "# backward compatiblity, you can also use controller config to open qmm\n",
    "qm = qmm.open_qm(full_config,close_other_machines=True)\n",
    "job1 = qm.execute(hello_qua) \n",
    "job1.wait_until(\"Done\", timeout=60)"
   ]
  },
  {
   "cell_type": "code",
   "execution_count": 4,
   "id": "f48ba19f",
   "metadata": {},
   "outputs": [
    {
     "name": "stdout",
     "output_type": "stream",
     "text": [
      "2025-08-22 09:52:00,147 - qm - INFO     - Clearing queue\n",
      "2025-08-22 09:52:00,970 - qm - INFO     - Adding program to queue.\n",
      "2025-08-22 09:52:02,710 - qm - INFO     - Job 52e75193-d5b6-48f7-9f1e-11b9df39c132 is done\n"
     ]
    }
   ],
   "source": [
    "# change offset by full config\n",
    "full_config[\"controllers\"][con]['fems'][lf_fem]['analog_outputs'][1]['offset']=0.2\n",
    "# execute program with modified full_config\n",
    "job2 = qm.execute(hello_qua, config=full_config) \n",
    "job2.wait_until(\"Done\", timeout=60)"
   ]
  },
  {
   "cell_type": "code",
   "execution_count": 5,
   "id": "0f396fb7",
   "metadata": {},
   "outputs": [
    {
     "name": "stdout",
     "output_type": "stream",
     "text": [
      "2025-08-22 09:52:04,302 - qm - INFO     - Clearing queue\n",
      "2025-08-22 09:52:05,178 - qm - INFO     - Adding program to queue.\n",
      "2025-08-22 09:52:06,909 - qm - INFO     - Job 3eba7ecf-f0a6-4c71-958d-1ba20f02007e is done\n"
     ]
    }
   ],
   "source": [
    "# change pulse length by logical_config\n",
    "logical_config['pulses']['saturation_pulse']['length']= 2*saturation_len\n",
    "# execute program with modified logical_config\n",
    "job3 = qm.execute(hello_qua, config=logical_config) \n",
    "job3.wait_until(\"Done\", timeout=60)"
   ]
  },
  {
   "cell_type": "code",
   "execution_count": 6,
   "id": "307722d4",
   "metadata": {},
   "outputs": [
    {
     "name": "stdout",
     "output_type": "stream",
     "text": [
      "2025-08-22 09:52:08,479 - qm - INFO     - Clearing queue\n",
      "2025-08-22 09:52:09,265 - qm - INFO     - Adding program to queue.\n",
      "2025-08-22 09:52:10,904 - qm - INFO     - Job 7d34f67f-a827-494c-b218-f6d9b8eabcf8 is done\n"
     ]
    }
   ],
   "source": [
    "# change full scale power dBm by controller_config\n",
    "controller_config[\"controllers\"][con]['fems'][mw_fem]['analog_outputs'][1]['full_scale_power_dbm']= 4\n",
    "# execute program with modified controller_config\n",
    "job4 = qm.execute(hello_qua, config=controller_config) \n",
    "job4.wait_until(\"Done\", timeout=60)"
   ]
  },
  {
   "cell_type": "code",
   "execution_count": 7,
   "id": "a138bb27",
   "metadata": {},
   "outputs": [
    {
     "data": {
      "text/plain": [
       "True"
      ]
     },
     "execution_count": 7,
     "metadata": {},
     "output_type": "execute_result"
    }
   ],
   "source": [
    "qm.close()"
   ]
  },
  {
   "cell_type": "code",
   "execution_count": null,
   "id": "b2da40d6",
   "metadata": {},
   "outputs": [],
   "source": []
  }
 ],
 "metadata": {
  "kernelspec": {
   "display_name": "qmquarc25",
   "language": "python",
   "name": "python3"
  },
  "language_info": {
   "codemirror_mode": {
    "name": "ipython",
    "version": 3
   },
   "file_extension": ".py",
   "mimetype": "text/x-python",
   "name": "python",
   "nbconvert_exporter": "python",
   "pygments_lexer": "ipython3",
   "version": "3.11.13"
  }
 },
 "nbformat": 4,
 "nbformat_minor": 5
}
