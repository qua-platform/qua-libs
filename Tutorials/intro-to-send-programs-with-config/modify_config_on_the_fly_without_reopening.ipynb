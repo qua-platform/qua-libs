{
 "cells": [
  {
   "cell_type": "code",
   "execution_count": null,
   "id": "aa4e3313",
   "metadata": {},
   "outputs": [
    {
     "name": "stdout",
     "output_type": "stream",
     "text": [
      "2025-09-16 12:05:17,760 - qm - INFO     - Starting session: e59e4fcd-4786-4f38-8f81-2e16de91e50b\n",
      "2025-09-16 12:05:23,808 - qm - INFO     - Performing health check\n",
      "2025-09-16 12:05:24,208 - qm - INFO     - Cluster healthcheck completed successfully.\n",
      "send program with config: True\n"
     ]
    }
   ],
   "source": [
    "from qm import QuantumMachinesManager, QopCaps\n",
    "from qm.qua import *\n",
    "from configuration import *\n",
    "\n",
    "qmm = QuantumMachinesManager(host=qop_ip, port=None, cluster_name=cluster_name)\n",
    "print(f\"send program with config: {qmm.capabilities.supports(QopCaps.config_v2)}\")"
   ]
  },
  {
   "cell_type": "markdown",
   "id": "b6e7f959",
   "metadata": {},
   "source": [
    "# Setting up the QMM and QUA program"
   ]
  },
  {
   "cell_type": "code",
   "execution_count": 2,
   "id": "9b28fe66",
   "metadata": {},
   "outputs": [],
   "source": [
    "with program() as hello_qua:\n",
    "    set_dc_offset(\"q1_z\", \"single\", 0.153)\n",
    "    play(\"saturation\", \"q1_xy\")"
   ]
  },
  {
   "cell_type": "code",
   "execution_count": 3,
   "id": "1cd70e70",
   "metadata": {},
   "outputs": [
    {
     "name": "stdout",
     "output_type": "stream",
     "text": [
      "2025-09-16 12:05:24,270 - qm - WARNING  - No calibration_db set in octave config, skipping loading calibration data\n",
      "2025-09-16 12:05:24,648 - qm - INFO     - Clearing queue\n",
      "2025-09-16 12:05:25,436 - qm - INFO     - Adding program to queue.\n",
      "2025-09-16 12:05:26,943 - qm - INFO     - Job f3992d2e-abc5-405f-a92d-8f7301f62c7d is done\n"
     ]
    }
   ],
   "source": [
    "# Show backward compatiblity\n",
    "qm = qmm.open_qm(full_config, close_other_machines=True)\n",
    "job1 = qm.execute(hello_qua)\n",
    "job1.wait_until(\"Done\", timeout=60)"
   ]
  },
  {
   "cell_type": "markdown",
   "id": "1d37e835",
   "metadata": {},
   "source": [
    "# Temporary update of the DC offset from the controller_config"
   ]
  },
  {
   "cell_type": "code",
   "execution_count": 4,
   "id": "a504d7cf",
   "metadata": {},
   "outputs": [
    {
     "name": "stdout",
     "output_type": "stream",
     "text": [
      "offset before execute: 0.0 V\n"
     ]
    }
   ],
   "source": [
    "print(\"offset before execute:\", qm.get_config()[\"controllers\"][con][\"fems\"][lf_fem][\"analog_outputs\"][1][\"offset\"], \"V\")"
   ]
  },
  {
   "cell_type": "code",
   "execution_count": 5,
   "id": "f48ba19f",
   "metadata": {},
   "outputs": [
    {
     "name": "stdout",
     "output_type": "stream",
     "text": [
      "2025-09-16 12:05:30,945 - qm - INFO     - Clearing queue\n",
      "2025-09-16 12:05:31,785 - qm - INFO     - Adding program to queue.\n",
      "2025-09-16 12:05:33,246 - qm - INFO     - Job 36855419-c735-4abe-972e-ef42df3b0038 is done\n"
     ]
    }
   ],
   "source": [
    "# Temporarily change offset by full config\n",
    "controller_config[\"controllers\"][con][\"fems\"][lf_fem][\"analog_outputs\"][1][\"offset\"] = 0.5\n",
    "# Execute program with modified full_config\n",
    "job2 = qm.execute(hello_qua, config=controller_config)\n",
    "job2.wait_until(\"Done\", timeout=60)"
   ]
  },
  {
   "metadata": {},
   "cell_type": "code",
   "outputs": [],
   "execution_count": null,
   "source": [
    "# The offset changed only happens during the execution of job2\n",
    "print(\"offset after execute:\", qm.get_config()[\"controllers\"][con][\"fems\"][lf_fem][\"analog_outputs\"][1][\"offset\"], \"V\")"
   ],
   "id": "3ce868279b616e59"
  },
  {
   "cell_type": "markdown",
   "id": "591e8fd8",
   "metadata": {},
   "source": [
    "# Temporary update the pulse length from the logical config"
   ]
  },
  {
   "cell_type": "code",
   "execution_count": 7,
   "id": "0f396fb7",
   "metadata": {},
   "outputs": [
    {
     "name": "stdout",
     "output_type": "stream",
     "text": [
      "2025-09-16 12:05:44,518 - qm - INFO     - Clearing queue\n",
      "2025-09-16 12:05:45,303 - qm - INFO     - Adding program to queue.\n",
      "2025-09-16 12:05:46,791 - qm - INFO     - Job 98384eb4-2f1e-4a21-890b-5d4731b42ec2 is done\n"
     ]
    }
   ],
   "source": [
    "# Change pulse length by logical_config\n",
    "logical_config[\"pulses\"][\"saturation_pulse\"][\"length\"] = 2 * saturation_len\n",
    "# Execute program with modified logical_config\n",
    "job3 = qm.execute(hello_qua, config=logical_config)\n",
    "job3.wait_until(\"Done\", timeout=60)"
   ]
  },
  {
   "cell_type": "markdown",
   "id": "8bf750e2",
   "metadata": {},
   "source": [
    "# Permanent update of the power"
   ]
  },
  {
   "cell_type": "code",
   "execution_count": 8,
   "id": "80fee623",
   "metadata": {},
   "outputs": [
    {
     "name": "stdout",
     "output_type": "stream",
     "text": [
      "full power before execute: 1 dBm\n"
     ]
    }
   ],
   "source": [
    "print(\n",
    "    \"full power before execute:\",\n",
    "    qm.get_config()[\"controllers\"][con][\"fems\"][mw_fem][\"analog_outputs\"][1][\"full_scale_power_dbm\"],\n",
    "    \"dBm\",\n",
    ")"
   ]
  },
  {
   "cell_type": "code",
   "execution_count": 9,
   "id": "307722d4",
   "metadata": {},
   "outputs": [
    {
     "name": "stdout",
     "output_type": "stream",
     "text": [
      "2025-09-16 12:05:48,068 - qm - INFO     - Clearing queue\n",
      "2025-09-16 12:05:48,887 - qm - INFO     - Adding program to queue.\n",
      "2025-09-16 12:05:50,423 - qm - INFO     - Job a1180960-0369-4175-80f3-027445da730b is done\n"
     ]
    }
   ],
   "source": [
    "# Change full scale power dBm for future job by controller_config\n",
    "controller_config[\"controllers\"][con][\"fems\"][mw_fem][\"analog_outputs\"][1][\"full_scale_power_dbm\"] = 4\n",
    "qm.update_config(controller_config)\n",
    "# Execute program with modified controller_config\n",
    "job4 = qm.execute(hello_qua)\n",
    "job4.wait_until(\"Done\", timeout=60)"
   ]
  },
  {
   "cell_type": "code",
   "execution_count": 10,
   "id": "382a66a3",
   "metadata": {},
   "outputs": [
    {
     "name": "stdout",
     "output_type": "stream",
     "text": [
      "full power after execute: 4 dBm\n"
     ]
    }
   ],
   "source": [
    "# qm.update_config changed the config of the machine, so the change is permanent\n",
    "print(\n",
    "    \"full power after execute:\",\n",
    "    qm.get_config()[\"controllers\"][con][\"fems\"][mw_fem][\"analog_outputs\"][1][\"full_scale_power_dbm\"],\n",
    "    \"dBm\",\n",
    ")"
   ]
  },
  {
   "cell_type": "code",
   "execution_count": 11,
   "id": "a138bb27",
   "metadata": {},
   "outputs": [
    {
     "data": {
      "text/plain": [
       "True"
      ]
     },
     "execution_count": 11,
     "metadata": {},
     "output_type": "execute_result"
    }
   ],
   "source": [
    "qm.close()"
   ]
  },
  {
   "cell_type": "code",
   "execution_count": null,
   "id": "b2da40d6",
   "metadata": {},
   "outputs": [],
   "source": []
  }
 ],
 "metadata": {
  "kernelspec": {
   "display_name": "qmqua123",
   "language": "python",
   "name": "python3"
  },
  "language_info": {
   "codemirror_mode": {
    "name": "ipython",
    "version": 3
   },
   "file_extension": ".py",
   "mimetype": "text/x-python",
   "name": "python",
   "nbconvert_exporter": "python",
   "pygments_lexer": "ipython3",
   "version": "3.11.13"
  }
 },
 "nbformat": 4,
 "nbformat_minor": 5
}
