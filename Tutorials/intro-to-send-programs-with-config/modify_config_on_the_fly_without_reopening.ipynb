{
 "cells": [
  {
   "cell_type": "code",
   "execution_count": null,
   "id": "aa4e3313",
   "metadata": {},
   "outputs": [
    {
     "name": "stdout",
     "output_type": "stream",
     "text": [
      "2025-09-05 21:12:02,713 - qm - INFO     - Starting session: 9d76e44b-d85b-445d-9013-45416bdb3027\n",
      "2025-09-05 21:12:06,804 - qm - INFO     - Performing health check\n",
      "2025-09-05 21:12:07,224 - qm - INFO     - Cluster healthcheck completed successfully.\n",
      "send program with config: True\n"
     ]
    }
   ],
   "source": [
    "from qm import QuantumMachinesManager, QopCaps\n",
    "from qm.qua import *\n",
    "from configuration import *\n",
    "\n",
    "qmm = QuantumMachinesManager(host=qop_ip,port=None, cluster_name=cluster_name)\n",
    "print(f\"send program with config: {qmm.capabilities.supports(QopCaps.config_v2)}\")"
   ]
  },
  {
   "cell_type": "code",
   "execution_count": 2,
   "id": "9b28fe66",
   "metadata": {},
   "outputs": [],
   "source": [
    "with program() as hello_qua:\n",
    "    set_dc_offset(\"q1_z\", \"single\", 0.153)\n",
    "    play(\"saturation\", \"q1_xy\")"
   ]
  },
  {
   "cell_type": "code",
   "execution_count": 3,
   "id": "1cd70e70",
   "metadata": {},
   "outputs": [
    {
     "name": "stdout",
     "output_type": "stream",
     "text": [
      "2025-09-05 21:12:07,838 - qm - INFO     - Clearing queue\n",
      "2025-09-05 21:12:08,656 - qm - INFO     - Adding program to queue.\n",
      "2025-09-05 21:12:10,191 - qm - INFO     - Job c8d35ff0-94db-4374-b90b-a36d5d9c0178 is done\n"
     ]
    }
   ],
   "source": [
    "# backward compatiblity, you can also use controller config to open qmm\n",
    "qm = qmm.open_qm(full_config,close_other_machines=True)\n",
    "job1 = qm.execute(hello_qua) \n",
    "job1.wait_until(\"Done\", timeout=60)"
   ]
  },
  {
   "cell_type": "markdown",
   "id": "1d37e835",
   "metadata": {},
   "source": [
    "Execucate program with modified full config only change in the job"
   ]
  },
  {
   "cell_type": "code",
   "execution_count": 4,
   "id": "a504d7cf",
   "metadata": {},
   "outputs": [
    {
     "name": "stdout",
     "output_type": "stream",
     "text": [
      "offset before execute: 0.0 V\n"
     ]
    }
   ],
   "source": [
    "print(\"offset before execute:\",\n",
    "qm.get_config()[\"controllers\"][con]['fems'][lf_fem]['analog_outputs'][1]['offset'],\"V\")"
   ]
  },
  {
   "cell_type": "code",
   "execution_count": 5,
   "id": "f48ba19f",
   "metadata": {},
   "outputs": [
    {
     "name": "stdout",
     "output_type": "stream",
     "text": [
      "2025-09-05 21:12:11,870 - qm - INFO     - Clearing queue\n",
      "2025-09-05 21:12:12,764 - qm - INFO     - Adding program to queue.\n",
      "2025-09-05 21:12:14,299 - qm - INFO     - Job 3deb9b3d-552a-4a3f-9198-625fbe213da5 is done\n"
     ]
    }
   ],
   "source": [
    "# temporarily change offset by full config\n",
    "full_config[\"controllers\"][con]['fems'][lf_fem]['analog_outputs'][1]['offset']=0.5\n",
    "# execute program with modified full_config\n",
    "job2 = qm.execute(hello_qua, config=full_config) \n",
    "job2.wait_until(\"Done\", timeout=60)"
   ]
  },
  {
   "cell_type": "code",
   "execution_count": 6,
   "id": "174ad2b6",
   "metadata": {},
   "outputs": [
    {
     "name": "stdout",
     "output_type": "stream",
     "text": [
      "offset after execute: 0.0 V\n"
     ]
    }
   ],
   "source": [
    "print(\"offset after execute:\",\n",
    "qm.get_config()[\"controllers\"][con]['fems'][lf_fem]['analog_outputs'][1]['offset'],\"V\")"
   ]
  },
  {
   "cell_type": "markdown",
   "id": "591e8fd8",
   "metadata": {},
   "source": [
    "temporarily change logical config"
   ]
  },
  {
   "cell_type": "code",
   "execution_count": 7,
   "id": "0f396fb7",
   "metadata": {},
   "outputs": [
    {
     "name": "stdout",
     "output_type": "stream",
     "text": [
      "2025-09-05 21:12:15,252 - qm - INFO     - Clearing queue\n",
      "2025-09-05 21:12:16,130 - qm - INFO     - Adding program to queue.\n",
      "2025-09-05 21:12:17,674 - qm - INFO     - Job f02920b9-5113-4c3f-b2c3-fb0e4ba5e0de is done\n"
     ]
    }
   ],
   "source": [
    "# change pulse length by logical_config\n",
    "logical_config['pulses']['saturation_pulse']['length']= 2*saturation_len\n",
    "# execute program with modified logical_config\n",
    "job3 = qm.execute(hello_qua, config=logical_config) \n",
    "job3.wait_until(\"Done\", timeout=60)"
   ]
  },
  {
   "cell_type": "markdown",
   "id": "8bf750e2",
   "metadata": {},
   "source": [
    "use update_config to change config of qm_open"
   ]
  },
  {
   "cell_type": "code",
   "execution_count": 8,
   "id": "80fee623",
   "metadata": {},
   "outputs": [
    {
     "name": "stdout",
     "output_type": "stream",
     "text": [
      "full power before execute: 1 dBm\n"
     ]
    }
   ],
   "source": [
    "print(\"full power before execute:\",\n",
    "controller_config[\"controllers\"][con]['fems'][mw_fem]['analog_outputs'][1]['full_scale_power_dbm'],\"dBm\")"
   ]
  },
  {
   "cell_type": "code",
   "execution_count": 9,
   "id": "307722d4",
   "metadata": {},
   "outputs": [
    {
     "name": "stdout",
     "output_type": "stream",
     "text": [
      "2025-09-05 21:12:18,589 - qm - INFO     - Clearing queue\n",
      "2025-09-05 21:12:19,716 - qm - INFO     - Adding program to queue.\n",
      "2025-09-05 21:12:21,251 - qm - INFO     - Job 6f1e190f-8cb0-4948-afe0-6c875f7504c6 is done\n"
     ]
    }
   ],
   "source": [
    "# change full scale power dBm for future job by controller_config\n",
    "controller_config[\"controllers\"][con]['fems'][mw_fem]['analog_outputs'][1]['full_scale_power_dbm']= 4\n",
    "qm.update_config(controller_config)\n",
    "# execute program with modified controller_config\n",
    "job4 = qm.execute(hello_qua, config=controller_config) \n",
    "job4.wait_until(\"Done\", timeout=60)"
   ]
  },
  {
   "cell_type": "code",
   "execution_count": 10,
   "id": "382a66a3",
   "metadata": {},
   "outputs": [
    {
     "name": "stdout",
     "output_type": "stream",
     "text": [
      "full power after execute: 4 dBm\n"
     ]
    }
   ],
   "source": [
    "print(\"full power after execute:\",\n",
    "controller_config[\"controllers\"][con]['fems'][mw_fem]['analog_outputs'][1]['full_scale_power_dbm'],\"dBm\")"
   ]
  },
  {
   "cell_type": "code",
   "execution_count": 11,
   "id": "a138bb27",
   "metadata": {},
   "outputs": [
    {
     "data": {
      "text/plain": [
       "True"
      ]
     },
     "execution_count": 11,
     "metadata": {},
     "output_type": "execute_result"
    }
   ],
   "source": [
    "qm.close()"
   ]
  },
  {
   "cell_type": "code",
   "execution_count": null,
   "id": "b2da40d6",
   "metadata": {},
   "outputs": [],
   "source": []
  }
 ],
 "metadata": {
  "kernelspec": {
   "display_name": "qmqua123",
   "language": "python",
   "name": "python3"
  },
  "language_info": {
   "codemirror_mode": {
    "name": "ipython",
    "version": 3
   },
   "file_extension": ".py",
   "mimetype": "text/x-python",
   "name": "python",
   "nbconvert_exporter": "python",
   "pygments_lexer": "ipython3",
   "version": "3.11.13"
  }
 },
 "nbformat": 4,
 "nbformat_minor": 5
}
