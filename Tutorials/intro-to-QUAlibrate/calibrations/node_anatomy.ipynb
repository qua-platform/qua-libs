{
 "cells": [
  {
   "cell_type": "markdown",
   "id": "6ec68121",
   "metadata": {
    "lines_to_next_cell": 0
   },
   "source": [
    "# Anatomy of a QualibrationNode\n",
    "\n",
    "This guide dissects a typical QUAlibrate calibration node, using the `time_of_flight.py` script as a concrete example. We will go through the script section by section, presenting the code first, followed by a detailed explanation of its purpose and functionality within the node's workflow.\n",
    "\n",
    "All calibration node scripts follow a standardized structure, segmented into distinct sections using `# %% {Section Name}` separators. This consistent structure makes nodes easier to understand, maintain, and integrate. This segmentation also allows developers to run individual cells interactively within a Python kernel (e.g., in VS Code), which is highly beneficial for development and debugging.\n",
    "\n",
    "The common sections found in most calibration nodes are:\n",
    "* `Imports`: Handles all necessary library and module imports.\n",
    "* `Initialisation`: Defines the node, description and parameters.\n",
    "* `QUA_program`: Defines the core QUA pulse sequence for the experiment.\n",
    "* `Simulate` (Optional): Simulates the QUA program's waveforms and timing.\n",
    "* `Execute`: Runs the QUA program on the quantum hardware and fetches results.\n",
    "* `Load_data` (Optional): Loads data from a previous run instead of executing.\n",
    "* `Analyse_data`: Processes the raw data and performs fitting or analysis.\n",
    "* `Plot_data`: Generates plots visualizing the data and analysis results.\n",
    "* `Save_results`: Persists all parameters, results and figures.\n",
    "\n",
    "Each of these common sections typically corresponds to a Python function decorated with `@node.run_action`. This decorator effectively encapsulates the logic for that specific step (like creating the QUA program or analysing data) and registers it as an action associated with the node instance, much like a method belongs to a class object. This approach promotes modularity and allows the QUAlibrate framework to manage the execution flow, including conditional skipping of steps."
   ]
  },
  {
   "cell_type": "markdown",
   "id": "9db85746",
   "metadata": {},
   "source": [
    "## Imports Section"
   ]
  },
  {
   "cell_type": "code",
   "execution_count": null,
   "id": "5d7ecfb4",
   "metadata": {
    "incorrectly_encoded_metadata": "{Imports}",
    "lines_to_next_cell": 2
   },
   "outputs": [],
   "source": [
    "# %% {Imports}\n",
    "import matplotlib.pyplot as plt\n",
    "\n",
    "from configuration.configuration_with_lf_fem_and_mw_fem import *\n",
    "\n",
    "from qm import QuantumMachinesManager\n",
    "from qm.qua import *\n",
    "\n",
    "from qualang_tools.results import progress_counter, fetching_tool\n",
    "\n",
    "from qualibrate import QualibrationNode\n",
    "from calibration_utils.time_of_flight import (\n",
    "    Parameters,\n",
    "    process_raw_data,\n",
    "    fit_raw_data,\n",
    "    plot_single_run_with_fit,\n",
    "    plot_averaged_run_with_fit,\n",
    ")\n",
    "from qualibration_libs.runtime import simulate_and_plot"
   ]
  },
  {
   "cell_type": "markdown",
   "id": "a7347ab3",
   "metadata": {
    "jp-MarkdownHeadingCollapsed": true
   },
   "source": [
    "### Explanation: Imports Section\n",
    "\n",
    "This initial section handles importing all necessary libraries and modules.\n",
    "- **Standard Libraries:** Imports standart useful libraries, for example `matplotlib.pyplot` for plotting.\n",
    "- **Configuration file:** Imports the configuration dictionary from the configuration file.\n",
    "- **QM Libraries:** Imports everything from `qm.qua` (like `program`, `declare`, `measure`, `play`, QUA control flow statements like `for_`, `save`, `stream_processing`, etc.).\n",
    "- **Qualang Tools:** Imports specific utilities like `progress_counter` (for displaying progress during data acquisition), and `fetching_tool` (for fetching data).\n",
    "- **QUAlibrate:** Imports `QualibrationNode`, which is the core class for creating calibration nodes.\n",
    "- **Experiment-Specific Imports:** Imports the `Parameters` class specific to this resonator spectroscopy experiment, along with functions for processing (`process_raw_dataset`), fitting (`fit_raw_data`),  and plotting (`plot_single_run_with_fit`, `plot_averaged_run_with_fit`) from the corresponding `qualibration_utils.time_of_flight` package.\n",
    "- **Workflow/Helper Imports:** The package `qualibration_libs` contains a series of tools that are generally useful for calibration nodes, as opposed to being useful for a specific node. This includes `simulate_and_plot`, a workflow utility for running simulations."
   ]
  },
  {
   "cell_type": "markdown",
   "id": "cf7a8ea4",
   "metadata": {},
   "source": [
    "## Initialisation Section"
   ]
  },
  {
   "cell_type": "code",
   "execution_count": null,
   "id": "f7e3f2d6",
   "metadata": {
    "incorrectly_encoded_metadata": "{Initialisation}"
   },
   "outputs": [],
   "source": [
    "# %% {Node initialisation}\n",
    "description = \"\"\"\n",
    "        TIME OF FLIGHT\n",
    "This sequence involves sending a readout pulse and capturing the raw ADC traces.\n",
    "The data undergoes post-processing to calibrate three distinct parameters:\n",
    "    - Time of Flight: This represents the internal processing time and the propagation delay of the readout pulse.\n",
    "    Its value can be adjusted in the configuration under \"time_of_flight\".\n",
    "    This value is utilized to offset the acquisition window relative to when the readout pulse is dispatched.\n",
    "\n",
    "    - Analog Inputs Offset: Due to minor impedance mismatches, the signals captured by the OPX might exhibit slight offsets.\n",
    "    These can be rectified in the configuration at: config/controllers/\"con1\"/analog_inputs, enhancing the demodulation process.\n",
    "\n",
    "    - Analog Inputs Gain: If a signal is constrained by digitization or if it saturates the ADC,\n",
    "    the variable gain of the OPX analog input can be modified to fit the signal within the ADC range of +/-0.5V.\n",
    "    This gain, ranging from -12 dB to 20 dB, can also be adjusted in the configuration at: config/controllers/\"con1\"/analog_inputs.\n",
    "\"\"\"\n",
    "\n",
    "node = QualibrationNode[Parameters, None](\n",
    "    name=\"time_of_flight\",  # Name should be unique\n",
    "    description=description,  # Describe what the node is doing, which is also reflected in the QUAlibrate GUI\n",
    "    parameters=Parameters(),  # Node parameters defined under calibration_utils/node_name/parameters\n",
    ")\n",
    "\n",
    "\n",
    "# Any parameters that should change for debugging purposes only should go in here\n",
    "# These parameters are ignored when run through the GUI\n",
    "@node.run_action(skip_if=node.modes.external)\n",
    "def custom_param(node: QualibrationNode[Parameters, None]):\n",
    "    \"\"\"Allow the user to locally set the node parameters for debugging purposes, or execution in the Python IDE.\"\"\"\n",
    "    # You can get type hinting in your IDE by typing node.parameters.\n",
    "    node.parameters.simulate = False\n",
    "    node.parameters.resonators = [\"q1_resonator\", \"q2_resonator\"]\n",
    "    node.parameters.multiplexed = True\n",
    "    node.parameters.num_shots = 10\n",
    "    node.parameters.depletion_time = 10 * u.us\n",
    "    pass\n",
    "\n"
   ]
  },
  {
   "cell_type": "markdown",
   "id": "d02346e6",
   "metadata": {
    "jp-MarkdownHeadingCollapsed": true
   },
   "source": [
    "### Explanation: Initialisation Section\n",
    "\n",
    "This section sets up the core `QualibrationNode` object.\n",
    "- **Description String:** A multi-line string `description` is defined. This provides a human-readable explanation of the node's purpose, prerequisites, and the parameters it intends to update. This description is displayed in the QUAlibrate user interface.\n",
    "- **Node Instantiation:** An instance of `QualibrationNode` is created.\n",
    "    - `QualibrationNode[Parameters, None]`: Type hints are used to associate the node with the specific `Parameters` class (imported earlier). This aids IDEs with type checking and autocompletion.\n",
    "    - `name=\"time_of_flight\"`: Assigns a unique identifier to this node type. This name is crucial for QUAlibrate to track and manage the node.\n",
    "    - `description=description`: Passes the description string defined above.\n",
    "    - `parameters=Parameters()`: Passes an *instance* of the imported `Parameters` class. QUAlibrate uses this to manage the node's input parameters (reading defaults, accepting user input via the UI).\n",
    "- **Custom Parameter Run Action (`custom_param`):**\n",
    "    - `@node.run_action(skip_if=node.modes.external)`: Defines a function `custom_param` as a run action. The `skip_if=node.modes.external` argument ensures this function *only* runs when the script is executed directly (standalone mode, e.g., in an IDE) and is *skipped* when run via the QUAlibrate UI or as part of a graph.\n",
    "    - **Purpose:** This action allows developers to temporarily override parameters (like `node.parameters.resonators = [\"q1_resonator\", \"q2_resonator\"]`) for local debugging or testing without affecting the default parameters used in automated runs.\n"
   ]
  },
  {
   "cell_type": "markdown",
   "id": "3f26b72b",
   "metadata": {
    "lines_to_next_cell": 2
   },
   "source": [
    "## Create QUA Program Section"
   ]
  },
  {
   "cell_type": "code",
   "execution_count": null,
   "id": "11744718-3a93-4e42-ac43-a01fef22a32c",
   "metadata": {},
   "outputs": [],
   "source": [
    "# %% {QUA_program}\n",
    "@node.run_action(skip_if=node.parameters.load_data_id is not None)\n",
    "def create_qua_program(node: QualibrationNode[Parameters, None]):\n",
    "    \"\"\"Create the sweep axes and generate the QUA program from the pulse sequence and the node parameters.\"\"\"\n",
    "    # Get the active qubits from the node and organize them by batches\n",
    "    resonators = node.parameters.resonators\n",
    "    node.namespace[\"sweep_axes\"] = {\n",
    "        \"resonator\": resonators,\n",
    "    }\n",
    "    with program() as node.namespace[\"qua_program\"]:\n",
    "        n = declare(int)  # QUA variable for the averaging loop\n",
    "        n_st = declare_stream()\n",
    "        adc_st = [\n",
    "            declare_stream(adc_trace=True) for _ in range(len(resonators))\n",
    "        ]  # The stream to store the raw ADC trace\n",
    "\n",
    "        with for_(n, 0, n < node.parameters.num_shots, n + 1):\n",
    "            save(n, n_st)\n",
    "            for i, resonator in enumerate(resonators):\n",
    "                # Reset the phase of the digital oscillator associated to the resonator element. Needed to average the cosine signal.\n",
    "                reset_if_phase(resonator)\n",
    "                # Measure the resonator (send a readout pulse and record the raw ADC trace)\n",
    "                measure(\n",
    "                    \"readout\",\n",
    "                    resonator,\n",
    "                    adc_stream=adc_st[i],\n",
    "                )\n",
    "                # Wait for the resonator to deplete\n",
    "                wait(node.parameters.depletion_time * u.ns, resonator)\n",
    "                if not node.parameters.multiplexed:\n",
    "                    align()\n",
    "\n",
    "        with stream_processing():\n",
    "            n_st.save(\"n\")\n",
    "            for i, resonator in enumerate(resonators):\n",
    "                # Will save average:\n",
    "                adc_st[i].input1().real().average().save(f\"adcI{i + 1}\")\n",
    "                adc_st[i].input1().image().average().save(f\"adcQ{i + 1}\")\n",
    "                # Will save only last run:\n",
    "                adc_st[i].input1().real().save(f\"adc_single_runI{i + 1}\")\n",
    "                adc_st[i].input1().image().save(f\"adc_single_runQ{i + 1}\")"
   ]
  },
  {
   "cell_type": "markdown",
   "id": "f31da8ff",
   "metadata": {
    "jp-MarkdownHeadingCollapsed": true
   },
   "source": [
    "### Explanation: Create_QUA_program Section\n",
    "\n",
    "This run action defines the core QUA pulse sequence for time of flight calibration. Its main goal is to generate a QUA program that captures the raw ADC data from the resonator, in order to calibrated the time of flight, analog inpus offsets and the analog input gain. \n",
    "\n",
    "- **Preparations:** The action first defines relevant variables for the QUA probram. \n",
    "  Relevant sweeps are collected into `node.namespace[\"sweep_axes\"]`, to be used within the QUA program.\n",
    "- **Program Definition** It then enters the `with program()` context to define the QUA sequence. Inside, it declares necessary QUA variables and streams, often using helper methods from the loaded `Quam` object (`node.machine`) for consistency.\n",
    "- **Nested Loops:** The core logic involves nested loops:\n",
    "    1.  An averaging loop (`with for_(n,...)`) repeats the measurement `n_avg` times.\n",
    "    2.  An inner loop (`for i, resonator in enumerate(resonators):`) that runs over the resonators declared in `node.parameters.resonators`. \n",
    "- **Measurement Sequence:** Inside the inner loop, for each resonator:\n",
    "    1.  The resonator's phase is updated (`reset_if_phase(...)`).\n",
    "    2.  A measurement pulse is played, and the the raw ADC trace is saved to the stream processing block (`measure(\"readout\", ...)`).\n",
    "    3.  A wait time allows the resonator to relax (`wait(...)`).\n",
    "- **Stream Processing:** After the loops complete, a `with stream_processing()` block defines how the QOP should process the raw data streams. Here, it saves the averaged raw ADC data over all `n_avg` iterations and the last measurement.\n",
    "- **Output:** The generated QUA program is stored in `node.namespace[\"qua_program\"]`."
   ]
  },
  {
   "cell_type": "markdown",
   "id": "f369641d",
   "metadata": {
    "lines_to_next_cell": 2
   },
   "source": [
    "## Simulate Section"
   ]
  },
  {
   "cell_type": "code",
   "execution_count": null,
   "id": "63c19c96",
   "metadata": {
    "incorrectly_encoded_metadata": "{Simulate}",
    "lines_to_next_cell": 2
   },
   "outputs": [],
   "source": [
    "@node.run_action(skip_if=node.parameters.load_data_id is not None or not node.parameters.simulate)\n",
    "def simulate_qua_program(node: QualibrationNode[Parameters, None]):\n",
    "    \"\"\"Connect to the QOP and simulate the QUA program\"\"\"\n",
    "    # Connect to the QOP\n",
    "    qmm = QuantumMachinesManager(host=qop_ip, cluster_name=cluster_name)\n",
    "    # Simulate the QUA program, generate the waveform report and plot the simulated samples\n",
    "    samples, fig, wf_report = simulate_and_plot(qmm, config, node.namespace[\"qua_program\"], node.parameters)\n",
    "    # Store the figure, waveform report and simulated samples\n",
    "    node.results[\"simulation\"] = {\"figure\": fig, \"wf_report\": wf_report, \"samples\": samples}"
   ]
  },
  {
   "cell_type": "markdown",
   "id": "f3760f53",
   "metadata": {},
   "source": [
    "### Explanation: Simulate Section\n",
    "\n",
    "This optional run action allows simulating the QUA program before running it on actual hardware.\n",
    "- **Decorator:** `@node.run_action(skip_if=node.parameters.load_data_id is not None or not node.parameters.simulate)` ensures this action only runs if data isn't being loaded (`load_data_id` is None) AND the `simulate` parameter is set to `True`.\n",
    "- **Connection:**\n",
    "    - `qmm = QuantumMachinesManager()`: Establishes a connection to the Quantum Machines Manager (QMM).\n",
    "- **Simulation Execution:**\n",
    "    - `samples, fig, wf_report = simulate_and_plot(...)`: Calls a workflow utility function (`simulate_and_plot` from `quam_experiments.workflow`) which likely wraps the standard `qmm.simulate` call. It passes the QMM object, the generated config, the QUA program (stored in `node.namespace[\"qua_program\"]`), and the node parameters. This function typically returns the simulated waveforms (`samples`), a figure visualizing them (`fig`), and potentially a waveform report (`wf_report`).\n",
    "- **Result Storage:**\n",
    "    - `node.results[\"simulation\"] = {\"figure\": fig, \"wf_report\": wf_report, \"samples\": samples}`: Stores the outputs of the simulation (figure, report, samples) in the `node.results` dictionary under the key \"simulation\"."
   ]
  },
  {
   "cell_type": "markdown",
   "id": "587f7c4c",
   "metadata": {
    "lines_to_next_cell": 2
   },
   "source": [
    "## Execute Section"
   ]
  },
  {
   "cell_type": "code",
   "execution_count": null,
   "id": "27d6bd10",
   "metadata": {
    "incorrectly_encoded_metadata": "{Execute}",
    "lines_to_next_cell": 2
   },
   "outputs": [],
   "source": [
    "@node.run_action(skip_if=node.parameters.load_data_id is not None or node.parameters.simulate)\n",
    "def execute_qua_program(node: QualibrationNode[Parameters, Quam]):\n",
    "    \"\"\"Connect to the QOP, execute the QUA program and fetch the raw data and store it in a xarray dataset called \"ds_raw\".\"\"\"\n",
    "    # Connect to the QOP\n",
    "    qmm = QuantumMachinesManager(host=qop_ip, cluster_name=cluster_name)\n",
    "    # Execute the QUA program only if the quantum machine is available (this is to avoid interrupting running jobs).\n",
    "    qm = qmm.open_qm(config)\n",
    "    # The job is stored in the node namespace to be reused in the fetching_data run_action\n",
    "    node.namespace[\"job\"] = job = qm.execute(node.namespace[\"qua_program\"])\n",
    "    # Names and values mapping\n",
    "    keys = []\n",
    "\n",
    "    for i in range(1, len(node.parameters.resonators) + 1):\n",
    "        keys.extend([f\"adcI{i}\", f\"adcQ{i}\", f\"adc_single_runI{i}\", f\"adc_single_runQ{i}\"])\n",
    "    data_fetcher = fetching_tool(job, data_list=keys, mode=\"wait_for_all\")\n",
    "    values = data_fetcher.fetch_all()\n",
    "    # Display the execution report to expose possible runtime errors\n",
    "    node.log(job.execution_report())\n",
    "    # Register the raw dataset\n",
    "    node.results[\"raw_data\"] = {}\n",
    "    for key, value in zip(keys, values):\n",
    "        node.results[\"raw_data\"][key] = value"
   ]
  },
  {
   "cell_type": "markdown",
   "id": "47edeff4",
   "metadata": {},
   "source": [
    "### Explanation: Execute Section\n",
    "\n",
    "This run action executes the QUA program on the actual hardware (QOP) and fetches the results.\n",
    "- **Decorator:** `@node.run_action(skip_if=node.parameters.load_data_id is not None or node.parameters.simulate)` ensures this action only runs if data isn't being loaded AND simulation is not enabled.\n",
    "- **Connection & Config:** It connects to the QMM (`QuantumMachinesManager`) and open the quantum machine (`qmm.open_qm()`).\n",
    "- **Job Execution:**\n",
    "    - `node.namespace[\"job\"] = job = qm.execute(node.namespace[\"qua_program\"])`: Executes the QUA program stored in the namespace and stores the returned `job` object in the namespace as well.\n",
    "- **Data Fetching & Progress:**\n",
    "    - `fetching_tool(job, data_list=keys, mode=\"wait_for_all\")`: This tool handles fetching data from the QOP streams.\n",
    "- **Execution Report:** `node.log(job.execution_report())`: After the job finishes, prints a report containing information about the execution, including any potential runtime errors.\n",
    "- **Result Storage:** `node.results[]`: Stores the final fetched dataset."
   ]
  },
  {
   "cell_type": "markdown",
   "id": "f529ac6b",
   "metadata": {
    "lines_to_next_cell": 2
   },
   "source": [
    "## Load Data Section"
   ]
  },
  {
   "cell_type": "code",
   "execution_count": null,
   "id": "c319fbc0",
   "metadata": {
    "incorrectly_encoded_metadata": "{Load_data}",
    "lines_to_next_cell": 2
   },
   "outputs": [],
   "source": [
    "@node.run_action(skip_if=node.parameters.load_data_id is None)\n",
    "def load_data(node: QualibrationNode[Parameters, None]):\n",
    "    \"\"\"Load a previously acquired dataset.\"\"\"\n",
    "    load_data_id = node.parameters.load_data_id\n",
    "    # Load the specified dataset\n",
    "    node.load_from_id(node.parameters.load_data_id)\n",
    "    node.parameters.load_data_id = load_data_id"
   ]
  },
  {
   "cell_type": "markdown",
   "id": "d8687cf9",
   "metadata": {},
   "source": [
    "### Explanation: Load_data Section\n",
    "\n",
    "This run action provides an alternative to executing the experiment; it loads data from a previous run identified by an ID.\n",
    "- **Decorator:** `@node.run_action(skip_if=node.parameters.load_data_id is None)` ensures this action only runs if the `load_data_id` parameter *is* set (i.e., not None).\n",
    "- **Loading:**\n",
    "    - `load_data_id = node.parameters.load_data_id`: Stores the ID locally.\n",
    "    - `node.load_from_id(node.parameters.load_data_id)`: Calls the built-in `QualibrationNode` method to load the parameters and results associated with the specified run ID from the data storage location. This populates `node.parameters` and `node.results` with the loaded data.\n",
    "    - `node.parameters.load_data_id = load_data_id`: Resets the parameter in the current node instance (loading might overwrite it)."
   ]
  },
  {
   "cell_type": "markdown",
   "id": "6a773987",
   "metadata": {
    "lines_to_next_cell": 2
   },
   "source": [
    "## Analyse Data Section"
   ]
  },
  {
   "cell_type": "code",
   "execution_count": null,
   "id": "677c84c0",
   "metadata": {
    "incorrectly_encoded_metadata": "{Analyse_data}",
    "lines_to_next_cell": 2
   },
   "outputs": [],
   "source": [
    "@node.run_action(skip_if=node.parameters.simulate)\n",
    "def analyse_data(node: QualibrationNode[Parameters, None]):\n",
    "    \"\"\"Analyse the raw data and store the fitted data in node.results.\"\"\"\n",
    "    num_resonators = len(node.parameters.resonators)\n",
    "    node.results[\"processed_data\"] = process_raw_data(node.results[\"raw_data\"])\n",
    "    node.results[\"fitted_data\"] = fit_raw_data(node.results[\"processed_data\"], num_resonators)"
   ]
  },
  {
   "cell_type": "markdown",
   "id": "5c7d0c82",
   "metadata": {},
   "source": [
    "### Explanation: Analyse_data Section\n",
    "\n",
    "This run action performs post-processing and fitting on the acquired (or loaded) raw data.\n",
    "- **Decorator:** `@node.run_action(skip_if=node.parameters.simulate)` ensures this action is skipped if the node is only simulating the program.\n",
    "- **Data Processing:**\n",
    "    - `process_raw_dataset(node.results)`: Calls an experiment-specific function (`process_raw_dataset`) to perform initial processing on the raw data stored in `node.results`. This might involve calculating magnitude and phase from I/Q, unit conversions, or background subtraction. The processed dataset is then stored in node.results[\"processed_data\"].\n",
    "- **Fitting:**\n",
    "    - `fit_raw_data(node.results, node)`: Calls another experiment-specific function (`fit_raw_data`) to fit a model to the processed data. Then, the fitted data is dtored in node.results[\"fitted_data\"]."
   ]
  },
  {
   "cell_type": "markdown",
   "id": "ce3cf3dd",
   "metadata": {
    "lines_to_next_cell": 2
   },
   "source": [
    "## Plot Data Section"
   ]
  },
  {
   "cell_type": "code",
   "execution_count": null,
   "id": "744c5c1e",
   "metadata": {
    "incorrectly_encoded_metadata": "{Plot_data}",
    "lines_to_next_cell": 2
   },
   "outputs": [],
   "source": [
    "@node.run_action(skip_if=node.parameters.simulate)\n",
    "def plot_data(node: QualibrationNode[Parameters, None]):\n",
    "    \"\"\"Plot the raw and fitted data.\"\"\"\n",
    "    num_resonators = len(node.parameters.resonators)\n",
    "    fig_single_run_fit = plot_single_run_with_fit(node.results, num_resonators)\n",
    "    fig_averaged_run_fit = plot_averaged_run_with_fit(node.results, num_resonators)\n",
    "    node.results[\"figures\"] = {\n",
    "        \"single_run\": fig_single_run_fit,\n",
    "        \"averaged_run\": fig_averaged_run_fit,\n",
    "    }"
   ]
  },
  {
   "cell_type": "markdown",
   "id": "41d25140",
   "metadata": {},
   "source": [
    "### Explanation: Plot_data Section\n",
    "\n",
    "This run action generates plots based on the processed and fitted data.\n",
    "- **Decorator:** `@node.run_action(skip_if=node.parameters.simulate)` skips plotting during simulation.\n",
    "- **Plot Generation:**\n",
    "    - Calls experiment-specific plotting functions (e.g., `plot_single_run_with_fit`, `plot_averaged_run_with_fit`) imported earlier. These functions take the relevant data (`node.results`) and the number of resonators as input and return Matplotlib figure objects.\n",
    "- **Display Plot:** `plt.show()`: Displays the generated plots interactively when the script is run standalone. This line might be commented out for fully automated runs.\n",
    "- **Store Figures:**\n",
    "    - `node.results[\"figures\"] = {\"single_run\": fig_single_run_fit,\n",
    "        \"averaged_run\": fig_averaged_run_fit,}`: Stores the generated Matplotlib figure objects in the `node.results` dictionary under the key \"figures\". QUAlibrate automatically saves these figures when `node.save()` is called, making them viewable in the UI."
   ]
  },
  {
   "cell_type": "markdown",
   "id": "94b45111",
   "metadata": {
    "lines_to_next_cell": 2
   },
   "source": [
    "## Save Results Section"
   ]
  },
  {
   "cell_type": "code",
   "execution_count": null,
   "id": "4cba0444",
   "metadata": {
    "incorrectly_encoded_metadata": "{Save_results}",
    "lines_to_next_cell": 2
   },
   "outputs": [],
   "source": [
    "@node.run_action()\n",
    "def save_results(node: QualibrationNode[Parameters, None]):\n",
    "    node.save()"
   ]
  },
  {
   "cell_type": "markdown",
   "id": "65ece856",
   "metadata": {},
   "source": [
    "### Explanation: Save_results Section\n",
    "\n",
    "This final run action is responsible for persisting all the relevant information gathered during the node's execution.\n",
    "- **Decorator:** `@node.run_action()`: Typically has no `skip_if` condition, ensuring that saving always occurs (unless the node fails catastrophically earlier).\n",
    "- **Saving Operation:** `node.save()`: Calls the core `save` method of the `QualibrationNode` instance. This method performs several actions:\n",
    "    - Saves the input parameters (`node.parameters`) used for this specific run.\n",
    "    - Saves the contents of the `node.results` dictionary, including any data and Matplotlib figures.\n",
    "- **Data Location:** The data is saved in a structured directory hierarchy managed by QUAlibrate using the timestamp, unique run id, and node name, allowing for easy retrieval and comparison of results across different runs."
   ]
  }
 ],
 "metadata": {
  "jupytext": {
   "cell_metadata_filter": "incorrectly_encoded_metadata,-all",
   "cell_metadata_json": true,
   "formats": "ipynb,py:percent",
   "main_language": "python"
  },
  "kernelspec": {
   "display_name": "Python 3 (ipykernel)",
   "language": "python",
   "name": "python3"
  },
  "language_info": {
   "codemirror_mode": {
    "name": "ipython",
    "version": 3
   },
   "file_extension": ".py",
   "mimetype": "text/x-python",
   "name": "python",
   "nbconvert_exporter": "python",
   "pygments_lexer": "ipython3",
   "version": "3.11.9"
  }
 },
 "nbformat": 4,
 "nbformat_minor": 5
}
