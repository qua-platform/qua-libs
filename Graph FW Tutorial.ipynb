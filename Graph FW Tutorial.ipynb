{
 "cells": [
  {
   "cell_type": "markdown",
   "metadata": {},
   "source": [
    "# The Graph and Database Framework"
   ]
  },
  {
   "cell_type": "markdown",
   "metadata": {},
   "source": [
    "## Basic Usage"
   ]
  },
  {
   "cell_type": "markdown",
   "metadata": {},
   "source": [
    "The basic building block of the framework is\n",
    "the **ProgramNode** which is an abstract class that describes a generic node in the graph.\n",
    "Two basic types of nodes are **PyNode** and **QuaNode**, those contain Python and Qua programs, respectively.\n",
    "To start a new node we need to give it a label, a program to be executed, define input/output variables. For example: "
   ]
  },
  {
   "cell_type": "code",
   "execution_count": 1,
   "metadata": {},
   "outputs": [],
   "source": [
    "#First some imports\n",
    "from qualibs.graph import *\n",
    "from qm.QuantumMachinesManager import QuantumMachinesManager\n",
    "from qm.qua import *\n",
    "from qm import LoopbackInterface\n",
    "from qm import SimulationConfig"
   ]
  },
  {
   "cell_type": "markdown",
   "metadata": {},
   "source": [
    "Let's say we want our node to take a number and output it's square"
   ]
  },
  {
   "cell_type": "code",
   "execution_count": 2,
   "metadata": {},
   "outputs": [
    {
     "name": "stdout",
     "output_type": "stream",
     "text": [
      "\n",
      "RUNNING PyNode <square>...\n",
      "\u001b[32mDONE running node <square>\u001b[0m\n"
     ]
    }
   ],
   "source": [
    "a = PyNode('square')\n",
    "a.program = lambda x: {'y':x**2}\n",
    "a.input_vars = {'x': 3}\n",
    "a.output_vars = {'y'}\n",
    "await a.run_async()"
   ]
  },
  {
   "cell_type": "markdown",
   "metadata": {},
   "source": [
    "Here we used the **await** keyword, which is native in python 3.8 and is used to run code asynchronously, that's how the graph framwork works under the hood. Since this tutorial is written in a Jupyter Notebook one must use the asynchronous version explicitly. The simpler version on PyCharm, for example, would be **a.run()**.\n",
    "Now, let's explain what we did: \n",
    "1. We defined the name/label of the node by a string 'square'.\n",
    "2. The program must define a dictionary as the output, giving names to all the output variables.\n",
    "3. The input_vars are defined in a keyword arguments format to be given to the program.\n",
    "4. The output_vars are a set which contains the variables we would like to store in the result\n"
   ]
  },
  {
   "cell_type": "code",
   "execution_count": 3,
   "metadata": {},
   "outputs": [
    {
     "data": {
      "text/plain": [
       "{'y': 9}"
      ]
     },
     "execution_count": 3,
     "metadata": {},
     "output_type": "execute_result"
    }
   ],
   "source": [
    "a.result"
   ]
  },
  {
   "cell_type": "markdown",
   "metadata": {},
   "source": [
    "Another possibility of defining a node in one line:"
   ]
  },
  {
   "cell_type": "code",
   "execution_count": 4,
   "metadata": {},
   "outputs": [
    {
     "name": "stdout",
     "output_type": "stream",
     "text": [
      "\n",
      "RUNNING PyNode <sum_two>...\n",
      "\u001b[32mDONE running node <sum_two>\u001b[0m\n"
     ]
    },
    {
     "data": {
      "text/plain": [
       "{'sum': -1, 'x': 2}"
      ]
     },
     "execution_count": 4,
     "metadata": {},
     "output_type": "execute_result"
    }
   ],
   "source": [
    "def add(x, y):\n",
    "    return {\"x\":x ,\"y\": y, \"sum\": x+y}\n",
    "\n",
    "sum_node = PyNode(\"sum_two\",add,{'x':2,'y':-3},{'sum','x'})\n",
    "\n",
    "await sum_node.run_async()\n",
    "sum_node.result"
   ]
  },
  {
   "cell_type": "markdown",
   "metadata": {},
   "source": [
    "A nice property of the input_vars attribute is that it can be set using direct assignment by the name of the variable, for example:"
   ]
  },
  {
   "cell_type": "code",
   "execution_count": 5,
   "metadata": {},
   "outputs": [
    {
     "name": "stdout",
     "output_type": "stream",
     "text": [
      "\n",
      "RUNNING PyNode <sum_two>...\n",
      "\u001b[32mDONE running node <sum_two>\u001b[0m\n"
     ]
    },
    {
     "data": {
      "text/plain": [
       "{'sum': 11, 'x': 5}"
      ]
     },
     "execution_count": 5,
     "metadata": {},
     "output_type": "execute_result"
    }
   ],
   "source": [
    "sum_node.input_vars.x = 5\n",
    "sum_node.input_vars.y = 6\n",
    "await sum_node.run_async()\n",
    "sum_node.result"
   ]
  },
  {
   "cell_type": "markdown",
   "metadata": {},
   "source": [
    "Notice: that the **input vars** must match the variables in the **signature** of the program, and the **output vars** the **output dictionary** names."
   ]
  },
  {
   "cell_type": "markdown",
   "metadata": {},
   "source": [
    "Now let's create a QuaNode! A QuaNode shares the same attributes as the PyNode but has some additional properties:\n",
    "1. quantum_machine : defines the QuantumMachine to be used to run the Qua program\n",
    "2. simulation/execution arguments\n",
    "3. Whether to simulate_or_execute toggle\n",
    "4. The program of the QuaNode has somewhat different structure"
   ]
  },
  {
   "cell_type": "code",
   "execution_count": 6,
   "metadata": {},
   "outputs": [
    {
     "name": "stdout",
     "output_type": "stream",
     "text": [
      "2020-11-02 12:57:41,530 - qm - INFO - Performing health check\n",
      "2020-11-02 12:57:41,533 - qm - INFO - Health check passed\n",
      "2020-11-02 12:57:41,535 - qm - WARNING - Client's version (0.5.124) does not match the server version (0.5.145).\n"
     ]
    }
   ],
   "source": [
    "#import a template config\n",
    "from qualibs.templates.vanilla_config import config\n",
    "\n",
    "# open a QM\n",
    "QMm = QuantumMachinesManager()\n",
    "QM = QMm.open_qm(config)\n",
    "sim_args = {'simulate': SimulationConfig(int(1e3))}"
   ]
  },
  {
   "cell_type": "markdown",
   "metadata": {},
   "source": [
    "Now, to define a program for the QuaNode, one must wrap a Qua program in a python function, and the python must return the desired qua program that needs to be executed:"
   ]
  },
  {
   "cell_type": "code",
   "execution_count": 7,
   "metadata": {},
   "outputs": [
    {
     "name": "stdout",
     "output_type": "stream",
     "text": [
      "\n",
      "SIMULATING QuaNode <save_x>...\n",
      "2020-11-02 12:57:41,968 - qm - INFO - Flags: \n",
      "2020-11-02 12:57:41,969 - qm - INFO - Executing high level program\n",
      "\u001b[32mDONE running node <save_x>\u001b[0m\n"
     ]
    },
    {
     "data": {
      "text/plain": [
       "{'res': array([5], dtype=int64)}"
      ]
     },
     "execution_count": 7,
     "metadata": {},
     "output_type": "execute_result"
    }
   ],
   "source": [
    "def qua_prog(x):\n",
    "    \n",
    "    with program() as prog:\n",
    "        res = declare(int)\n",
    "        res_str = declare_stream()\n",
    "        play('playOp', 'qe1')\n",
    "        assign(res, x)\n",
    "        save(res, res_str)\n",
    "        with stream_processing():\n",
    "            res_str.save_all('res')\n",
    "    \n",
    "    return prog\n",
    "\n",
    "b = QuaNode('save_x',qua_prog,{'x':5},{'res'})\n",
    "\n",
    "b.simulation_kwargs = sim_args\n",
    "b.quantum_machine = QM\n",
    "\n",
    "await b.run_async()\n",
    "b.result"
   ]
  },
  {
   "cell_type": "markdown",
   "metadata": {},
   "source": [
    "Here, the **input_vars** as before must match the **input of the given program**,\n",
    "and the **output_vars** must match the  saved **stream_processing variables** by the Qua program."
   ]
  },
  {
   "cell_type": "markdown",
   "metadata": {},
   "source": [
    "## The Graph"
   ]
  },
  {
   "cell_type": "markdown",
   "metadata": {},
   "source": [
    "Another basic enetity in the framework is the **ProgramGraph**. This is what links together the nodes decribed above, and what controls the execution and dataflow between the nodes. Let's define a new graph:\n"
   ]
  },
  {
   "cell_type": "code",
   "execution_count": 8,
   "metadata": {},
   "outputs": [],
   "source": [
    "g = ProgramGraph('new_graph')"
   ]
  },
  {
   "cell_type": "markdown",
   "metadata": {},
   "source": [
    "Now suppose we want our graph to have nodes 'a','sum_node' connected such that the output variable y of 'a' will be used as input vaiable x of 'sum_node'."
   ]
  },
  {
   "cell_type": "code",
   "execution_count": 9,
   "metadata": {},
   "outputs": [],
   "source": [
    "sum_node.input_vars.y = a.output('y')"
   ]
  },
  {
   "cell_type": "markdown",
   "metadata": {},
   "source": [
    "Now simply add the nodes to the graph:"
   ]
  },
  {
   "cell_type": "code",
   "execution_count": 10,
   "metadata": {},
   "outputs": [],
   "source": [
    "g.add_nodes(a,sum_node)"
   ]
  },
  {
   "cell_type": "markdown",
   "metadata": {},
   "source": [
    "Now to run the graph the same story about async applies here. The graph will be run in an order defined by the dependencies, where independent nodes could run asynchronously."
   ]
  },
  {
   "cell_type": "code",
   "execution_count": 11,
   "metadata": {},
   "outputs": [
    {
     "name": "stdout",
     "output_type": "stream",
     "text": [
      "\n",
      "RUNNING PyNode <square>...\n",
      "\u001b[32mDONE running node <square>\u001b[0m\n",
      "\n",
      "RUNNING PyNode <sum_two>...\n",
      "\u001b[32mDONE running node <sum_two>\u001b[0m\n"
     ]
    }
   ],
   "source": [
    "await g.run_async()"
   ]
  },
  {
   "cell_type": "markdown",
   "metadata": {},
   "source": [
    "The result is stored in each of the nodes."
   ]
  },
  {
   "cell_type": "code",
   "execution_count": 12,
   "metadata": {},
   "outputs": [
    {
     "data": {
      "text/plain": [
       "{'sum': 14, 'x': 5}"
      ]
     },
     "execution_count": 12,
     "metadata": {},
     "output_type": "execute_result"
    }
   ],
   "source": [
    "sum_node.result"
   ]
  },
  {
   "cell_type": "markdown",
   "metadata": {},
   "source": [
    "Let's add node 'b' to the graph, and use the output of 'a' as the input to node 'b'"
   ]
  },
  {
   "cell_type": "code",
   "execution_count": 13,
   "metadata": {},
   "outputs": [
    {
     "name": "stdout",
     "output_type": "stream",
     "text": [
      "\n",
      "RUNNING PyNode <square>...\n",
      "\u001b[32mDONE running node <square>\u001b[0m\n",
      "\n",
      "RUNNING PyNode <sum_two>...\n",
      "\u001b[32mDONE running node <sum_two>\u001b[0m\n",
      "\n",
      "SIMULATING QuaNode <save_x>...\n",
      "2020-11-02 12:57:45,096 - qm - INFO - Flags: \n",
      "2020-11-02 12:57:45,097 - qm - INFO - Executing high level program\n",
      "\u001b[32mDONE running node <save_x>\u001b[0m\n"
     ]
    }
   ],
   "source": [
    "b.input_vars.x = a.output(\"y\")\n",
    "\n",
    "g.add_nodes(b)\n",
    "\n",
    "await g.run_async()"
   ]
  },
  {
   "cell_type": "code",
   "execution_count": 14,
   "metadata": {},
   "outputs": [
    {
     "data": {
      "text/plain": [
       "{'res': array([9], dtype=int64)}"
      ]
     },
     "execution_count": 14,
     "metadata": {},
     "output_type": "execute_result"
    }
   ],
   "source": [
    "b.result"
   ]
  },
  {
   "cell_type": "markdown",
   "metadata": {},
   "source": [
    "We can see the edges of the graph are constructed automatically from the output flow, but one can add edges manually to ensure a time ordered execution of the nodes. For example, since there's no data flow between 'b' and 'sum_node' one can add an edge from 'b' to 'sum_node' to ensure that 'b' runs before 'sum_node'."
   ]
  },
  {
   "cell_type": "code",
   "execution_count": 15,
   "metadata": {},
   "outputs": [
    {
     "name": "stdout",
     "output_type": "stream",
     "text": [
      "\n",
      "RUNNING PyNode <square>...\n",
      "\u001b[32mDONE running node <square>\u001b[0m\n",
      "\n",
      "SIMULATING QuaNode <save_x>...\n",
      "2020-11-02 12:57:45,817 - qm - INFO - Flags: \n",
      "2020-11-02 12:57:45,818 - qm - INFO - Executing high level program\n",
      "\u001b[32mDONE running node <save_x>\u001b[0m\n",
      "\n",
      "RUNNING PyNode <sum_two>...\n",
      "\u001b[32mDONE running node <sum_two>\u001b[0m\n"
     ]
    }
   ],
   "source": [
    "g.add_edges((b,sum_node))\n",
    "await g.run_async()"
   ]
  },
  {
   "cell_type": "markdown",
   "metadata": {},
   "source": [
    "Now, to vizualize the graph we can use the graph DOT format, and put the string into http://www.webgraphviz.com/ "
   ]
  },
  {
   "cell_type": "code",
   "execution_count": 16,
   "metadata": {
    "scrolled": false
   },
   "outputs": [
    {
     "name": "stdout",
     "output_type": "stream",
     "text": [
      "digraph new_graph {{square [shape=box];sum_two [shape=box];save_x [shape=ellipse];};\"square\" -> \"sum_two\" [label=\"['y']\"];\"square\" -> \"save_x\" [label=\"['y']\"];\"sum_two\";\"save_x\" -> \"sum_two\" [label=\"!none\"];}\n"
     ]
    }
   ],
   "source": [
    "print(g.export_dot_graph())"
   ]
  },
  {
   "cell_type": "markdown",
   "metadata": {},
   "source": [
    "One can also pass a **QuaJobNode** from the QuaNode to another node by using **node.qua_job()** and interact with it's QuaJob and QuantumMachine objects directly."
   ]
  },
  {
   "cell_type": "code",
   "execution_count": 17,
   "metadata": {
    "scrolled": true
   },
   "outputs": [
    {
     "name": "stdout",
     "output_type": "stream",
     "text": [
      "\n",
      "RUNNING PyNode <square>...\n",
      "\u001b[32mDONE running node <square>\u001b[0m\n",
      "\n",
      "SIMULATING QuaNode <save_x>...\n",
      "2020-11-02 12:57:46,757 - qm - INFO - Flags: \n",
      "2020-11-02 12:57:46,758 - qm - INFO - Executing high level program\n",
      "\u001b[32mDONE running node <save_x>\u001b[0m\n",
      "\n",
      "RUNNING PyNode <sum_two>...\n",
      "\u001b[32mDONE running node <sum_two>\u001b[0m\n",
      "\n",
      "RUNNING PyNode <job_data>...\n",
      "2020-11-02 12:57:46,824 - qm.job - ERROR - Currently not implemented. Will be implemented in future releases.\n",
      "\u001b[32mDONE running node <job_data>\u001b[0m\n",
      "{'b_res': array([9], dtype=int64)}\n"
     ]
    }
   ],
   "source": [
    "c = PyNode('job_data')\n",
    "def proccess_job(j):\n",
    "    # wait for all results\n",
    "    j.wait()\n",
    "    # stop job\n",
    "    j.stop()\n",
    "    # set/get IO1/2 vars\n",
    "    j.IO1 = 3\n",
    "    return {\"b_res\" : j.get_values('res')}\n",
    "\n",
    "c.input_vars.j = b.qua_job()\n",
    "c.program = proccess_job\n",
    "c.output_vars = {\"b_res\"}\n",
    "g.add_nodes(c)\n",
    "await g.run_async()\n",
    "print(c.result)"
   ]
  },
  {
   "cell_type": "markdown",
   "metadata": {},
   "source": [
    "#### Deepcopy\n",
    "One can deep copy the nodes and the graph entirely in a working condition by simply using the deepcopy method."
   ]
  },
  {
   "cell_type": "code",
   "execution_count": 18,
   "metadata": {},
   "outputs": [
    {
     "name": "stdout",
     "output_type": "stream",
     "text": [
      "{'_id': 2415437485056, '_label': 'square', '_program': <function <lambda> at 0x0000023260AF55E0>, '_input_vars': {'x': 3}, '_output_vars': {'y'}, '_to_run': True, '_metadata_funcs': [], '_result': {'y': 9}, '_start_time': datetime.datetime(2020, 11, 2, 12, 57, 46, 750023), '_end_time': datetime.datetime(2020, 11, 2, 12, 57, 46, 751020), '_type': 'Py', '_save_result_to_db': True, '_job_results': {'y': 9}}\n",
      "{'_id': 2415435056224, '_label': 'square', '_program': <function <lambda> at 0x0000023260AF55E0>, '_input_vars': {'x': 3}, '_output_vars': {'y'}, '_to_run': True, '_metadata_funcs': [], '_result': {'y': 9}, '_start_time': datetime.datetime(2020, 11, 2, 12, 57, 46, 750023), '_end_time': datetime.datetime(2020, 11, 2, 12, 57, 46, 751020), '_type': 'Py', '_save_result_to_db': True, '_job_results': {'y': 9}}\n"
     ]
    }
   ],
   "source": [
    "new_a = a.deepcopy()\n",
    "print(new_a)\n",
    "print(a)\n",
    "#The only difference here is the id"
   ]
  },
  {
   "cell_type": "code",
   "execution_count": 19,
   "metadata": {},
   "outputs": [
    {
     "name": "stdout",
     "output_type": "stream",
     "text": [
      "\n",
      "RUNNING PyNode <square>...\n",
      "\u001b[32mDONE running node <square>\u001b[0m\n"
     ]
    },
    {
     "data": {
      "text/plain": [
       "{'y': 64}"
      ]
     },
     "execution_count": 19,
     "metadata": {},
     "output_type": "execute_result"
    }
   ],
   "source": [
    "new_a.input_vars.x = 8\n",
    "await new_a.run_async()\n",
    "new_a.result"
   ]
  },
  {
   "cell_type": "code",
   "execution_count": 20,
   "metadata": {
    "scrolled": true
   },
   "outputs": [
    {
     "name": "stdout",
     "output_type": "stream",
     "text": [
      "\u001b[33mATTENTION the QuaJob of node <save_x> was NOT copied\u001b[0m\n",
      "\n",
      "RUNNING PyNode <square>...\n",
      "\u001b[32mDONE running node <square>\u001b[0m\n",
      "\n",
      "SIMULATING QuaNode <save_x>...\n",
      "2020-11-02 12:57:47,682 - qm - INFO - Flags: \n",
      "2020-11-02 12:57:47,683 - qm - INFO - Executing high level program\n",
      "\u001b[32mDONE running node <save_x>\u001b[0m\n",
      "\n",
      "RUNNING PyNode <sum_two>...\n",
      "\u001b[32mDONE running node <sum_two>\u001b[0m\n",
      "\n",
      "RUNNING PyNode <job_data>...\n",
      "2020-11-02 12:57:47,760 - qm.job - ERROR - Currently not implemented. Will be implemented in future releases.\n",
      "\u001b[32mDONE running node <job_data>\u001b[0m\n"
     ]
    },
    {
     "data": {
      "text/plain": [
       "{'y': 9}"
      ]
     },
     "execution_count": 20,
     "metadata": {},
     "output_type": "execute_result"
    }
   ],
   "source": [
    "new_g = g.deepcopy()\n",
    "await new_g.run_async()\n",
    "# access the nodes by label\n",
    "new_g.nodes_by_label['square'].pop().result"
   ]
  },
  {
   "cell_type": "markdown",
   "metadata": {},
   "source": [
    "As we can see, for the QuaNode the job of the execution of the quanutm machine was not copied.\n",
    "However, the QuantumMachine was copied which means the new QuaNode will run on the same QuantumMachine."
   ]
  },
  {
   "cell_type": "markdown",
   "metadata": {},
   "source": [
    "## The Database"
   ]
  },
  {
   "cell_type": "markdown",
   "metadata": {},
   "source": [
    "Every execution of the graph can be saved in a SQLite database. First, one needs to create a database object by simply specifying the desired location."
   ]
  },
  {
   "cell_type": "code",
   "execution_count": 21,
   "metadata": {},
   "outputs": [],
   "source": [
    "g_db = GraphDB(\"new.db\")"
   ]
  },
  {
   "cell_type": "markdown",
   "metadata": {},
   "source": [
    "Then one can assign the DB object to the graph object, or one can do it per run of the graph."
   ]
  },
  {
   "cell_type": "code",
   "execution_count": 22,
   "metadata": {},
   "outputs": [
    {
     "name": "stdout",
     "output_type": "stream",
     "text": [
      "\u001b[32mSaving graph <new_graph> to DB at 'new.db'\u001b[0m\n",
      "\u001b[32mSaving metadata before running node <square>\u001b[0m\n",
      "\n",
      "RUNNING PyNode <square>...\n",
      "\u001b[32mDONE running node <square>\u001b[0m\n",
      "\u001b[32mSaving metadata before running node <save_x>\u001b[0m\n",
      "\n",
      "SIMULATING QuaNode <save_x>...\n",
      "2020-11-02 12:57:49,060 - qm - INFO - Flags: \n",
      "2020-11-02 12:57:49,061 - qm - INFO - Executing high level program\n",
      "\u001b[32mDONE running node <save_x>\u001b[0m\n",
      "\u001b[32mSaving metadata before running node <sum_two>\u001b[0m\n",
      "\n",
      "RUNNING PyNode <sum_two>...\n",
      "\u001b[32mDONE running node <sum_two>\u001b[0m\n",
      "\u001b[32mSaving metadata before running node <job_data>\u001b[0m\n",
      "\n",
      "RUNNING PyNode <job_data>...\n",
      "2020-11-02 12:57:49,142 - qm.job - ERROR - Currently not implemented. Will be implemented in future releases.\n",
      "\u001b[32mDONE running node <job_data>\u001b[0m\n",
      "\u001b[32mSaving graph <new_graph> results to DB at 'new.db'\u001b[0m\n"
     ]
    }
   ],
   "source": [
    "g.graph_db = g_db;\n",
    "await g.run_async(verbose=True);"
   ]
  },
  {
   "cell_type": "markdown",
   "metadata": {},
   "source": [
    "Notice the location of the DB"
   ]
  },
  {
   "cell_type": "code",
   "execution_count": 23,
   "metadata": {},
   "outputs": [
    {
     "name": "stdout",
     "output_type": "stream",
     "text": [
      "\u001b[32mSaving graph <new_graph> to DB at 'here.db'\u001b[0m\n",
      "\u001b[32mSaving metadata before running node <square>\u001b[0m\n",
      "\n",
      "RUNNING PyNode <square>...\n",
      "\u001b[32mDONE running node <square>\u001b[0m\n",
      "\u001b[32mSaving metadata before running node <save_x>\u001b[0m\n",
      "\n",
      "SIMULATING QuaNode <save_x>...\n",
      "2020-11-02 12:57:49,518 - qm - INFO - Flags: \n",
      "2020-11-02 12:57:49,518 - qm - INFO - Executing high level program\n",
      "\u001b[32mDONE running node <save_x>\u001b[0m\n",
      "\u001b[32mSaving metadata before running node <sum_two>\u001b[0m\n",
      "\n",
      "RUNNING PyNode <sum_two>...\n",
      "\u001b[32mDONE running node <sum_two>\u001b[0m\n",
      "\u001b[32mSaving metadata before running node <job_data>\u001b[0m\n",
      "\n",
      "RUNNING PyNode <job_data>...\n",
      "2020-11-02 12:57:49,591 - qm.job - ERROR - Currently not implemented. Will be implemented in future releases.\n",
      "\u001b[32mDONE running node <job_data>\u001b[0m\n",
      "\u001b[32mSaving graph <new_graph> results to DB at 'here.db'\u001b[0m\n"
     ]
    }
   ],
   "source": [
    "await g.run_async(GraphDB('here.db'),verbose=True);"
   ]
  },
  {
   "cell_type": "markdown",
   "metadata": {},
   "source": [
    "The GraphDB object saves the strucure of the graph, the results of the execution, the scripts of each node, and when possible the script of the graph run. One can decide whether to save a node's result to the DB but toggling **node.save_result_to_db = True/False**"
   ]
  },
  {
   "cell_type": "markdown",
   "metadata": {},
   "source": [
    "Finally, one can save related metadata about the physical enviroment that is controlled by python, i.e, a temprature sensor, spectrum analyzer, etc.\n",
    "To do that one needs to define functions for these sources of data in the following manner:"
   ]
  },
  {
   "cell_type": "code",
   "execution_count": 25,
   "metadata": {},
   "outputs": [
    {
     "name": "stdout",
     "output_type": "stream",
     "text": [
      "\u001b[32mSaving graph <new_graph> to DB at 'with_metadata.db'\u001b[0m\n",
      "\u001b[32mSaving metadata before running node <square>\u001b[0m\n",
      "\n",
      "RUNNING PyNode <square>...\n",
      "\u001b[32mDONE running node <square>\u001b[0m\n",
      "\u001b[32mSaving metadata before running node <save_x>\u001b[0m\n",
      "\n",
      "SIMULATING QuaNode <save_x>...\n",
      "2020-11-02 13:56:13,313 - qm - INFO - Flags: \n",
      "2020-11-02 13:56:13,313 - qm - INFO - Executing high level program\n",
      "\u001b[32mDONE running node <save_x>\u001b[0m\n",
      "\u001b[32mSaving metadata before running node <sum_two>\u001b[0m\n",
      "\n",
      "RUNNING PyNode <sum_two>...\n",
      "\u001b[32mDONE running node <sum_two>\u001b[0m\n",
      "\u001b[32mSaving metadata before running node <job_data>\u001b[0m\n",
      "Called local metadata\n",
      "opened pressure device\n",
      "\n",
      "RUNNING PyNode <job_data>...\n",
      "2020-11-02 13:56:13,548 - qm.job - ERROR - Currently not implemented. Will be implemented in future releases.\n",
      "\u001b[32mDONE running node <job_data>\u001b[0m\n",
      "\u001b[32mSaving graph <new_graph> results to DB at 'with_metadata.db'\u001b[0m\n"
     ]
    }
   ],
   "source": [
    "envmodule = {}\n",
    "\n",
    "# Global enviroment varibles applied to the whole graph\n",
    "@env_dependency(envmodule)\n",
    "def volume():\n",
    "    print(\"opened volume device\")\n",
    "    return 5\n",
    "@env_dependency(envmodule)\n",
    "def pressure():\n",
    "    print(\"opened pressure device\")\n",
    "    return 10\n",
    "\n",
    "def global_metadata(volume,pressure):\n",
    "    print(\"Called global metedata\")\n",
    "    v1 = volume()\n",
    "    v2 = pressure()\n",
    "    return {\"temp\": v1*v2}\n",
    "\n",
    "# Local enviroment variables per node\n",
    "def local_meta(pressure):\n",
    "    print(\"Called local metadata\")\n",
    "    return {'p': pressure()}\n",
    "\n",
    "new_g_db =  GraphDB(\"with_metadata.db\",global_metadata_funcs=global_metadata,envmodule=envmodule)\n",
    "c.metadata_funcs = local_meta\n",
    "await g.run_async(new_g_db,verbose=True);"
   ]
  },
  {
   "cell_type": "code",
   "execution_count": null,
   "metadata": {},
   "outputs": [],
   "source": []
  }
 ],
 "metadata": {
  "kernelspec": {
   "display_name": "Python 3",
   "language": "python",
   "name": "python3"
  },
  "language_info": {
   "codemirror_mode": {
    "name": "ipython",
    "version": 3
   },
   "file_extension": ".py",
   "mimetype": "text/x-python",
   "name": "python",
   "nbconvert_exporter": "python",
   "pygments_lexer": "ipython3",
   "version": "3.8.3"
  }
 },
 "nbformat": 4,
 "nbformat_minor": 4
}
