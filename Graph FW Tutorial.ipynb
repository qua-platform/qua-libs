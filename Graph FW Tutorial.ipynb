{
 "cells": [
  {
   "cell_type": "markdown",
   "metadata": {},
   "source": [
    "# The Graph and Database Framework"
   ]
  },
  {
   "cell_type": "markdown",
   "metadata": {},
   "source": [
    "## Basic Usage"
   ]
  },
  {
   "cell_type": "markdown",
   "metadata": {},
   "source": [
    "The basic building block of the framework is\n",
    "the **ProgramNode** which is an abstract class that describes a generic node in the graph.\n",
    "Two basic types of nodes are **PyNode** and **QuaNode**, those contain Python and Qua programs, respectively.\n",
    "To start a new node we need to give it a label, a program to be executed, define input/output variables. For example: "
   ]
  },
  {
   "cell_type": "code",
   "execution_count": 18,
   "metadata": {},
   "outputs": [],
   "source": [
    "#First some imports\n",
    "from qualibs.graph import *\n",
    "from qm.QuantumMachinesManager import QuantumMachinesManager\n",
    "from qm.qua import *\n",
    "from qm import LoopbackInterface\n",
    "from qm import SimulationConfig"
   ]
  },
  {
   "cell_type": "markdown",
   "metadata": {},
   "source": [
    "Let's say we want our node to take a number and output it's square"
   ]
  },
  {
   "cell_type": "code",
   "execution_count": 19,
   "metadata": {},
   "outputs": [
    {
     "name": "stdout",
     "output_type": "stream",
     "text": [
      "\n",
      "RUNNING PyNode <square>...\n",
      "\u001b[32mDONE running node <square>\u001b[0m\n"
     ]
    }
   ],
   "source": [
    "a = PyNode('square')\n",
    "a.program = lambda x: {'y':x**2}\n",
    "a.input_vars = {'x': 3}\n",
    "a.output_vars = {'y'}\n",
    "await a.run_async()"
   ]
  },
  {
   "cell_type": "markdown",
   "metadata": {},
   "source": [
    "Here we used the **await** keyword, which is native in python 3.8 and is used to run code asynchronously, that's how the graph framwork works under the hood. Since this tutorial is written in a Jupyter Notebook one must use the asynchronous version explicitly. The simpler version on PyCharm, for example, would be **a.run()**.\n",
    "Now, let's explain what we did: \n",
    "1. We defined the name/label of the node by a string 'square'.\n",
    "2. The program must define a dictionary as the output, giving names to all the output variables.\n",
    "3. The input_vars are defined in a keyword arguments format to be given to the program.\n",
    "4. The output_vars are a set which contains the variables we would like to store in the result\n"
   ]
  },
  {
   "cell_type": "code",
   "execution_count": 20,
   "metadata": {},
   "outputs": [
    {
     "data": {
      "text/plain": [
       "{'y': 9}"
      ]
     },
     "execution_count": 20,
     "metadata": {},
     "output_type": "execute_result"
    }
   ],
   "source": [
    "a.result"
   ]
  },
  {
   "cell_type": "markdown",
   "metadata": {},
   "source": [
    "Another possibility of defining a node in one line:"
   ]
  },
  {
   "cell_type": "code",
   "execution_count": 21,
   "metadata": {},
   "outputs": [
    {
     "name": "stdout",
     "output_type": "stream",
     "text": [
      "\n",
      "RUNNING PyNode <sum_two>...\n",
      "\u001b[32mDONE running node <sum_two>\u001b[0m\n"
     ]
    },
    {
     "data": {
      "text/plain": [
       "{'sum': -1, 'x': 2}"
      ]
     },
     "execution_count": 21,
     "metadata": {},
     "output_type": "execute_result"
    }
   ],
   "source": [
    "def add(x, y):\n",
    "    return {\"x\":x ,\"y\": y, \"sum\": x+y}\n",
    "\n",
    "sum_node = PyNode(\"sum_two\",add,{'x':2,'y':-3},{'sum','x'})\n",
    "\n",
    "await sum_node.run_async()\n",
    "sum_node.result"
   ]
  },
  {
   "cell_type": "markdown",
   "metadata": {},
   "source": [
    "A nice property of the input_vars attribute is that it can be set using direct assignment by the name of the variable, for example:"
   ]
  },
  {
   "cell_type": "code",
   "execution_count": 22,
   "metadata": {},
   "outputs": [
    {
     "name": "stdout",
     "output_type": "stream",
     "text": [
      "\n",
      "RUNNING PyNode <sum_two>...\n",
      "\u001b[32mDONE running node <sum_two>\u001b[0m\n"
     ]
    },
    {
     "data": {
      "text/plain": [
       "{'sum': 11, 'x': 5}"
      ]
     },
     "execution_count": 22,
     "metadata": {},
     "output_type": "execute_result"
    }
   ],
   "source": [
    "sum_node.input_vars.x = 5\n",
    "sum_node.input_vars.y = 6\n",
    "await sum_node.run_async()\n",
    "sum_node.result"
   ]
  },
  {
   "cell_type": "markdown",
   "metadata": {},
   "source": [
    "Notice: that the **input vars** must match the variables in the **signature** of the program, and the **output vars** the **output dictionary** names."
   ]
  },
  {
   "cell_type": "markdown",
   "metadata": {},
   "source": [
    "Now let's create a QuaNode! A QuaNode shares the same attributes as the PyNode but has some additional properties:\n",
    "1. quantum_machine : defines the QuantumMachine to be used to run the Qua program\n",
    "2. simulation/execution arguments\n",
    "3. Whether to simulate_or_execute toggle\n",
    "4. The program of the QuaNode has somewhat different structure"
   ]
  },
  {
   "cell_type": "code",
   "execution_count": 23,
   "metadata": {},
   "outputs": [
    {
     "name": "stdout",
     "output_type": "stream",
     "text": [
      "2020-11-02 10:26:27,390 - qm - INFO - Performing health check\n",
      "2020-11-02 10:26:27,395 - qm - INFO - Health check passed\n",
      "2020-11-02 10:26:27,397 - qm - WARNING - Client's version (0.5.124) does not match the server version (0.5.145).\n"
     ]
    }
   ],
   "source": [
    "#import a template config\n",
    "from qualibs.templates.vanilla_config import config\n",
    "\n",
    "# open a QM\n",
    "QMm = QuantumMachinesManager()\n",
    "QM = QMm.open_qm(config)\n",
    "sim_args = {'simulate': SimulationConfig(int(1e3))}"
   ]
  },
  {
   "cell_type": "markdown",
   "metadata": {},
   "source": [
    "Now, to define a program for the QuaNode, one must wrap a Qua program in a python function, and the python must return the desired qua program that needs to be executed:"
   ]
  },
  {
   "cell_type": "code",
   "execution_count": 24,
   "metadata": {},
   "outputs": [
    {
     "name": "stdout",
     "output_type": "stream",
     "text": [
      "\n",
      "SIMULATING QuaNode <save_x>...\n",
      "2020-11-02 10:26:27,920 - qm - INFO - Flags: \n",
      "2020-11-02 10:26:27,921 - qm - INFO - Executing high level program\n",
      "\u001b[32mDONE running node <save_x>\u001b[0m\n"
     ]
    },
    {
     "data": {
      "text/plain": [
       "{'res': array([5], dtype=int64)}"
      ]
     },
     "execution_count": 24,
     "metadata": {},
     "output_type": "execute_result"
    }
   ],
   "source": [
    "def qua_prog(x):\n",
    "    \n",
    "    with program() as prog:\n",
    "        res = declare(int)\n",
    "        res_str = declare_stream()\n",
    "        play('playOp', 'qe1')\n",
    "        assign(res, x)\n",
    "        save(res, res_str)\n",
    "        with stream_processing():\n",
    "            res_str.save_all('res')\n",
    "    \n",
    "    return prog\n",
    "\n",
    "b = QuaNode('save_x',qua_prog,{'x':5},{'res'})\n",
    "\n",
    "b.simulation_kwargs = sim_args\n",
    "b.quantum_machine = QM\n",
    "\n",
    "await b.run_async()\n",
    "b.result"
   ]
  },
  {
   "cell_type": "markdown",
   "metadata": {},
   "source": [
    "Here, the **input_vars** as before must match the **input of the given program**,\n",
    "and the **output_vars** must match the  saved **stream_processing variables** by the Qua program."
   ]
  },
  {
   "cell_type": "markdown",
   "metadata": {},
   "source": [
    "## The Graph"
   ]
  },
  {
   "cell_type": "markdown",
   "metadata": {},
   "source": [
    "Another basic enetity in the framework is the **ProgramGraph**. This is what links together the nodes decribed above, and what controls the execution and dataflow between the nodes. Let's define a new graph:\n"
   ]
  },
  {
   "cell_type": "code",
   "execution_count": 25,
   "metadata": {},
   "outputs": [],
   "source": [
    "g = ProgramGraph('new_graph')"
   ]
  },
  {
   "cell_type": "markdown",
   "metadata": {},
   "source": [
    "Now suppose we want our graph to have nodes 'a','sum_node' connected such that the output variable y of 'a' will be used as input vaiable x of 'sum_node'."
   ]
  },
  {
   "cell_type": "code",
   "execution_count": 26,
   "metadata": {},
   "outputs": [],
   "source": [
    "sum_node.input_vars.y = a.output('y')"
   ]
  },
  {
   "cell_type": "markdown",
   "metadata": {},
   "source": [
    "Now simply add the nodes to the graph:"
   ]
  },
  {
   "cell_type": "code",
   "execution_count": 27,
   "metadata": {},
   "outputs": [],
   "source": [
    "g.add_nodes(a,sum_node)"
   ]
  },
  {
   "cell_type": "markdown",
   "metadata": {},
   "source": [
    "Now to run the graph the same story about async applies here. The graph will be run in an order defined by the dependencies, where independent nodes could run asynchronously."
   ]
  },
  {
   "cell_type": "code",
   "execution_count": 28,
   "metadata": {},
   "outputs": [
    {
     "name": "stdout",
     "output_type": "stream",
     "text": [
      "\n",
      "RUNNING PyNode <square>...\n",
      "\u001b[32mDONE running node <square>\u001b[0m\n",
      "\n",
      "RUNNING PyNode <sum_two>...\n",
      "\u001b[32mDONE running node <sum_two>\u001b[0m\n"
     ]
    }
   ],
   "source": [
    "await g.run_async()"
   ]
  },
  {
   "cell_type": "markdown",
   "metadata": {},
   "source": [
    "The result is stored in each of the nodes."
   ]
  },
  {
   "cell_type": "code",
   "execution_count": 29,
   "metadata": {},
   "outputs": [
    {
     "data": {
      "text/plain": [
       "{'sum': 14, 'x': 5}"
      ]
     },
     "execution_count": 29,
     "metadata": {},
     "output_type": "execute_result"
    }
   ],
   "source": [
    "sum_node.result"
   ]
  },
  {
   "cell_type": "markdown",
   "metadata": {},
   "source": [
    "Let's add node 'b' to the graph, and use the output of 'a' as the input to node 'b'"
   ]
  },
  {
   "cell_type": "code",
   "execution_count": 30,
   "metadata": {},
   "outputs": [
    {
     "name": "stdout",
     "output_type": "stream",
     "text": [
      "\n",
      "RUNNING PyNode <square>...\n",
      "\u001b[32mDONE running node <square>\u001b[0m\n",
      "\n",
      "RUNNING PyNode <sum_two>...\n",
      "\u001b[32mDONE running node <sum_two>\u001b[0m\n",
      "\n",
      "SIMULATING QuaNode <save_x>...\n",
      "2020-11-02 10:26:34,764 - qm - INFO - Flags: \n",
      "2020-11-02 10:26:34,765 - qm - INFO - Executing high level program\n",
      "\u001b[32mDONE running node <save_x>\u001b[0m\n"
     ]
    }
   ],
   "source": [
    "b.input_vars.x = a.output(\"y\")\n",
    "\n",
    "g.add_nodes(b)\n",
    "\n",
    "await g.run_async()"
   ]
  },
  {
   "cell_type": "code",
   "execution_count": 31,
   "metadata": {},
   "outputs": [
    {
     "data": {
      "text/plain": [
       "{'res': array([9], dtype=int64)}"
      ]
     },
     "execution_count": 31,
     "metadata": {},
     "output_type": "execute_result"
    }
   ],
   "source": [
    "b.result"
   ]
  },
  {
   "cell_type": "markdown",
   "metadata": {},
   "source": [
    "We can see the edges of the graph are constructed automatically from the output flow, but one can add edges manually to ensure a time ordered execution of the nodes. For example, since there's no data flow between 'b' and 'sum_node' one can add an edge from 'b' to 'sum_node' to ensure that 'b' runs before 'sum_node'."
   ]
  },
  {
   "cell_type": "code",
   "execution_count": 32,
   "metadata": {},
   "outputs": [
    {
     "name": "stdout",
     "output_type": "stream",
     "text": [
      "\n",
      "RUNNING PyNode <square>...\n",
      "\u001b[32mDONE running node <square>\u001b[0m\n",
      "\n",
      "SIMULATING QuaNode <save_x>...\n",
      "2020-11-02 10:26:39,704 - qm - INFO - Flags: \n",
      "2020-11-02 10:26:39,706 - qm - INFO - Executing high level program\n",
      "\u001b[32mDONE running node <save_x>\u001b[0m\n",
      "\n",
      "RUNNING PyNode <sum_two>...\n",
      "\u001b[32mDONE running node <sum_two>\u001b[0m\n"
     ]
    }
   ],
   "source": [
    "g.add_edges((b,sum_node))\n",
    "await g.run_async()"
   ]
  },
  {
   "cell_type": "markdown",
   "metadata": {},
   "source": [
    "Now, to vizualize the graph we can use the graph DOT format, and put the string into http://www.webgraphviz.com/ "
   ]
  },
  {
   "cell_type": "code",
   "execution_count": 33,
   "metadata": {
    "scrolled": true
   },
   "outputs": [
    {
     "name": "stdout",
     "output_type": "stream",
     "text": [
      "digraph new_graph {{square [shape=box];sum_two [shape=box];save_x [shape=ellipse];};\"square\" -> \"sum_two\" [label=\"['y']\"];\"square\" -> \"save_x\" [label=\"['y']\"];\"sum_two\";\"save_x\" -> \"sum_two\" [label=\"!none\"];}\n"
     ]
    }
   ],
   "source": [
    "print(g.export_dot_graph())"
   ]
  },
  {
   "cell_type": "code",
   "execution_count": null,
   "metadata": {},
   "outputs": [],
   "source": []
  },
  {
   "cell_type": "code",
   "execution_count": null,
   "metadata": {},
   "outputs": [],
   "source": []
  }
 ],
 "metadata": {
  "kernelspec": {
   "display_name": "Python 3",
   "language": "python",
   "name": "python3"
  },
  "language_info": {
   "codemirror_mode": {
    "name": "ipython",
    "version": 3
   },
   "file_extension": ".py",
   "mimetype": "text/x-python",
   "name": "python",
   "nbconvert_exporter": "python",
   "pygments_lexer": "ipython3",
   "version": "3.8.3"
  }
 },
 "nbformat": 4,
 "nbformat_minor": 4
}
