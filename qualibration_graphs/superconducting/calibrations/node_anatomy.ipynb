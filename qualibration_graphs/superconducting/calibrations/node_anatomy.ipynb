{
 "cells": [
  {
   "cell_type": "markdown",
   "id": "6ec68121",
   "metadata": {
    "lines_to_next_cell": 0
   },
   "source": [
    "# Anatomy of a QualibrationNode\n",
    "\n",
    "This guide dissects a typical QUAlibrate calibration node, using the `02a_resonator_spectroscopy.py` script as a concrete example. We will go through the script section by section, presenting the code first, followed by a detailed explanation of its purpose and functionality within the node's workflow.\n",
    "\n",
    "All calibration node scripts follow a standardized structure, segmented into distinct sections using `# %% {Section Name}` separators. This consistent structure makes nodes easier to understand, maintain, and integrate. This segmentation also allows developers to run individual cells interactively within a Python kernel (e.g., in VS Code), which is highly beneficial for development and debugging.\n",
    "\n",
    "The common sections found in most calibration nodes are:\n",
    "* `Imports`: Handles all necessary library and module imports.\n",
    "* `Initialisation`: Defines the node, description, parameters, and loads the QUAM state.\n",
    "* `Create_QUA_program`: Defines the core QUA pulse sequence for the experiment.\n",
    "* `Simulate` (Optional): Simulates the QUA program's waveforms and timing.\n",
    "* `Execute`: Runs the QUA program on the quantum hardware and fetches results.\n",
    "* `Load_data` (Optional): Loads data from a previous run instead of executing.\n",
    "* `Analyse_data`: Processes the raw data and performs fitting or analysis.\n",
    "* `Plot_data`: Generates plots visualizing the data and analysis results.\n",
    "* `Update_state`: Proposes modifications to the QUAM state based on results.\n",
    "* `Save_results`: Persists all parameters, results, figures, and proposed state updates.\n",
    "\n",
    "Each of these common sections typically corresponds to a Python function decorated with `@node.run_action`. This decorator effectively encapsulates the logic for that specific step (like creating the QUA program or analysing data) and registers it as an action associated with the node instance, much like a method belongs to a class object. This approach promotes modularity and allows the QUAlibrate framework to manage the execution flow, including conditional skipping of steps."
   ]
  },
  {
   "cell_type": "markdown",
   "id": "9db85746",
   "metadata": {},
   "source": [
    "## Imports Section"
   ]
  },
  {
   "cell_type": "code",
   "execution_count": null,
   "id": "5d7ecfb4",
   "metadata": {
    "incorrectly_encoded_metadata": "{Imports}",
    "lines_to_next_cell": 2
   },
   "outputs": [],
   "source": [
    "# %% {Imports}\n",
    "import matplotlib.pyplot as plt\n",
    "import numpy as np\n",
    "import xarray as xr\n",
    "from dataclasses import asdict\n",
    "\n",
    "from qm.qua import *\n",
    "\n",
    "from qualang_tools.loops import from_array\n",
    "from qualang_tools.multi_user import qm_session\n",
    "from qualang_tools.results import progress_counter\n",
    "from qualang_tools.units import unit\n",
    "\n",
    "from qualibrate import QualibrationNode\n",
    "from quam_config import Quam\n",
    "from calibration_utils.resonator_spectroscopy import (\n",
    "    Parameters,\n",
    "    process_raw_dataset,\n",
    "    fit_raw_data,\n",
    "    log_fitted_results,\n",
    "    plot_raw_amplitude_with_fit,\n",
    "    plot_raw_phase,\n",
    ")\n",
    "from qualibration_libs.parameters import get_qubits\n",
    "from qualibration_libs.runtime import simulate_and_plot\n",
    "from qualibration_libs.data import XarrayDataFetcher"
   ]
  },
  {
   "cell_type": "markdown",
   "id": "a7347ab3",
   "metadata": {},
   "source": [
    "### Explanation: Imports Section\n",
    "\n",
    "This initial section handles importing all necessary libraries and modules.\n",
    "- **Standard Libraries:** `matplotlib.pyplot` for plotting, `numpy` for numerical operations, `xarray` for handling multi-dimensional labeled data (often used for results), and `asdict` from `dataclasses` for converting data objects to dictionaries.\n",
    "- **QM Libraries:** Imports everything from `qm.qua` (like `program`, `declare`, `measure`, `play`, QUA control flow statements like `for_`, `save`, `stream_processing`, etc.).\n",
    "- **Qualang Tools:** Imports specific utilities like `from_array` (for easily iterating over numpy arrays in QUA), `qm_session` (a context manager for handling Quantum Machine execution, preventing conflicts), `progress_counter` (for displaying progress during data acquisition), and `unit` (for handling physical units and conversions).\n",
    "- **QUAlibrate/QUAM Core:** Imports `QualibrationNode` (the core class for creating calibration nodes) and `logger` from `qualibrate`, and the `Quam` class itself from the `quam_config` package.\n",
    "- **Experiment-Specific Imports:** Imports the `Parameters` class specific to this resonator spectroscopy experiment, along with functions for processing (`process_raw_dataset`), fitting (`fit_raw_data`), logging (`log_fitted_results`), and plotting (`plot_raw_amplitude_with_fit`, `plot_raw_phase`) from the corresponding `qualibration_utils.resonator_spectroscopy` package.\n",
    "- **Workflow/Helper Imports:** The package `qualibration_libs` contains a series of tools that are generally useful for calibration nodes, as opposed to being useful for a specific node. This includes `get_qubits` (a helper to determine which qubits to target based on parameters), `simulate_and_plot` (a workflow utility for running simulations), and `XarrayDataFetcher` (a tool for fetching results from QUA jobs directly into xarray Datasets)."
   ]
  },
  {
   "cell_type": "markdown",
   "id": "cf7a8ea4",
   "metadata": {},
   "source": [
    "## Initialisation Section"
   ]
  },
  {
   "cell_type": "code",
   "execution_count": null,
   "id": "f7e3f2d6",
   "metadata": {
    "incorrectly_encoded_metadata": "{Initialisation}"
   },
   "outputs": [],
   "source": [
    "# %% {Node initialisation}\n",
    "description = \"\"\"\n",
    "        1D RESONATOR SPECTROSCOPY\n",
    "This sequence involves measuring the resonator by sending a readout pulse and demodulating the signals to extract the\n",
    "'I' and 'Q' quadratures across varying readout intermediate frequencies for all the active qubits.\n",
    "The data is then post-processed to determine the resonator resonance frequency.\n",
    "This frequency is used to update the readout frequency in the state.\n",
    "\n",
    "Prerequisites:\n",
    "    - Having calibrated the IQ mixer/Octave connected to the readout line (node 01a_mixer_calibration.py).\n",
    "    - Having calibrated the time of flight, offsets, and gains (node 01a_time_of_flight.py).\n",
    "    - Having initialized the QUAM state parameters for the readout pulse amplitude and duration, and the resonators depletion time.\n",
    "    - Having specified the desired flux point if relevant (qubit.z.flux_point).\n",
    "\n",
    "State update:\n",
    "    - The readout frequency: qubit.resonator.f_01 & qubit.resonator.RF_frequency\n",
    "\"\"\"\n",
    "\n",
    "# Be sure to include [Parameters, Quam] so the node has proper type hinting\n",
    "node = QualibrationNode[Parameters, Quam](\n",
    "    name=\"02a_resonator_spectroscopy\",  # Name should be unique\n",
    "    description=description,  # Describe what the node is doing, which is also reflected in the QUAlibrate GUI\n",
    "    parameters=Parameters(),  # Node parameters defined under quam_experiment/experiments/node_name\n",
    ")\n",
    "\n",
    "\n",
    "# Any parameters that should change for debugging purposes only should go in here\n",
    "# These parameters are ignored when run through the GUI or as part of a graph\n",
    "@node.run_action(skip_if=node.modes.external)\n",
    "def custom_param(node: QualibrationNode[Parameters, Quam]):\n",
    "    \"\"\"Allow the user to locally set the node parameters for debugging purposes, or execution in the Python IDE.\"\"\"\n",
    "    # You can get type hinting in your IDE by typing node.parameters.\n",
    "    node.parameters.qubits = [\"q1\", \"q2\"]\n",
    "    pass\n",
    "\n",
    "\n",
    "# Instantiate the QUAM class from the state file\n",
    "node.machine = Quam.load()"
   ]
  },
  {
   "cell_type": "markdown",
   "id": "d02346e6",
   "metadata": {},
   "source": [
    "### Explanation: Initialisation Section\n",
    "\n",
    "This section sets up the core `QualibrationNode` object and loads the machine state (QUAM).\n",
    "- **Description String:** A multi-line string `description` is defined. This provides a human-readable explanation of the node's purpose, prerequisites, and the parameters it intends to update. This description is displayed in the QUAlibrate user interface.\n",
    "- **Node Instantiation:** An instance of `QualibrationNode` is created.\n",
    "    - `QualibrationNode[Parameters, Quam]`: Type hints are used to associate the node with the specific `Parameters` class (imported earlier) and the `Quam` class. This aids IDEs with type checking and autocompletion.\n",
    "    - `name=\"02a_resonator_spectroscopy\"`: Assigns a unique identifier to this node type. This name is crucial for QUAlibrate to track and manage the node.\n",
    "    - `description=description`: Passes the description string defined above.\n",
    "    - `parameters=Parameters()`: Passes an *instance* of the imported `Parameters` class. QUAlibrate uses this to manage the node's input parameters (reading defaults, accepting user input via the UI).\n",
    "- **Custom Parameter Run Action (`custom_param`):**\n",
    "    - `@node.run_action(skip_if=node.modes.external)`: Defines a function `custom_param` as a run action. The `skip_if=node.modes.external` argument ensures this function *only* runs when the script is executed directly (standalone mode, e.g., in an IDE) and is *skipped* when run via the QUAlibrate UI or as part of a graph.\n",
    "    - **Purpose:** This action allows developers to temporarily override parameters (like `node.parameters.qubits = [\"q1\", \"q2\"]`) for local debugging or testing without affecting the default parameters used in automated runs.\n",
    "- **QUAM Loading:**\n",
    "    - `node.machine = Quam.load()`: Loads the state of the quantum machine from the configuration file specified within the QUAM parameters (often defined in a base `Parameters` class). The loaded `Quam` object is stored in `node.machine`, making the entire machine configuration accessible to subsequent run actions."
   ]
  },
  {
   "cell_type": "markdown",
   "id": "3f26b72b",
   "metadata": {
    "lines_to_next_cell": 2
   },
   "source": [
    "## Create QUA Program Section"
   ]
  },
  {
   "cell_type": "code",
   "execution_count": null,
   "id": "855e6aaa",
   "metadata": {
    "incorrectly_encoded_metadata": "{Create_QUA_program}",
    "lines_to_next_cell": 2
   },
   "outputs": [],
   "source": [
    "@node.run_action(skip_if=node.parameters.load_data_id is not None)\n",
    "def create_qua_program(node: QualibrationNode[Parameters, Quam]):\n",
    "    \"\"\"Create the sweep axes and generate the QUA program from the pulse sequence and the node parameters.\"\"\"\n",
    "    # Initialize unit conversion tool\n",
    "    u = unit(coerce_to_integer=True)\n",
    "    # Determine target qubits and prepare for potential batching\n",
    "    node.namespace[\"qubits\"] = qubits = get_qubits(node)\n",
    "    num_qubits = len(qubits)\n",
    "    # Calculate the frequency sweep vector (detunings) based on parameters\n",
    "    n_avg = node.parameters.num_averages\n",
    "    span = node.parameters.frequency_span_in_mhz * u.MHz\n",
    "    step = node.parameters.frequency_step_in_mhz * u.MHz\n",
    "    dfs = np.arange(-span / 2, +span / 2, step)\n",
    "    # Store sweep axes metadata for data fetching/labeling\n",
    "    node.namespace[\"sweep_axes\"] = {\n",
    "        \"qubit\": xr.DataArray(qubits.get_names()),\n",
    "        \"detuning\": xr.DataArray(dfs, attrs={\"long_name\": \"readout frequency\", \"units\": \"Hz\"}),\n",
    "    }\n",
    "\n",
    "    # Define the QUA program\n",
    "    with program() as node.namespace[\"qua_program\"]:\n",
    "        # Declare QUA variables and streams using QUAM helpers for consistency\n",
    "        I, I_st, Q, Q_st, n, n_st = node.machine.qua_declaration()\n",
    "        df = declare(int)  # QUA variable for frequency detuning sweep\n",
    "\n",
    "        # Loop over batches of qubits that can be measured in parallel\n",
    "        for multiplexed_qubits in qubits.batch():\n",
    "            # Set initial QPU state (e.g., flux bias) for the batch\n",
    "            for qubit in multiplexed_qubits.values():\n",
    "                node.machine.initialize_qpu(target=qubit)\n",
    "            align()  # Ensure QPU initialization is complete before proceeding\n",
    "\n",
    "            # Averaging loop\n",
    "            with for_(n, 0, n < n_avg, n + 1):\n",
    "                save(n, n_st)  # Save averaging progress counter\n",
    "\n",
    "                # Frequency sweep loop (iterating through the 'dfs' numpy array)\n",
    "                with for_(*from_array(df, dfs)):\n",
    "                    # Loop through qubits within the current measurement batch\n",
    "                    for i, qubit in multiplexed_qubits.items():\n",
    "                        rr = qubit.resonator  # Get the resonator object from QUAM\n",
    "                        # Dynamically update the resonator's frequency for this sweep point\n",
    "                        rr.update_frequency(df + rr.intermediate_frequency)\n",
    "                        # Perform the measurement (pulse defined in QUAM)\n",
    "                        rr.measure(\"readout\", qua_vars=(I[i], Q[i]))\n",
    "                        # Wait for resonator cooldown (time defined in QUAM)\n",
    "                        rr.wait(rr.depletion_time * u.ns)\n",
    "                        # Save the raw I/Q data to streams\n",
    "                        save(I[i], I_st[i])\n",
    "                        save(Q[i], Q_st[i])\n",
    "                    align()  # Ensure all qubits in the batch complete before next frequency step\n",
    "\n",
    "        # --- Stream Processing ---\n",
    "        # Executed by the QOP in real time after the loops finish\n",
    "        with stream_processing():\n",
    "            n_st.save(\"n\")  # Save the final value of the averaging counter\n",
    "            # Average the raw I/Q data over all averages for each qubit and frequency point\n",
    "            for i in range(num_qubits):\n",
    "                I_st[i].buffer(len(dfs)).average().save(f\"I{i + 1}\")  # Save averaged I vector\n",
    "                Q_st[i].buffer(len(dfs)).average().save(f\"Q{i + 1}\")  # Save averaged Q vector"
   ]
  },
  {
   "cell_type": "markdown",
   "id": "f31da8ff",
   "metadata": {},
   "source": [
    "### Explanation: Create_QUA_program Section\n",
    "\n",
    "This run action defines the core QUA pulse sequence for performing resonator spectroscopy. Its main goal is to generate a QUA program that sweeps the readout frequency around the expected resonance for each target qubit and measures the corresponding I/Q response, averaging the results for noise reduction.\n",
    "\n",
    "- **Preparations:** The action first defines relevant variables for the QUA probram. \n",
    "  Relevant sweeps are collected into `node.namespace[\"sweep_axes\"]`, to be used within the QUA program, and also by the `XarrayDataFetcher` to automatically associate the correct coordinate axes to the fetched data.\n",
    "- **Program Definition** It then enters the `with program()` context to define the QUA sequence. Inside, it declares necessary QUA variables and streams, often using helper methods from the loaded `Quam` object (`node.machine`) for consistency.\n",
    "- **Nested Loops:** The core logic involves nested loops:\n",
    "    1.  An outer loop (`for multiplexed_qubits in qubits.batch()`) iterates through groups of qubits that can be measured in parallel.\n",
    "    2.  An averaging loop (`with for_(n,...)`) repeats the measurement `n_avg` times.\n",
    "    3.  A frequency sweep loop (`with for_(*from_array(df, dfs))`) iterates through the calculated frequency detuning values.\n",
    "    4.  An inner loop (`for i, qubit in multiplexed_qubits.items()`) handles operations for each qubit within the current parallel batch.\n",
    "- **Measurement Sequence:** Inside the innermost loop, for each qubit and frequency point:\n",
    "    1.  The resonator's frequency is updated (`rr.update_frequency(...)`).\n",
    "    2.  A measurement pulse is played, and the result demodulated (`rr.measure(\"readout\", ...)`).\n",
    "    3.  A wait time allows the resonator to relax (`rr.wait(...)`).\n",
    "    4.  The raw I/Q results are saved to streams (`save(I[i], ...)`).\n",
    "- **QUAM Integration:** The code heavily relies on the `Quam` object (`node.machine` and `qubit.resonator`) to get parameters like pulse names (\"readout\"), element properties (intermediate frequency, depletion time), and to use helper methods for QUA declaration, frequency updates, measurements, and waits.\n",
    "- **Stream Processing:** After the loops complete, a `with stream_processing()` block defines how the QOP should process the raw data streams. Here, it averages the I and Q values collected over all `n_avg` iterations for each frequency point and saves the resulting averaged vectors (one I vector and one Q vector per qubit).\n",
    "- **Output:** The generated QUA program is stored in `node.namespace[\"qua_program\"]`, and metadata about the sweep axes is stored in `node.namespace[\"sweep_axes\"]` for use in subsequent run actions (like execution and data fetching)."
   ]
  },
  {
   "cell_type": "markdown",
   "id": "f369641d",
   "metadata": {
    "lines_to_next_cell": 2
   },
   "source": [
    "## Simulate Section"
   ]
  },
  {
   "cell_type": "code",
   "execution_count": null,
   "id": "63c19c96",
   "metadata": {
    "incorrectly_encoded_metadata": "{Simulate}",
    "lines_to_next_cell": 2
   },
   "outputs": [],
   "source": [
    "@node.run_action(skip_if=node.parameters.load_data_id is not None or not node.parameters.simulate)\n",
    "def simulate_qua_program(node: QualibrationNode[Parameters, Quam]):\n",
    "    \"\"\"Connect to the QOP and simulate the QUA program\"\"\"\n",
    "    # Connect to the QOP\n",
    "    qmm = node.machine.connect()\n",
    "    # Get the config from the machine\n",
    "    config = node.machine.generate_config()\n",
    "    # Simulate the QUA program, generate the waveform report and plot the simulated samples\n",
    "    samples, fig, wf_report = simulate_and_plot(qmm, config, node.namespace[\"qua_program\"], node.parameters)\n",
    "    # Store the figure, waveform report and simulated samples\n",
    "    node.results[\"simulation\"] = {\"figure\": fig, \"wf_report\": wf_report, \"samples\": samples}"
   ]
  },
  {
   "cell_type": "markdown",
   "id": "f3760f53",
   "metadata": {},
   "source": [
    "### Explanation: Simulate Section\n",
    "\n",
    "This optional run action allows simulating the QUA program before running it on actual hardware.\n",
    "- **Decorator:** `@node.run_action(skip_if=node.parameters.load_data_id is not None or not node.parameters.simulate)` ensures this action only runs if data isn't being loaded (`load_data_id` is None) AND the `simulate` parameter is set to `True`.\n",
    "- **Connection & Config:**\n",
    "    - `qmm = node.machine.connect()`: Uses a QUAM helper method to establish a connection to the Quantum Machines Manager (QMM).\n",
    "    - `config = node.machine.generate_config()`: Uses a QUAM helper method to generate the hardware configuration dictionary based on the current QUAM state.\n",
    "- **Simulation Execution:**\n",
    "    - `samples, fig, wf_report = simulate_and_plot(...)`: Calls a workflow utility function (`simulate_and_plot` from `quam_experiments.workflow`) which likely wraps the standard `qmm.simulate` call. It passes the QMM object, the generated config, the QUA program (stored in `node.namespace[\"qua_program\"]`), and the node parameters. This function typically returns the simulated waveforms (`samples`), a figure visualizing them (`fig`), and potentially a waveform report (`wf_report`).\n",
    "- **Result Storage:**\n",
    "    - `node.results[\"simulation\"] = {\"figure\": fig, \"wf_report\": wf_report, \"samples\": samples}`: Stores the outputs of the simulation (figure, report, samples) in the `node.results` dictionary under the key \"simulation\"."
   ]
  },
  {
   "cell_type": "markdown",
   "id": "587f7c4c",
   "metadata": {
    "lines_to_next_cell": 2
   },
   "source": [
    "## Execute Section"
   ]
  },
  {
   "cell_type": "code",
   "execution_count": null,
   "id": "27d6bd10",
   "metadata": {
    "incorrectly_encoded_metadata": "{Execute}",
    "lines_to_next_cell": 2
   },
   "outputs": [],
   "source": [
    "@node.run_action(skip_if=node.parameters.load_data_id is not None or node.parameters.simulate)\n",
    "def execute_qua_program(node: QualibrationNode[Parameters, Quam]):\n",
    "    \"\"\"Connect to the QOP, execute the QUA program and fetch the raw data and store it in a xarray dataset called \"ds_raw\".\"\"\"\n",
    "    # Connect to the QOP\n",
    "    qmm = node.machine.connect()\n",
    "    # Get the config from the machine\n",
    "    config = node.machine.generate_config()\n",
    "    # Execute the QUA program only if the quantum machine is available (this is to avoid interrupting running jobs).\n",
    "    with qm_session(qmm, config, timeout=node.parameters.timeout) as qm:\n",
    "        # The job is stored in the node namespace to be reused in the fetching_data run_action\n",
    "        node.namespace[\"job\"] = job = qm.execute(node.namespace[\"qua_program\"])\n",
    "        # Display the progress bar\n",
    "        data_fetcher = XarrayDataFetcher(job, node.namespace[\"sweep_axes\"])\n",
    "        for dataset in data_fetcher:\n",
    "            # print_progress_bar(job, iteration_variable=\"n\", total_number_of_iterations=node.parameters.num_averages)\n",
    "            progress_counter(\n",
    "                data_fetcher[\"n\"],\n",
    "                node.parameters.num_averages,\n",
    "                start_time=data_fetcher.t_start,\n",
    "            )\n",
    "        # Display the execution report to expose possible runtime errors\n",
    "        print(job.execution_report())\n",
    "    # Register the raw dataset\n",
    "    node.results[\"ds_raw\"] = dataset"
   ]
  },
  {
   "cell_type": "markdown",
   "id": "47edeff4",
   "metadata": {},
   "source": [
    "### Explanation: Execute Section\n",
    "\n",
    "This run action executes the QUA program on the actual hardware (QOP) and fetches the results.\n",
    "- **Decorator:** `@node.run_action(skip_if=node.parameters.load_data_id is not None or node.parameters.simulate)` ensures this action only runs if data isn't being loaded AND simulation is not enabled.\n",
    "- **Connection & Config:** Similar to the simulate action, it connects to the QMM (`node.machine.connect()`) and generates the hardware config (`node.machine.generate_config()`) using QUAM helpers.\n",
    "- **Execution Context:**\n",
    "    - `with qm_session(qmm, config, timeout=node.parameters.timeout) as qm:`: Uses the `qm_session` context manager (from `qualang_tools.multi_user`) to safely acquire and release the Quantum Machine (`qm`). This prevents multiple scripts from trying to use the same QOP simultaneously. A timeout parameter can be provided.\n",
    "- **Job Execution:**\n",
    "    - `node.namespace[\"job\"] = job = qm.execute(node.namespace[\"qua_program\"])`: Executes the QUA program stored in the namespace and stores the returned `job` object in the namespace as well.\n",
    "- **Data Fetching & Progress:**\n",
    "    - `data_fetcher = XarrayDataFetcher(job, node.namespace[\"sweep_axes\"])`: Initializes the `XarrayDataFetcher` tool, passing it the running `job` and the `sweep_axes` metadata defined earlier. This tool handles fetching data from the QOP streams and organizing it into an xarray Dataset with correctly labeled dimensions.\n",
    "    - `for dataset in data_fetcher:`: Iterates while the job is running. The `XarrayDataFetcher` yields intermediate or final datasets as data becomes available.\n",
    "    - For more details about the `XarrayDataFetcher`, see the documentation at [https://github.com/qua-platform/qualibration-libs](https://github.com/qua-platform/qualibration-libs)\n",
    "    - `progress_counter(...)`: Calls a utility to display a progress bar in the console based on the fetched value of the averaging counter (`data_fetcher[\"n\"]`) compared to the total number of averages (`node.parameters.num_averages`).\n",
    "- **Execution Report:** `print(job.execution_report())`: After the job finishes, prints a report containing information about the execution, including any potential runtime errors.\n",
    "- **Result Storage:** `node.results[\"ds_raw\"] = dataset`: Stores the final fetched dataset (containing the raw averaged I/Q values vs. frequency detuning for each qubit) in the `node.results` dictionary under the key \"ds_raw\"."
   ]
  },
  {
   "cell_type": "markdown",
   "id": "f529ac6b",
   "metadata": {
    "lines_to_next_cell": 2
   },
   "source": [
    "## Load Data Section"
   ]
  },
  {
   "cell_type": "code",
   "execution_count": null,
   "id": "c319fbc0",
   "metadata": {
    "incorrectly_encoded_metadata": "{Load_data}",
    "lines_to_next_cell": 2
   },
   "outputs": [],
   "source": [
    "@node.run_action(skip_if=node.parameters.load_data_id is None)\n",
    "def load_data(node: QualibrationNode[Parameters, Quam]):\n",
    "    \"\"\"Load a previously acquired dataset.\"\"\"\n",
    "    load_data_id = node.parameters.load_data_id\n",
    "    # Load the specified dataset\n",
    "    node.load_from_id(node.parameters.load_data_id)\n",
    "    node.parameters.load_data_id = load_data_id\n",
    "    # Get the active qubits from the loaded node parameters\n",
    "    node.namespace[\"qubits\"] = get_qubits(node)"
   ]
  },
  {
   "cell_type": "markdown",
   "id": "d8687cf9",
   "metadata": {},
   "source": [
    "### Explanation: Load_data Section\n",
    "\n",
    "This run action provides an alternative to executing the experiment; it loads data from a previous run identified by an ID.\n",
    "- **Decorator:** `@node.run_action(skip_if=node.parameters.load_data_id is None)` ensures this action only runs if the `load_data_id` parameter *is* set (i.e., not None).\n",
    "- **Loading:**\n",
    "    - `load_data_id = node.parameters.load_data_id`: Stores the ID locally.\n",
    "    - `node.load_from_id(node.parameters.load_data_id)`: Calls the built-in `QualibrationNode` method to load the parameters and results associated with the specified run ID from the data storage location. This populates `node.parameters` and `node.results` with the loaded data.\n",
    "    - `node.parameters.load_data_id = load_data_id`: Resets the parameter in the current node instance (loading might overwrite it).\n",
    "- **Namespace Setup:** `node.namespace[\"qubits\"] = get_qubits(node)`: Ensures that the list of target qubits (needed for analysis and plotting) is correctly set in the namespace based on the *loaded* parameters."
   ]
  },
  {
   "cell_type": "markdown",
   "id": "6a773987",
   "metadata": {
    "lines_to_next_cell": 2
   },
   "source": [
    "## Analyse Data Section"
   ]
  },
  {
   "cell_type": "code",
   "execution_count": null,
   "id": "677c84c0",
   "metadata": {
    "incorrectly_encoded_metadata": "{Analyse_data}",
    "lines_to_next_cell": 2
   },
   "outputs": [],
   "source": [
    "@node.run_action(skip_if=node.parameters.simulate)\n",
    "def analyse_data(node: QualibrationNode[Parameters, Quam]):\n",
    "    \"\"\"Analyse the raw data and store the fitted data in another xarray dataset \"ds_fit\" and the fitted results in the \"fit_results\" dictionary.\"\"\"\n",
    "    node.results[\"ds_raw\"] = process_raw_dataset(node.results[\"ds_raw\"], node)\n",
    "    node.results[\"ds_fit\"], fit_results = fit_raw_data(node.results[\"ds_raw\"], node)\n",
    "    node.results[\"fit_results\"] = {k: asdict(v) for k, v in fit_results.items()}\n",
    "\n",
    "    # Log the relevant information extracted from the data analysis\n",
    "    log_fitted_results(node.results[\"fit_results\"], log_callable=node.log)\n",
    "    node.outcomes = {\n",
    "        qubit_name: (\"successful\" if fit_result[\"success\"] else \"failed\")\n",
    "        for qubit_name, fit_result in node.results[\"fit_results\"].items()\n",
    "    }"
   ]
  },
  {
   "cell_type": "markdown",
   "id": "5c7d0c82",
   "metadata": {},
   "source": [
    "### Explanation: Analyse_data Section\n",
    "\n",
    "This run action performs post-processing and fitting on the acquired (or loaded) raw data.\n",
    "- **Decorator:** `@node.run_action(skip_if=node.parameters.simulate)` ensures this action is skipped if the node is only simulating the program.\n",
    "- **Data Processing:**\n",
    "    - `node.results[\"ds_raw\"] = process_raw_dataset(node.results[\"ds_raw\"], node)`: Calls an experiment-specific function (`process_raw_dataset`) to perform initial processing on the raw data stored in `node.results[\"ds_raw\"]`. This might involve calculating magnitude and phase from I/Q, unit conversions, or background subtraction. The processed dataset might overwrite the raw one or be stored separately.\n",
    "- **Fitting:**\n",
    "    - `node.results[\"ds_fit\"], fit_results = fit_raw_data(node.results[\"ds_raw\"], node)`: Calls another experiment-specific function (`fit_raw_data`) to fit a model (e.g., Lorentzian) to the processed data. This function likely returns:\n",
    "        - `ds_fit`: An xarray Dataset containing the fitted curves.\n",
    "        - `fit_results`: A dictionary (or custom objects) containing the fitted parameters (like resonance frequency, linewidth, amplitude, offset) and fit success status for each qubit.\n",
    "- **Result Storage:**\n",
    "    - `node.results[\"ds_fit\"] = fitted_ds`: Stores the dataset with the fitted curves.\n",
    "    - `node.results[\"fit_results\"] = {k: asdict(v) for k, v in fit_results.items()}`: Stores the fitted parameters. `asdict` is used if `fit_results` contains custom dataclass objects, converting them to dictionaries for easier serialization.\n",
    "- **Logging & Outcomes:**\n",
    "    - `log_fitted_results(...)`: Calls a function to print or log the key fitted parameters using the QUAlibrate logger.\n",
    "    - `node.outcomes = {...}`: Creates a dictionary `node.outcomes` summarizing the result for each qubit (e.g., \"successful\" or \"failed\") based on the fit success status. This provides a quick summary used by QUAlibrate's reporting and potentially by subsequent nodes in a graph."
   ]
  },
  {
   "cell_type": "markdown",
   "id": "ce3cf3dd",
   "metadata": {
    "lines_to_next_cell": 2
   },
   "source": [
    "## Plot Data Section"
   ]
  },
  {
   "cell_type": "code",
   "execution_count": null,
   "id": "744c5c1e",
   "metadata": {
    "incorrectly_encoded_metadata": "{Plot_data}",
    "lines_to_next_cell": 2
   },
   "outputs": [],
   "source": [
    "@node.run_action(skip_if=node.parameters.simulate)\n",
    "def plot_data(node: QualibrationNode[Parameters, Quam]):\n",
    "    \"\"\"Plot the raw and fitted data in specific figures whose shape is given by qubit.grid_location.\"\"\"\n",
    "    fig_raw_phase = plot_raw_phase(node.results[\"ds_raw\"], node.namespace[\"qubits\"])\n",
    "    fig_fit_amplitude = plot_raw_amplitude_with_fit(\n",
    "        node.results[\"ds_raw\"], node.namespace[\"qubits\"], node.results[\"ds_fit\"]\n",
    "    )\n",
    "    plt.show()\n",
    "    # Store the generated figures\n",
    "    node.results[\"figures\"] = {\n",
    "        \"phase\": fig_raw_phase,\n",
    "        \"amplitude\": fig_fit_amplitude,\n",
    "    }"
   ]
  },
  {
   "cell_type": "markdown",
   "id": "41d25140",
   "metadata": {},
   "source": [
    "### Explanation: Plot_data Section\n",
    "\n",
    "This run action generates plots based on the processed and fitted data.\n",
    "- **Decorator:** `@node.run_action(skip_if=node.parameters.simulate)` skips plotting during simulation.\n",
    "- **Plot Generation:**\n",
    "    - Calls experiment-specific plotting functions (e.g., `plot_raw_phase`, `plot_raw_amplitude_with_fit`) imported earlier. These functions typically take the relevant xarray Datasets (`node.results[\"ds_raw\"]`, `node.results[\"ds_fit\"]`) and the list of qubits (`node.namespace[\"qubits\"]`) as input and return Matplotlib figure objects. The plotting functions might use qubit metadata (like `qubit.grid_location`) to arrange subplots logically.\n",
    "- **Display Plot:** `plt.show()`: Displays the generated plots interactively when the script is run standalone. This line might be commented out for fully automated runs.\n",
    "- **Store Figures:**\n",
    "    - `node.results[\"figures\"] = {\"phase\": fig_raw_phase, \"amplitude\": fig_fit_amplitude}`: Stores the generated Matplotlib figure objects in the `node.results` dictionary under the key \"figures\". QUAlibrate automatically saves these figures when `node.save()` is called, making them viewable in the UI."
   ]
  },
  {
   "cell_type": "markdown",
   "id": "47c102cf",
   "metadata": {
    "lines_to_next_cell": 2
   },
   "source": [
    "## Update State Section"
   ]
  },
  {
   "cell_type": "code",
   "execution_count": null,
   "id": "291377f8",
   "metadata": {
    "incorrectly_encoded_metadata": "{Update_state}",
    "lines_to_next_cell": 2
   },
   "outputs": [],
   "source": [
    "@node.run_action(skip_if=node.parameters.simulate)\n",
    "def update_state(node: QualibrationNode[Parameters, Quam]):\n",
    "    \"\"\"Update the relevant parameters if the qubit data analysis was successful.\"\"\"\n",
    "    with node.record_state_updates():\n",
    "        for q in node.namespace[\"qubits\"]:\n",
    "            if node.outcomes[q.name] == \"failed\":\n",
    "                continue\n",
    "\n",
    "            q.resonator.f_01 = float(node.results[\"fit_results\"][q.name][\"frequency\"])\n",
    "            q.resonator.RF_frequency = float(node.results[\"fit_results\"][q.name][\"frequency\"])"
   ]
  },
  {
   "cell_type": "markdown",
   "id": "1013060e",
   "metadata": {},
   "source": [
    "### Explanation: Update_state Section\n",
    "\n",
    "This run action proposes changes to the QUAM state based on the results obtained from the analysis.\n",
    "- **Decorator:** `@node.run_action(skip_if=node.parameters.simulate)` skips state updates during simulation.\n",
    "- **Context Manager:** `with node.record_state_updates():` is the crucial context manager provided by QUAlibrate for proposing state changes. Any modifications made to QUAM element parameters *inside* this block are tracked.\n",
    "- **Conditional Update:**\n",
    "    - `for q in node.namespace[\"qubits\"]:`: Iterates through the target qubits.\n",
    "    - `if node.outcomes[q.name] == \"failed\": continue`: Checks the outcome stored during analysis. If the fit failed for a specific qubit, no update is proposed for it.\n",
    "- **Parameter Modification:**\n",
    "    - `fitted_freq = node.results[\"fit_results\"][q.name][\"frequency\"]`: Retrieves the fitted resonance frequency for the current qubit `q`.\n",
    "    - `q.resonator.f_01 = float(fitted_freq)`: Modifies the `f_01` attribute (often representing the readout frequency or IF) of the `Resonator` object associated with qubit `q`. Because this happens inside the `record_state_updates` block, it's registered as a proposed change.\n",
    "    - `q.resonator.RF_frequency = float(fitted_freq)`: Similarly updates the RF frequency parameter.\n",
    "- **Behavior:** When run via QUAlibrate, these proposed changes are presented to the user for approval after the node completes. If run standalone, these changes modify the `node.machine` object in memory but are *not* automatically saved back to the QUAM configuration file unless explicitly programmed to do so outside this block."
   ]
  },
  {
   "cell_type": "markdown",
   "id": "94b45111",
   "metadata": {
    "lines_to_next_cell": 2
   },
   "source": [
    "## Save Results Section"
   ]
  },
  {
   "cell_type": "code",
   "execution_count": null,
   "id": "4cba0444",
   "metadata": {
    "incorrectly_encoded_metadata": "{Save_results}",
    "lines_to_next_cell": 2
   },
   "outputs": [],
   "source": [
    "@node.run_action()\n",
    "def save_results(node: QualibrationNode[Parameters, Quam]):\n",
    "    node.save()"
   ]
  },
  {
   "cell_type": "markdown",
   "id": "65ece856",
   "metadata": {},
   "source": [
    "### Explanation: Save_results Section\n",
    "\n",
    "This final run action is responsible for persisting all the relevant information gathered during the node's execution.\n",
    "- **Decorator:** `@node.run_action()`: Typically has no `skip_if` condition, ensuring that saving always occurs (unless the node fails catastrophically earlier).\n",
    "- **Saving Operation:** `node.save()`: Calls the core `save` method of the `QualibrationNode` instance. This method performs several actions:\n",
    "    - Saves the input parameters (`node.parameters`) used for this specific run.\n",
    "    - Saves the contents of the `node.results` dictionary, including any data (like xarray Datasets) and Matplotlib figures.\n",
    "    - Saves the `node.outcomes` dictionary.\n",
    "    - Saves any state updates proposed within the `node.record_state_updates()` block.\n",
    "    - Saves metadata like the node name, execution timestamp, and status.\n",
    "- **Data Location:** The data is saved in a structured directory hierarchy managed by QUAlibrate using the timestamp, unique run id, and node name, allowing for easy retrieval and comparison of results across different runs."
   ]
  },
  {
   "cell_type": "markdown",
   "id": "acde220c",
   "metadata": {},
   "source": []
  }
 ],
 "metadata": {
  "jupytext": {
   "cell_metadata_filter": "incorrectly_encoded_metadata,-all",
   "cell_metadata_json": true,
   "formats": "ipynb,py:percent",
   "main_language": "python"
  },
  "language_info": {
   "name": "python"
  }
 },
 "nbformat": 4,
 "nbformat_minor": 5
}
