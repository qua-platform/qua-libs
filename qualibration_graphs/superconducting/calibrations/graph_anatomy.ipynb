{
 "cells": [
  {
   "cell_type": "markdown",
   "id": "07529f51",
   "metadata": {},
   "source": [
    "# Anatomy of a QualibrationGraph\n",
    "\n",
    "This guide dissects a script that defines and runs a Qualibration Graph, using `91_calibration_graph_retuning_fixed_frequency_transmon.py` as a concrete example. Calibration graphs allow you to chain multiple calibration nodes together to perform complex, automated calibration sequences. We will go through the script section by section, presenting the code first, followed by a detailed explanation of its purpose, focusing on how graphs are constructed and executed programmatically."
   ]
  },
  {
   "cell_type": "markdown",
   "id": "32df8dca",
   "metadata": {},
   "source": [
    "## Imports"
   ]
  },
  {
   "cell_type": "code",
   "execution_count": null,
   "id": "d864b16f",
   "metadata": {},
   "outputs": [],
   "source": [
    "from typing import List\n",
    "from qualibrate.orchestration.basic_orchestrator import BasicOrchestrator\n",
    "from qualibrate.parameters import GraphParameters\n",
    "from qualibrate.qualibration_graph import QualibrationGraph\n",
    "from qualibrate.qualibration_library import QualibrationLibrary"
   ]
  },
  {
   "cell_type": "markdown",
   "id": "3a4d56ca",
   "metadata": {},
   "source": [
    "### Explanation: Imports Section\n",
    "\n",
    "This section imports the necessary classes for defining and running a calibration graph:\n",
    "- `List` from `typing`: Used for type hinting lists (e.g., list of qubit names).\n",
    "- `BasicOrchestrator` from `qualibrate.orchestration.basic_orchestrator`: A standard orchestrator class that manages the execution flow of the graph (e.g., running nodes sequentially based on connectivity).\n",
    "- `GraphParameters` from `qualibrate.parameters`: A base class for defining parameters that apply to the entire graph execution (like the list of target qubits).\n",
    "- `QualibrationGraph` from `qualibrate.qualibration_graph`: The main class used to define the structure and components of a calibration graph.\n",
    "- `QualibrationLibrary` from `qualibrate.qualibration_library`: Used to access the library of available calibration nodes that have been discovered by QUAlibrate."
   ]
  },
  {
   "cell_type": "markdown",
   "id": "c69ee75e",
   "metadata": {},
   "source": [
    "## Load Library"
   ]
  },
  {
   "cell_type": "code",
   "execution_count": null,
   "id": "452486fe",
   "metadata": {},
   "outputs": [],
   "source": [
    "# Get the active library containing discovered calibration nodes\n",
    "library = QualibrationLibrary.get_active_library()"
   ]
  },
  {
   "cell_type": "markdown",
   "id": "1b47c915",
   "metadata": {},
   "source": [
    "### Explanation: Load Library Section\n",
    "\n",
    "- `library = QualibrationLibrary.get_active_library()`: Retrieves the collection of all calibration nodes that QUAlibrate has discovered (typically from the `calibration_graph` folder). This `library` object acts as a repository from which nodes can be selected and copied to build the graph."
   ]
  },
  {
   "cell_type": "markdown",
   "id": "b3ef29b1",
   "metadata": {
    "lines_to_next_cell": 2
   },
   "source": [
    "## Define Graph Parameters"
   ]
  },
  {
   "cell_type": "code",
   "execution_count": null,
   "id": "ec2b2413",
   "metadata": {},
   "outputs": [],
   "source": [
    "# Define parameters specific to this graph execution\n",
    "class Parameters(GraphParameters):\n",
    "    qubits: List[str] = [\"q1\"]  # Default target qubit(s)"
   ]
  },
  {
   "cell_type": "markdown",
   "id": "cdc7298c",
   "metadata": {},
   "source": [
    "### Explanation: Define Graph Parameters Section\n",
    "\n",
    "- `class Parameters(GraphParameters): ...`: Defines a class inheriting from `GraphParameters`. This holds parameters that apply globally to the graph execution, such as the list of target `qubits` for which the graph sequence should be run. Default values can be provided here, which can be overridden when the graph is executed."
   ]
  },
  {
   "cell_type": "markdown",
   "id": "9ce53fb8",
   "metadata": {},
   "source": [
    "## Instantiate Graph"
   ]
  },
  {
   "cell_type": "code",
   "execution_count": null,
   "id": "55d80f6e",
   "metadata": {},
   "outputs": [],
   "source": [
    "g = QualibrationGraph(\n",
    "    name=\"FixedFrequencyTransmon_Retuning\",\n",
    "    parameters=Parameters(),\n",
    "    nodes={\n",
    "        \"IQ_blobs\": library.nodes[\"07_iq_blobs\"].copy(name=\"IQ_blobs\"),\n",
    "        \"ramsey\": library.nodes[\"06a_ramsey\"].copy(name=\"ramsey\", use_state_discrimination=True),\n",
    "        \"power_rabi_error_amplification_x180\": library.nodes[\"04b_power_rabi\"].copy(\n",
    "            name=\"power_rabi_error_amplification_x180\",\n",
    "            max_number_pulses_per_sweep=200,\n",
    "            min_amp_factor=0.98,\n",
    "            max_amp_factor=1.02,\n",
    "            amp_factor_step=0.002,\n",
    "            use_state_discrimination=True,\n",
    "        ),\n",
    "        \"power_rabi_error_amplification_x90\": library.nodes[\"04b_power_rabi\"].copy(\n",
    "            name=\"power_rabi_error_amplification_x90\",\n",
    "            max_number_pulses_per_sweep=200,\n",
    "            min_amp_factor=0.98,\n",
    "            max_amp_factor=1.02,\n",
    "            amp_factor_step=0.002,\n",
    "            operation=\"x90\",\n",
    "            update_x90=False,\n",
    "            use_state_discrimination=True,\n",
    "        ),\n",
    "        \"Randomized_benchmarking\": library.nodes[\"11a_single_qubit_randomized_benchmarking\"].copy(\n",
    "            name=\"Randomized_benchmarking\",\n",
    "            use_state_discrimination=True,\n",
    "            delta_clifford=20,\n",
    "            num_random_sequences=500,\n",
    "        ),\n",
    "    },\n",
    "    connectivity=[\n",
    "        (\"IQ_blobs\", \"ramsey\"),\n",
    "        (\"ramsey\", \"power_rabi_error_amplification_x180\"),\n",
    "        (\"power_rabi_error_amplification_x180\", \"power_rabi_error_amplification_x90\"),\n",
    "        (\"power_rabi_error_amplification_x90\", \"Randomized_benchmarking\"),\n",
    "    ],\n",
    "    orchestrator=BasicOrchestrator(skip_failed=False),\n",
    ")"
   ]
  },
  {
   "cell_type": "markdown",
   "id": "e0f0bda3",
   "metadata": {},
   "source": [
    "### Explanation: Instantiate Graph Section\n",
    "\n",
    "- `g = QualibrationGraph(...)`: Creates the graph object. Key arguments are:\n",
    "    - `name`: A unique name for this specific graph definition (e.g., \"FixedFrequencyTransmon_Retuning\").\n",
    "    - `parameters`: An instance of the `Parameters` class defined above, linking the graph-level parameters.\n",
    "    - `nodes`: A dictionary defining the nodes included in this graph.\n",
    "        - Each key is a unique identifier for the node *within this graph* (e.g., \"IQ_blobs\", \"ramsey\"). These names are used in the `connectivity` list.\n",
    "        - Each value is created by copying a node from the `library` using `library.nodes[\"<original_node_name>\"].copy(...)`. The `.copy()` method is essential to ensure that modifications made here (like renaming or overriding parameters) don't affect the original node definition in the library.\n",
    "        - Node instances within the graph can be renamed using the `name` argument in `.copy()`. If omitted, the graph-internal name (the dictionary key) is used.\n",
    "        - Default parameters of a node can be overridden for its specific instance within this graph by passing them as keyword arguments to `.copy()` (e.g., `use_state_discrimination=True` is passed to the \"ramsey\" node copy).\n",
    "    - `connectivity`: A list of tuples defining the execution dependencies. Each tuple `(source_node_name, target_node_name)` indicates that the node identified by `target_node_name` (the key in the `nodes` dictionary) should run after the node identified by `source_node_name` completes successfully (behavior depends on the orchestrator). This defines the execution flow of the graph. Nodes not listed as targets are starting points.\n",
    "    - `orchestrator`: An instance of an orchestrator class that manages how the graph is executed. `BasicOrchestrator` runs nodes sequentially based on the `connectivity` list. `skip_failed=False` means the graph execution will stop if any node fails; setting it to `True` would allow the graph to continue with other independent branches if one fails."
   ]
  },
  {
   "cell_type": "markdown",
   "id": "bcd2c40d",
   "metadata": {},
   "source": [
    "## Run Graph"
   ]
  },
  {
   "cell_type": "code",
   "execution_count": null,
   "id": "22989ffb",
   "metadata": {},
   "outputs": [],
   "source": [
    "# Run the graph, passing runtime parameters (overriding defaults if needed)\n",
    "# Example: Run for multiple qubits\n",
    "# g.run(qubits=[f\"q{i+1}\" for i in range(0, 4)])\n",
    "# Example: Run for specific qubits\n",
    "g.run(qubits=[\"q1\", \"q3\"])"
   ]
  },
  {
   "cell_type": "markdown",
   "id": "003162c1",
   "metadata": {},
   "source": [
    "### Explanation: Run Graph Section\n",
    "\n",
    "- `g.run(qubits=[\"q1\", \"q3\"])`: Executes the defined graph `g`.\n",
    "- Runtime parameters (like the specific `qubits` to run the calibration sequence on) are passed as keyword arguments to the `.run()` method. These values override the defaults defined in the graph's `Parameters` class for this specific execution.\n",
    "- The orchestrator manages the execution, iterating through the specified qubits (or other parallelizable parameters defined in the orchestrator or graph parameters) and running the sequence of connected nodes for each one according to the defined `connectivity` and orchestrator logic."
   ]
  }
 ],
 "metadata": {
  "jupytext": {
   "cell_metadata_filter": "incorrectly_encoded_metadata,-all",
   "cell_metadata_json": true,
   "formats": "ipynb,py:percent",
   "main_language": "python"
  },
  "kernelspec": {
   "display_name": ".venv",
   "language": "python",
   "name": "python3"
  },
  "language_info": {
   "name": "python",
   "version": "3.11.11"
  }
 },
 "nbformat": 4,
 "nbformat_minor": 5
}
